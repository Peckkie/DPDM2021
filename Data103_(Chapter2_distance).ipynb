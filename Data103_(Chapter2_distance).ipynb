{
  "nbformat": 4,
  "nbformat_minor": 0,
  "metadata": {
    "colab": {
      "name": "Data103_(Chapter2 distance).ipynb",
      "provenance": [],
      "collapsed_sections": [],
      "toc_visible": true,
      "authorship_tag": "ABX9TyOG47ipkObWFXedfZ7u3Ek4",
      "include_colab_link": true
    },
    "kernelspec": {
      "name": "python3",
      "display_name": "Python 3"
    },
    "language_info": {
      "name": "python"
    }
  },
  "cells": [
    {
      "cell_type": "markdown",
      "metadata": {
        "id": "view-in-github",
        "colab_type": "text"
      },
      "source": [
        "<a href=\"https://colab.research.google.com/github/Peckkie/DPDM2021/blob/main/Data103_(Chapter2_distance).ipynb\" target=\"_parent\"><img src=\"https://colab.research.google.com/assets/colab-badge.svg\" alt=\"Open In Colab\"/></a>"
      ]
    },
    {
      "cell_type": "code",
      "metadata": {
        "id": "Wlunapnj2Sv4"
      },
      "source": [
        "import numpy as np #package สำหรับทำงานกับข้อมูลที่เป็นตัวเลข (ในรูปแบบ matrix)"
      ],
      "execution_count": 1,
      "outputs": []
    },
    {
      "cell_type": "markdown",
      "metadata": {
        "id": "TsgVxJx93BSh"
      },
      "source": [
        "# Numpy Array"
      ]
    },
    {
      "cell_type": "markdown",
      "metadata": {
        "id": "OV0d_TrV3GdS"
      },
      "source": [
        "## Create numpy array"
      ]
    },
    {
      "cell_type": "code",
      "metadata": {
        "colab": {
          "base_uri": "https://localhost:8080/"
        },
        "id": "4EvaJQ7d3Ft3",
        "outputId": "7a940d81-43e5-4966-f449-0d564601f27f"
      },
      "source": [
        "np_a = np.array([[1,2,3],[4,5,6]]) # np.array(list), list = [[1,2,3],[4,5,6]]\n",
        "np_a"
      ],
      "execution_count": 2,
      "outputs": [
        {
          "output_type": "execute_result",
          "data": {
            "text/plain": [
              "array([[1, 2, 3],\n",
              "       [4, 5, 6]])"
            ]
          },
          "metadata": {
            "tags": []
          },
          "execution_count": 2
        }
      ]
    },
    {
      "cell_type": "code",
      "metadata": {
        "colab": {
          "base_uri": "https://localhost:8080/"
        },
        "id": "CpRG5Z9m2zi7",
        "outputId": "c120238c-7b15-4f96-c9fe-295d3ae7cc83"
      },
      "source": [
        "np_a.shape #มิติข้อมูล"
      ],
      "execution_count": 3,
      "outputs": [
        {
          "output_type": "execute_result",
          "data": {
            "text/plain": [
              "(2, 3)"
            ]
          },
          "metadata": {
            "tags": []
          },
          "execution_count": 3
        }
      ]
    },
    {
      "cell_type": "code",
      "metadata": {
        "colab": {
          "base_uri": "https://localhost:8080/"
        },
        "id": "CtzMMqE63qaD",
        "outputId": "502b0d24-ce61-4f98-f4ac-df2990dbacb7"
      },
      "source": [
        "np_b = np.array([[1, 4], [2, 5], [3,6]]) \n",
        "print(np_b.shape)\n",
        "np_b"
      ],
      "execution_count": 4,
      "outputs": [
        {
          "output_type": "stream",
          "text": [
            "(3, 2)\n"
          ],
          "name": "stdout"
        },
        {
          "output_type": "execute_result",
          "data": {
            "text/plain": [
              "array([[1, 4],\n",
              "       [2, 5],\n",
              "       [3, 6]])"
            ]
          },
          "metadata": {
            "tags": []
          },
          "execution_count": 4
        }
      ]
    },
    {
      "cell_type": "markdown",
      "metadata": {
        "id": "B3xn_Jm8DyBA"
      },
      "source": [
        "## คำสั่งสร้าง matrix เริ้มต้น zeros, ones"
      ]
    },
    {
      "cell_type": "code",
      "metadata": {
        "colab": {
          "base_uri": "https://localhost:8080/"
        },
        "id": "a0kCdwVbD7hM",
        "outputId": "a88fbec9-b342-401f-ced5-f9850ef5b589"
      },
      "source": [
        "np.zeros((3,2)) # zeros , identity การบวก อะไรมา+ก็จะได้ตัวนัั้น"
      ],
      "execution_count": 49,
      "outputs": [
        {
          "output_type": "execute_result",
          "data": {
            "text/plain": [
              "array([[0., 0.],\n",
              "       [0., 0.],\n",
              "       [0., 0.]])"
            ]
          },
          "metadata": {
            "tags": []
          },
          "execution_count": 49
        }
      ]
    },
    {
      "cell_type": "code",
      "metadata": {
        "colab": {
          "base_uri": "https://localhost:8080/"
        },
        "id": "OLFgvOGeD_yL",
        "outputId": "9a94bb62-a6a1-47de-f32c-7bdaa0f31b9a"
      },
      "source": [
        "np.ones((3,2)) #ones, identity การคูณ อะไรมาคูณก็จะได้ตัวนัั้น"
      ],
      "execution_count": 52,
      "outputs": [
        {
          "output_type": "execute_result",
          "data": {
            "text/plain": [
              "array([[1., 1.],\n",
              "       [1., 1.],\n",
              "       [1., 1.]])"
            ]
          },
          "metadata": {
            "tags": []
          },
          "execution_count": 52
        }
      ]
    },
    {
      "cell_type": "markdown",
      "metadata": {
        "id": "N0GtLybTEUuo"
      },
      "source": [
        "## คำสั่งสร้าง matrix เริ้มต้นด้วย random "
      ]
    },
    {
      "cell_type": "code",
      "metadata": {
        "colab": {
          "base_uri": "https://localhost:8080/"
        },
        "id": "isAA3qoCEcuz",
        "outputId": "a8e0ee73-6cb1-4e90-ac19-308a87c14d91"
      },
      "source": [
        "np.random.randn(3,2) #สรุ่มเลขมาสร้าง, randn: normal distribution"
      ],
      "execution_count": 51,
      "outputs": [
        {
          "output_type": "execute_result",
          "data": {
            "text/plain": [
              "array([[-1.09324502, -0.58052369],\n",
              "       [ 1.15637293, -0.20162839],\n",
              "       [ 0.21705711, -0.4972386 ]])"
            ]
          },
          "metadata": {
            "tags": []
          },
          "execution_count": 51
        }
      ]
    },
    {
      "cell_type": "code",
      "metadata": {
        "colab": {
          "base_uri": "https://localhost:8080/"
        },
        "id": "9x6D29sIE8pz",
        "outputId": "60cc143e-110a-45b3-a11d-d39ba2146c5f"
      },
      "source": [
        "np.random.randint(0,10,(3,2)) #randint: int"
      ],
      "execution_count": 53,
      "outputs": [
        {
          "output_type": "execute_result",
          "data": {
            "text/plain": [
              "array([[7, 5],\n",
              "       [7, 6],\n",
              "       [2, 9]])"
            ]
          },
          "metadata": {
            "tags": []
          },
          "execution_count": 53
        }
      ]
    },
    {
      "cell_type": "markdown",
      "metadata": {
        "id": "4aYGO1DeDBEr"
      },
      "source": [
        "## Indexing "
      ]
    },
    {
      "cell_type": "code",
      "metadata": {
        "colab": {
          "base_uri": "https://localhost:8080/"
        },
        "id": "POQ7StkxC9VX",
        "outputId": "869d9813-e327-4405-edc0-afa7d8a878ab"
      },
      "source": [
        "np_b[0,1] #การชี้สมาชิกใน numpy matrix ใช้ ชื่อ matrix[แถว,หลัก]"
      ],
      "execution_count": 45,
      "outputs": [
        {
          "output_type": "execute_result",
          "data": {
            "text/plain": [
              "4"
            ]
          },
          "metadata": {
            "tags": []
          },
          "execution_count": 45
        }
      ]
    },
    {
      "cell_type": "markdown",
      "metadata": {
        "id": "SkLIv6UT4iCE"
      },
      "source": [
        "### Transpose matrix\n",
        "Link: https://numpy.org/doc/stable/reference/generated/numpy.matrix.transpose.html"
      ]
    },
    {
      "cell_type": "code",
      "metadata": {
        "colab": {
          "base_uri": "https://localhost:8080/"
        },
        "id": "qeQjphmg3-mc",
        "outputId": "d4a4425f-bf06-4cd0-e3f2-6a98bfa02a42"
      },
      "source": [
        "#Transpose\n",
        "np_b.T"
      ],
      "execution_count": 5,
      "outputs": [
        {
          "output_type": "execute_result",
          "data": {
            "text/plain": [
              "array([[1, 2, 3],\n",
              "       [4, 5, 6]])"
            ]
          },
          "metadata": {
            "tags": []
          },
          "execution_count": 5
        }
      ]
    },
    {
      "cell_type": "markdown",
      "metadata": {
        "id": "08ZVzwewFpVo"
      },
      "source": [
        "### matrix multiplication หลักตัวหน้า = แถวตัวหลัง"
      ]
    },
    {
      "cell_type": "code",
      "metadata": {
        "colab": {
          "base_uri": "https://localhost:8080/"
        },
        "id": "kfdoI1p6F7pM",
        "outputId": "783fb458-b9b3-41e1-b53a-77f598e8adeb"
      },
      "source": [
        "np_a"
      ],
      "execution_count": 56,
      "outputs": [
        {
          "output_type": "execute_result",
          "data": {
            "text/plain": [
              "array([[1, 2, 3],\n",
              "       [4, 5, 6]])"
            ]
          },
          "metadata": {
            "tags": []
          },
          "execution_count": 56
        }
      ]
    },
    {
      "cell_type": "code",
      "metadata": {
        "colab": {
          "base_uri": "https://localhost:8080/"
        },
        "id": "0E7gnaeaF54-",
        "outputId": "98d13321-f766-41f5-f66d-3236a9dbe416"
      },
      "source": [
        "np_b"
      ],
      "execution_count": 55,
      "outputs": [
        {
          "output_type": "execute_result",
          "data": {
            "text/plain": [
              "array([[1, 4],\n",
              "       [2, 5],\n",
              "       [3, 6]])"
            ]
          },
          "metadata": {
            "tags": []
          },
          "execution_count": 55
        }
      ]
    },
    {
      "cell_type": "code",
      "metadata": {
        "colab": {
          "base_uri": "https://localhost:8080/"
        },
        "id": "rwnyGCCQFvFO",
        "outputId": "c62068ba-d0ea-4a9e-89c6-7c68d5d02f42"
      },
      "source": [
        "np.dot(np_b,np_a)  #สลับตัวผลลัพธ์ไม่เหมือนกัน"
      ],
      "execution_count": 54,
      "outputs": [
        {
          "output_type": "execute_result",
          "data": {
            "text/plain": [
              "array([[17, 22, 27],\n",
              "       [22, 29, 36],\n",
              "       [27, 36, 45]])"
            ]
          },
          "metadata": {
            "tags": []
          },
          "execution_count": 54
        }
      ]
    },
    {
      "cell_type": "code",
      "metadata": {
        "colab": {
          "base_uri": "https://localhost:8080/"
        },
        "id": "dwOEr74rFvO4",
        "outputId": "c065f2d0-8087-4044-8cb5-c8b1613df7f0"
      },
      "source": [
        "np.dot(np_a,np_b) #สลับตัวผลลัพธ์ไม่เหมือนกัน"
      ],
      "execution_count": 57,
      "outputs": [
        {
          "output_type": "execute_result",
          "data": {
            "text/plain": [
              "array([[14, 32],\n",
              "       [32, 77]])"
            ]
          },
          "metadata": {
            "tags": []
          },
          "execution_count": 57
        }
      ]
    },
    {
      "cell_type": "code",
      "metadata": {
        "id": "Q5uLh7ZpGBbV"
      },
      "source": [
        ""
      ],
      "execution_count": null,
      "outputs": []
    },
    {
      "cell_type": "markdown",
      "metadata": {
        "id": "Jp1UlKkB41XX"
      },
      "source": [
        "### Useful numpy function ***"
      ]
    },
    {
      "cell_type": "markdown",
      "metadata": {
        "id": "9zIiKjON4831"
      },
      "source": [
        "#### summation  $\\sum$ "
      ]
    },
    {
      "cell_type": "code",
      "metadata": {
        "colab": {
          "base_uri": "https://localhost:8080/"
        },
        "id": "ckgrWafI4bP7",
        "outputId": "37a8046d-a4bf-428b-e9bd-95450b18bb4f"
      },
      "source": [
        "np_a = np.array([[1,2,3],[4,5,6]]) \n",
        "np_a"
      ],
      "execution_count": 6,
      "outputs": [
        {
          "output_type": "execute_result",
          "data": {
            "text/plain": [
              "array([[1, 2, 3],\n",
              "       [4, 5, 6]])"
            ]
          },
          "metadata": {
            "tags": []
          },
          "execution_count": 6
        }
      ]
    },
    {
      "cell_type": "code",
      "metadata": {
        "colab": {
          "base_uri": "https://localhost:8080/"
        },
        "id": "Thdlwx685HhP",
        "outputId": "3be8ad49-27e8-447a-8fc5-43356aebd863"
      },
      "source": [
        "np.sum(np_a)  #sum all"
      ],
      "execution_count": 7,
      "outputs": [
        {
          "output_type": "execute_result",
          "data": {
            "text/plain": [
              "21"
            ]
          },
          "metadata": {
            "tags": []
          },
          "execution_count": 7
        }
      ]
    },
    {
      "cell_type": "code",
      "metadata": {
        "colab": {
          "base_uri": "https://localhost:8080/"
        },
        "id": "E5FgHI965Kby",
        "outputId": "a1bdfd5d-52e2-4860-961c-53a246bb490e"
      },
      "source": [
        "#sum เเนวแถว\n",
        "np.sum(np_a, axis=0)"
      ],
      "execution_count": 10,
      "outputs": [
        {
          "output_type": "execute_result",
          "data": {
            "text/plain": [
              "array([5, 7, 9])"
            ]
          },
          "metadata": {
            "tags": []
          },
          "execution_count": 10
        }
      ]
    },
    {
      "cell_type": "code",
      "metadata": {
        "colab": {
          "base_uri": "https://localhost:8080/"
        },
        "id": "oQVlMOgk5WjH",
        "outputId": "55e5f126-b6df-4057-a972-b1a522d754de"
      },
      "source": [
        "# เเนวคอลัมน์\n",
        "np.sum(np_a, axis=1)"
      ],
      "execution_count": 11,
      "outputs": [
        {
          "output_type": "execute_result",
          "data": {
            "text/plain": [
              "array([ 6, 15])"
            ]
          },
          "metadata": {
            "tags": []
          },
          "execution_count": 11
        }
      ]
    },
    {
      "cell_type": "code",
      "metadata": {
        "colab": {
          "base_uri": "https://localhost:8080/"
        },
        "id": "bScsgsBe8lwa",
        "outputId": "8042a8d8-f51c-4da9-feef-0eccc19e8bc0"
      },
      "source": [
        "np.sum(np_a)"
      ],
      "execution_count": 19,
      "outputs": [
        {
          "output_type": "execute_result",
          "data": {
            "text/plain": [
              "21"
            ]
          },
          "metadata": {
            "tags": []
          },
          "execution_count": 19
        }
      ]
    },
    {
      "cell_type": "code",
      "metadata": {
        "colab": {
          "base_uri": "https://localhost:8080/"
        },
        "id": "_OQs1Y1C6qhN",
        "outputId": "57d416ef-820e-4a86-9973-ab9c9230da5b"
      },
      "source": [
        "## วนลูปเอง\n",
        "print(np_a.shape) #เเสดงค่า มิติข้อมูลมีกี่เเถวกี่คอมลัมน์\n",
        "\n",
        "sum_all = 0\n",
        "for row in range(np_a.shape[0]): #ลูป row\n",
        "    for col in range(np_a.shape[1]): #ลูป col\n",
        "        sum_all = sum_all + np_a[row,col] \n",
        "sum_all"
      ],
      "execution_count": 17,
      "outputs": [
        {
          "output_type": "stream",
          "text": [
            "(2, 3)\n"
          ],
          "name": "stdout"
        },
        {
          "output_type": "execute_result",
          "data": {
            "text/plain": [
              "21"
            ]
          },
          "metadata": {
            "tags": []
          },
          "execution_count": 17
        }
      ]
    },
    {
      "cell_type": "code",
      "metadata": {
        "colab": {
          "base_uri": "https://localhost:8080/"
        },
        "id": "IwNqDa8b88jl",
        "outputId": "a94334db-3f64-49be-951a-f691643e9c6f"
      },
      "source": [
        "## วนลูปเอง\n",
        "# sum เเนวแถว\n",
        "print(np.sum(np_a, axis=0))\n",
        "\n",
        "sum_vert = np.zeros((np_a.shape[1]))#สร้าง matrix 0 มิติ 3x1\n",
        "for col in range(np_a.shape[1]):\n",
        "    for row in range(np_a.shape[0]):\n",
        "        sum_vert[col] = sum_vert[col] + np_a[row,col] \n",
        "sum_vert"
      ],
      "execution_count": 43,
      "outputs": [
        {
          "output_type": "stream",
          "text": [
            "[5 7 9]\n"
          ],
          "name": "stdout"
        },
        {
          "output_type": "execute_result",
          "data": {
            "text/plain": [
              "array([5., 7., 9.])"
            ]
          },
          "metadata": {
            "tags": []
          },
          "execution_count": 43
        }
      ]
    },
    {
      "cell_type": "code",
      "metadata": {
        "colab": {
          "base_uri": "https://localhost:8080/"
        },
        "id": "8ShUSqdH9UMI",
        "outputId": "f9a07c58-8149-478d-8e57-280d9825f362"
      },
      "source": [
        "## วนลูปเอง\n",
        "# sum เเนวคอลัมน์\n",
        "print(np.sum(np_a, axis=1))\n",
        "\n",
        "sum_vert = np.zeros((np_a.shape[0]))#สร้าง matrix 0 มิติ 3x1\n",
        "for row in range(np_a.shape[0]):\n",
        "    for col in range(np_a.shape[1]): # เปลี่ยน row,col วนอะไรก่อนก็ได้ \n",
        "        sum_vert[row] = sum_vert[row] + np_a[row,col] \n",
        "sum_vert"
      ],
      "execution_count": 42,
      "outputs": [
        {
          "output_type": "stream",
          "text": [
            "[ 6 15]\n"
          ],
          "name": "stdout"
        },
        {
          "output_type": "execute_result",
          "data": {
            "text/plain": [
              "array([ 6., 15.])"
            ]
          },
          "metadata": {
            "tags": []
          },
          "execution_count": 42
        }
      ]
    },
    {
      "cell_type": "code",
      "metadata": {
        "colab": {
          "base_uri": "https://localhost:8080/"
        },
        "id": "EbuBNVo0B_IW",
        "outputId": "d24ea363-4806-44e6-a578-bc2705bf0eaa"
      },
      "source": [
        "## วนลูปเอง\n",
        "#เขียนโคดให้มันง่ายขึ้น\n",
        "\n",
        "n_rows, n_cols = np_a.shape\n",
        "\n",
        "sum_vert = np.zeros((np_a.shape[0]))\n",
        "for row in range(n_rows):\n",
        "    for col in range(n_cols): \n",
        "        sum_vert[row] = sum_vert[row] + np_a[row,col] \n",
        "sum_vert"
      ],
      "execution_count": 41,
      "outputs": [
        {
          "output_type": "execute_result",
          "data": {
            "text/plain": [
              "array([ 6., 15.])"
            ]
          },
          "metadata": {
            "tags": []
          },
          "execution_count": 41
        }
      ]
    },
    {
      "cell_type": "markdown",
      "metadata": {
        "id": "VRh8jYkOCxLU"
      },
      "source": [
        "##### Array Slicing : เลือกเเสดง"
      ]
    },
    {
      "cell_type": "code",
      "metadata": {
        "colab": {
          "base_uri": "https://localhost:8080/"
        },
        "id": "bOdk1BHLCwTo",
        "outputId": "58ea5ede-4738-4525-a62e-18fe29041034"
      },
      "source": [
        "np_a"
      ],
      "execution_count": 46,
      "outputs": [
        {
          "output_type": "execute_result",
          "data": {
            "text/plain": [
              "array([[1, 2, 3],\n",
              "       [4, 5, 6]])"
            ]
          },
          "metadata": {
            "tags": []
          },
          "execution_count": 46
        }
      ]
    },
    {
      "cell_type": "code",
      "metadata": {
        "colab": {
          "base_uri": "https://localhost:8080/"
        },
        "id": "imJ_d5nLDTn1",
        "outputId": "ee0b4bf0-f397-4808-cfb2-d9df96105872"
      },
      "source": [
        "np_a[:,1] #เลือกเอาข้อมูลเฉพาะเเถวที่ 2 ตำเเหน่งเเถว array ที่ 1"
      ],
      "execution_count": 47,
      "outputs": [
        {
          "output_type": "execute_result",
          "data": {
            "text/plain": [
              "array([2, 5])"
            ]
          },
          "metadata": {
            "tags": []
          },
          "execution_count": 47
        }
      ]
    },
    {
      "cell_type": "code",
      "metadata": {
        "colab": {
          "base_uri": "https://localhost:8080/"
        },
        "id": "QQV5k5P7DTqg",
        "outputId": "930578c2-c40a-49d0-cd89-0834ca224060"
      },
      "source": [
        "np_a[1,:]#เลือกเอาข้อมูลเฉพาะคอลัมน์ที่ 2 ตำเเหน่งคอลัมน์ array ที่ 1"
      ],
      "execution_count": 48,
      "outputs": [
        {
          "output_type": "execute_result",
          "data": {
            "text/plain": [
              "array([4, 5, 6])"
            ]
          },
          "metadata": {
            "tags": []
          },
          "execution_count": 48
        }
      ]
    },
    {
      "cell_type": "markdown",
      "metadata": {
        "id": "FRRCoVhF52f2"
      },
      "source": [
        "#### Average $\\mu$ , $\\bar{x}$"
      ]
    },
    {
      "cell_type": "code",
      "metadata": {
        "colab": {
          "base_uri": "https://localhost:8080/"
        },
        "id": "MByxkMFT5hd4",
        "outputId": "4e3ea0da-9c62-4cde-ec30-ff34048f77d8"
      },
      "source": [
        "np_a = np.array([[1,2,3],[4,5,6]]) \n",
        "np_a"
      ],
      "execution_count": 12,
      "outputs": [
        {
          "output_type": "execute_result",
          "data": {
            "text/plain": [
              "array([[1, 2, 3],\n",
              "       [4, 5, 6]])"
            ]
          },
          "metadata": {
            "tags": []
          },
          "execution_count": 12
        }
      ]
    },
    {
      "cell_type": "code",
      "metadata": {
        "colab": {
          "base_uri": "https://localhost:8080/"
        },
        "id": "o0-jWNXL6h5v",
        "outputId": "ad1149bb-69e8-40b1-bced-c2eb2d185ea2"
      },
      "source": [
        "np.mean(np_a) #mean all"
      ],
      "execution_count": 13,
      "outputs": [
        {
          "output_type": "execute_result",
          "data": {
            "text/plain": [
              "3.5"
            ]
          },
          "metadata": {
            "tags": []
          },
          "execution_count": 13
        }
      ]
    },
    {
      "cell_type": "code",
      "metadata": {
        "colab": {
          "base_uri": "https://localhost:8080/"
        },
        "id": "BWgD1eAs6jjL",
        "outputId": "e5f90095-4c3f-479d-c965-1d81f760b0e0"
      },
      "source": [
        "np.mean(np_a,axis = 0) #mean เเนวแถว"
      ],
      "execution_count": 14,
      "outputs": [
        {
          "output_type": "execute_result",
          "data": {
            "text/plain": [
              "array([2.5, 3.5, 4.5])"
            ]
          },
          "metadata": {
            "tags": []
          },
          "execution_count": 14
        }
      ]
    },
    {
      "cell_type": "code",
      "metadata": {
        "colab": {
          "base_uri": "https://localhost:8080/"
        },
        "id": "BBwjjLkn6ols",
        "outputId": "3d6271d8-b599-42f9-ace7-e71369448a15"
      },
      "source": [
        "np.mean(np_a,axis = 1) #mean เเนวคอลัมน์"
      ],
      "execution_count": 15,
      "outputs": [
        {
          "output_type": "execute_result",
          "data": {
            "text/plain": [
              "array([2., 5.])"
            ]
          },
          "metadata": {
            "tags": []
          },
          "execution_count": 15
        }
      ]
    },
    {
      "cell_type": "markdown",
      "metadata": {
        "id": "M76u4mNPHa46"
      },
      "source": [
        "# Distance Matrix"
      ]
    },
    {
      "cell_type": "code",
      "metadata": {
        "colab": {
          "base_uri": "https://localhost:8080/"
        },
        "id": "c30lG6OZHgl3",
        "outputId": "1a335afd-d19b-424b-dac3-86ba59df7176"
      },
      "source": [
        "data1 = np.array([[1,2], [3,5], [2,0], [4,5]])\n",
        "data1"
      ],
      "execution_count": 58,
      "outputs": [
        {
          "output_type": "execute_result",
          "data": {
            "text/plain": [
              "array([[1, 2],\n",
              "       [3, 5],\n",
              "       [2, 0],\n",
              "       [4, 5]])"
            ]
          },
          "metadata": {
            "tags": []
          },
          "execution_count": 58
        }
      ]
    },
    {
      "cell_type": "code",
      "metadata": {
        "colab": {
          "base_uri": "https://localhost:8080/",
          "height": 282
        },
        "id": "qoY_8cg1H1be",
        "outputId": "8ee11890-88ba-4f91-a40a-d3169281cdca"
      },
      "source": [
        "from matplotlib import pyplot as plt\n",
        "plt.plot(data1[:,0], data1[:,1],'o') #แกน X: data1[:,0] ,Y: data1[:,1]"
      ],
      "execution_count": 60,
      "outputs": [
        {
          "output_type": "execute_result",
          "data": {
            "text/plain": [
              "[<matplotlib.lines.Line2D at 0x7f29009f33d0>]"
            ]
          },
          "metadata": {
            "tags": []
          },
          "execution_count": 60
        },
        {
          "output_type": "display_data",
          "data": {
            "image/png": "[encoded data removed]",
            "text/plain": [
              "<Figure size 432x288 with 1 Axes>"
            ]
          },
          "metadata": {
            "tags": [],
            "needs_background": "light"
          }
        }
      ]
    },
    {
      "cell_type": "markdown",
      "metadata": {
        "id": "_EQAArV8Ivp5"
      },
      "source": [
        "## Euclidean Distance \n",
        "$\\sqrt{(x_1 - x_2)^2 - (y_1 - y_2)^2} $"
      ]
    },
    {
      "cell_type": "code",
      "metadata": {
        "colab": {
          "base_uri": "https://localhost:8080/"
        },
        "id": "iyBl-LD5IGok",
        "outputId": "f79ada06-232f-485a-a779-68257df0744c"
      },
      "source": [
        "\"#หาระยางระหว่าง  จุด จุด \n",
        "print(data1[0,0], data1[0,1])\n",
        "print(data1[1,0], data1[1,1])\n",
        "dist_p1_p2 = np.sqrt(np.power(data1[0, 0]-data1[1, 0], 2)+np.power(data1[0, 1]-data1[1, 1], 2))\n",
        "dist_p1_p2"
      ],
      "execution_count": 71,
      "outputs": [
        {
          "output_type": "stream",
          "text": [
            "1 2\n",
            "3 5\n"
          ],
          "name": "stdout"
        },
        {
          "output_type": "execute_result",
          "data": {
            "text/plain": [
              "3.605551275463989"
            ]
          },
          "metadata": {
            "tags": []
          },
          "execution_count": 71
        }
      ]
    },
    {
      "cell_type": "code",
      "metadata": {
        "colab": {
          "base_uri": "https://localhost:8080/"
        },
        "id": "1vAp7k0lJ25X",
        "outputId": "aa09c655-fb9b-45f8-ef51-ef514da4aca0"
      },
      "source": [
        "# 2 จุดทั้วไป 2 dimentions\n",
        "def eud_dist(pt1, pt2): # 2 dims\n",
        "    return np.sqrt(np.power(pt1[0] - pt2[0], 2)+np.power(pt1[1] - pt2[1], 2))\n",
        "eud_dist(data1[0, :], data1[1, :])"
      ],
      "execution_count": 76,
      "outputs": [
        {
          "output_type": "execute_result",
          "data": {
            "text/plain": [
              "3.605551275463989"
            ]
          },
          "metadata": {
            "tags": []
          },
          "execution_count": 76
        }
      ]
    },
    {
      "cell_type": "code",
      "metadata": {
        "colab": {
          "base_uri": "https://localhost:8080/"
        },
        "id": "HbTbs1AsL3qj",
        "outputId": "0130ef3d-469a-4884-f5f2-9443bc662a4b"
      },
      "source": [
        "# 2 จุดทั้วไป n dimentions\n",
        "def eud_dist_n(pt1, pt2): # n dims\n",
        "    sum =0\n",
        "    for i in range(len(pt1)):\n",
        "        sum = sum + np.power(pt1[i] - pt2[i], 2)\n",
        "    return np.sqrt(sum)\n",
        "eud_dist_n(data1[1, :], data1[3, :])"
      ],
      "execution_count": 79,
      "outputs": [
        {
          "output_type": "execute_result",
          "data": {
            "text/plain": [
              "1.0"
            ]
          },
          "metadata": {
            "tags": []
          },
          "execution_count": 79
        }
      ]
    },
    {
      "cell_type": "markdown",
      "metadata": {
        "id": "P689If_vOBE2"
      },
      "source": [
        "# Quiz 9 \n",
        "เขียนฟังก์ชัน คำนวณ\n",
        "# Manhatton Distance\n",
        "${|x_1 - x_2|+|y_1 - y_2|}$"
      ]
    },
    {
      "cell_type": "code",
      "metadata": {
        "colab": {
          "base_uri": "https://localhost:8080/"
        },
        "id": "ngiS607APDFO",
        "outputId": "803b238b-8d05-4e17-f094-c0b97258dfce"
      },
      "source": [
        "np.power(data1[0, 0]-data1[1, 0], 2)+np.power(data1[0, 1]-data1[1, 1], 2)"
      ],
      "execution_count": 80,
      "outputs": [
        {
          "output_type": "execute_result",
          "data": {
            "text/plain": [
              "13"
            ]
          },
          "metadata": {
            "tags": []
          },
          "execution_count": 80
        }
      ]
    },
    {
      "cell_type": "code",
      "metadata": {
        "colab": {
          "base_uri": "https://localhost:8080/"
        },
        "id": "ambnePN6MaFp",
        "outputId": "08d4839a-25de-4b38-8720-f350211952de"
      },
      "source": [
        "def Manh_dist_n(pt1, pt2):\n",
        "    sum =0\n",
        "    for i in range(len(pt1)):\n",
        "        sum = sum + np.power(pt1[i] - pt2[i], 2)\n",
        "    return sum\n",
        "    \n",
        "Manh_dist_n(data1[1, :], data1[3, :])"
      ],
      "execution_count": 81,
      "outputs": [
        {
          "output_type": "execute_result",
          "data": {
            "text/plain": [
              "1"
            ]
          },
          "metadata": {
            "tags": []
          },
          "execution_count": 81
        }
      ]
    },
    {
      "cell_type": "code",
      "metadata": {
        "id": "j9P4vwjVPME7"
      },
      "source": [
        ""
      ],
      "execution_count": null,
      "outputs": []
    }
  ]
}