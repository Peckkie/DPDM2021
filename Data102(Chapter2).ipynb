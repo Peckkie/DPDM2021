{
  "nbformat": 4,
  "nbformat_minor": 0,
  "metadata": {
    "colab": {
      "name": "Data102(Chapter2).ipynb",
      "provenance": [],
      "toc_visible": true,
      "authorship_tag": "ABX9TyOzF10EpMb/pi6wQA91WSC4",
      "include_colab_link": true
    },
    "kernelspec": {
      "name": "python3",
      "display_name": "Python 3"
    },
    "language_info": {
      "name": "python"
    }
  },
  "cells": [
    {
      "cell_type": "markdown",
      "metadata": {
        "id": "view-in-github",
        "colab_type": "text"
      },
      "source": [
        "<a href=\"https://colab.research.google.com/github/Peckkie/DPDM2021/blob/main/Data102(Chapter2).ipynb\" target=\"_parent\"><img src=\"https://colab.research.google.com/assets/colab-badge.svg\" alt=\"Open In Colab\"/></a>"
      ]
    },
    {
      "cell_type": "code",
      "metadata": {
        "colab": {
          "base_uri": "https://localhost:8080/"
        },
        "id": "UVHQL9eOKMA7",
        "outputId": "35c95440-4837-44fd-98b3-9c96c6ecf523"
      },
      "source": [
        "# คำสั่ง  drive.mount : เป็นผูก google drive กับ colab\n",
        "from google.colab import drive\n",
        "drive.mount('/content/drive')"
      ],
      "execution_count": 1,
      "outputs": [
        {
          "output_type": "stream",
          "text": [
            "Mounted at /content/drive\n"
          ],
          "name": "stdout"
        }
      ]
    },
    {
      "cell_type": "code",
      "metadata": {
        "colab": {
          "base_uri": "https://localhost:8080/"
        },
        "id": "5gAldubuKbi6",
        "outputId": "4d3aedf9-2513-493b-f983-cf2df91d1e12"
      },
      "source": [
        "# Packet \" os \" จัดการ ไฟล์ เเละ path \n",
        "import os\n",
        "os.chdir( '/content/drive/MyDrive/DPDM2021_DATA') # local path\n",
        "!pwd"
      ],
      "execution_count": 2,
      "outputs": [
        {
          "output_type": "stream",
          "text": [
            "/content/drive/.shortcut-targets-by-id/14FXB7QGrZpxLIovRThxiO13jXOQcFZ5k/DPDM2021_DATA\n"
          ],
          "name": "stdout"
        }
      ]
    },
    {
      "cell_type": "markdown",
      "metadata": {
        "id": "w3VC4AzzzFff"
      },
      "source": [
        ""
      ]
    },
    {
      "cell_type": "markdown",
      "metadata": {
        "id": "jJ1lXvXUzHFZ"
      },
      "source": [
        "# ขั้นที่ 1 Eyesball the Data"
      ]
    },
    {
      "cell_type": "markdown",
      "metadata": {
        "id": "EvB45dTaMKUr"
      },
      "source": [
        "# Open CSV File"
      ]
    },
    {
      "cell_type": "code",
      "metadata": {
        "id": "7Ap9scjsM28p"
      },
      "source": [
        "import os #จัดการ file และ path"
      ],
      "execution_count": null,
      "outputs": []
    },
    {
      "cell_type": "code",
      "metadata": {
        "id": "YquGZVQaNwc6"
      },
      "source": [
        "import pandas as pd #จัดการข้อมูลลักษณะตาราง"
      ],
      "execution_count": null,
      "outputs": []
    },
    {
      "cell_type": "code",
      "metadata": {
        "id": "Jc9nZnDVMyQq"
      },
      "source": [
        "path ='/content/drive/MyDrive/DPDM2021_DATA/' #ที่อยู่ของข้อมูลที่โหลดมา"
      ],
      "execution_count": null,
      "outputs": []
    },
    {
      "cell_type": "code",
      "metadata": {
        "colab": {
          "base_uri": "https://localhost:8080/",
          "height": 241
        },
        "id": "3sk-RBxUNBnI",
        "outputId": "2605c272-90ff-4021-dc35-8dcb14d49188"
      },
      "source": [
        "data = pd.read_csv(os.path.join(path,'thailand_covid-19_testing_data.csv')) #pd.read_csv(os.path.join(ที่อยู่ไฟล์,ชื่อไฟล์)) \n",
        "data.head(3) # table_name.head(3) เเสดงเเค่ข้อมูลเเค่ 3 เเถวเเรก"
      ],
      "execution_count": null,
      "outputs": [
        {
          "output_type": "execute_result",
          "data": {
            "text/html": [
              "<div>\n",
              "<style scoped>\n",
              "    .dataframe tbody tr th:only-of-type {\n",
              "        vertical-align: middle;\n",
              "    }\n",
              "\n",
              "    .dataframe tbody tr th {\n",
              "        vertical-align: top;\n",
              "    }\n",
              "\n",
              "    .dataframe thead th {\n",
              "        text-align: right;\n",
              "    }\n",
              "</style>\n",
              "<table border=\"1\" class=\"dataframe\">\n",
              "  <thead>\n",
              "    <tr style=\"text-align: right;\">\n",
              "      <th></th>\n",
              "      <th>Date</th>\n",
              "      <th>positive</th>\n",
              "      <th>Total Testing</th>\n",
              "      <th>Unnamed: 3</th>\n",
              "      <th>Unnamed: 4</th>\n",
              "      <th>Unnamed: 5</th>\n",
              "      <th>Unnamed: 6</th>\n",
              "      <th>Unnamed: 7</th>\n",
              "      <th>Unnamed: 8</th>\n",
              "      <th>Unnamed: 9</th>\n",
              "      <th>Unnamed: 10</th>\n",
              "      <th>Unnamed: 11</th>\n",
              "      <th>Unnamed: 12</th>\n",
              "      <th>Unnamed: 13</th>\n",
              "      <th>Unnamed: 14</th>\n",
              "      <th>Unnamed: 15</th>\n",
              "      <th>Unnamed: 16</th>\n",
              "      <th>Unnamed: 17</th>\n",
              "      <th>Unnamed: 18</th>\n",
              "      <th>Unnamed: 19</th>\n",
              "      <th>Unnamed: 20</th>\n",
              "      <th>Unnamed: 21</th>\n",
              "      <th>Unnamed: 22</th>\n",
              "      <th>Unnamed: 23</th>\n",
              "      <th>Unnamed: 24</th>\n",
              "      <th>Unnamed: 25</th>\n",
              "      <th>Unnamed: 26</th>\n",
              "      <th>Unnamed: 27</th>\n",
              "      <th>Unnamed: 28</th>\n",
              "      <th>Unnamed: 29</th>\n",
              "      <th>Unnamed: 30</th>\n",
              "      <th>Unnamed: 31</th>\n",
              "      <th>Unnamed: 32</th>\n",
              "      <th>Unnamed: 33</th>\n",
              "      <th>Unnamed: 34</th>\n",
              "      <th>Unnamed: 35</th>\n",
              "      <th>Unnamed: 36</th>\n",
              "      <th>Unnamed: 37</th>\n",
              "      <th>Unnamed: 38</th>\n",
              "      <th>Unnamed: 39</th>\n",
              "      <th>...</th>\n",
              "      <th>Unnamed: 82</th>\n",
              "      <th>Unnamed: 83</th>\n",
              "      <th>Unnamed: 84</th>\n",
              "      <th>Unnamed: 85</th>\n",
              "      <th>Unnamed: 86</th>\n",
              "      <th>Unnamed: 87</th>\n",
              "      <th>Unnamed: 88</th>\n",
              "      <th>Unnamed: 89</th>\n",
              "      <th>Unnamed: 90</th>\n",
              "      <th>Unnamed: 91</th>\n",
              "      <th>Unnamed: 92</th>\n",
              "      <th>Unnamed: 93</th>\n",
              "      <th>Unnamed: 94</th>\n",
              "      <th>Unnamed: 95</th>\n",
              "      <th>Unnamed: 96</th>\n",
              "      <th>Unnamed: 97</th>\n",
              "      <th>Unnamed: 98</th>\n",
              "      <th>Unnamed: 99</th>\n",
              "      <th>Unnamed: 100</th>\n",
              "      <th>Unnamed: 101</th>\n",
              "      <th>Unnamed: 102</th>\n",
              "      <th>Unnamed: 103</th>\n",
              "      <th>Unnamed: 104</th>\n",
              "      <th>Unnamed: 105</th>\n",
              "      <th>Unnamed: 106</th>\n",
              "      <th>Unnamed: 107</th>\n",
              "      <th>Unnamed: 108</th>\n",
              "      <th>Unnamed: 109</th>\n",
              "      <th>Unnamed: 110</th>\n",
              "      <th>Unnamed: 111</th>\n",
              "      <th>Unnamed: 112</th>\n",
              "      <th>Unnamed: 113</th>\n",
              "      <th>Unnamed: 114</th>\n",
              "      <th>Unnamed: 115</th>\n",
              "      <th>Unnamed: 116</th>\n",
              "      <th>Unnamed: 117</th>\n",
              "      <th>Unnamed: 118</th>\n",
              "      <th>Unnamed: 119</th>\n",
              "      <th>Unnamed: 120</th>\n",
              "      <th>Unnamed: 121</th>\n",
              "    </tr>\n",
              "  </thead>\n",
              "  <tbody>\n",
              "    <tr>\n",
              "      <th>0</th>\n",
              "      <td>Cannot specify date</td>\n",
              "      <td>2963</td>\n",
              "      <td>32131</td>\n",
              "      <td>NaN</td>\n",
              "      <td>NaN</td>\n",
              "      <td>NaN</td>\n",
              "      <td>NaN</td>\n",
              "      <td>NaN</td>\n",
              "      <td>NaN</td>\n",
              "      <td>NaN</td>\n",
              "      <td>NaN</td>\n",
              "      <td>NaN</td>\n",
              "      <td>NaN</td>\n",
              "      <td>NaN</td>\n",
              "      <td>NaN</td>\n",
              "      <td>NaN</td>\n",
              "      <td>NaN</td>\n",
              "      <td>NaN</td>\n",
              "      <td>NaN</td>\n",
              "      <td>NaN</td>\n",
              "      <td>NaN</td>\n",
              "      <td>NaN</td>\n",
              "      <td>NaN</td>\n",
              "      <td>NaN</td>\n",
              "      <td>NaN</td>\n",
              "      <td>NaN</td>\n",
              "      <td>NaN</td>\n",
              "      <td>NaN</td>\n",
              "      <td>NaN</td>\n",
              "      <td>NaN</td>\n",
              "      <td>NaN</td>\n",
              "      <td>NaN</td>\n",
              "      <td>NaN</td>\n",
              "      <td>NaN</td>\n",
              "      <td>NaN</td>\n",
              "      <td>NaN</td>\n",
              "      <td>NaN</td>\n",
              "      <td>NaN</td>\n",
              "      <td>NaN</td>\n",
              "      <td>NaN</td>\n",
              "      <td>...</td>\n",
              "      <td>NaN</td>\n",
              "      <td>NaN</td>\n",
              "      <td>NaN</td>\n",
              "      <td>NaN</td>\n",
              "      <td>NaN</td>\n",
              "      <td>NaN</td>\n",
              "      <td>NaN</td>\n",
              "      <td>NaN</td>\n",
              "      <td>NaN</td>\n",
              "      <td>NaN</td>\n",
              "      <td>NaN</td>\n",
              "      <td>NaN</td>\n",
              "      <td>NaN</td>\n",
              "      <td>NaN</td>\n",
              "      <td>NaN</td>\n",
              "      <td>NaN</td>\n",
              "      <td>NaN</td>\n",
              "      <td>NaN</td>\n",
              "      <td>NaN</td>\n",
              "      <td>NaN</td>\n",
              "      <td>NaN</td>\n",
              "      <td>NaN</td>\n",
              "      <td>NaN</td>\n",
              "      <td>NaN</td>\n",
              "      <td>NaN</td>\n",
              "      <td>NaN</td>\n",
              "      <td>NaN</td>\n",
              "      <td>NaN</td>\n",
              "      <td>NaN</td>\n",
              "      <td>NaN</td>\n",
              "      <td>NaN</td>\n",
              "      <td>NaN</td>\n",
              "      <td>NaN</td>\n",
              "      <td>NaN</td>\n",
              "      <td>NaN</td>\n",
              "      <td>NaN</td>\n",
              "      <td>NaN</td>\n",
              "      <td>NaN</td>\n",
              "      <td>NaN</td>\n",
              "      <td>NaN</td>\n",
              "    </tr>\n",
              "    <tr>\n",
              "      <th>1</th>\n",
              "      <td>1/1/2020</td>\n",
              "      <td>0</td>\n",
              "      <td>0</td>\n",
              "      <td>NaN</td>\n",
              "      <td>NaN</td>\n",
              "      <td>NaN</td>\n",
              "      <td>NaN</td>\n",
              "      <td>NaN</td>\n",
              "      <td>NaN</td>\n",
              "      <td>NaN</td>\n",
              "      <td>NaN</td>\n",
              "      <td>NaN</td>\n",
              "      <td>NaN</td>\n",
              "      <td>NaN</td>\n",
              "      <td>NaN</td>\n",
              "      <td>NaN</td>\n",
              "      <td>NaN</td>\n",
              "      <td>NaN</td>\n",
              "      <td>NaN</td>\n",
              "      <td>NaN</td>\n",
              "      <td>NaN</td>\n",
              "      <td>NaN</td>\n",
              "      <td>NaN</td>\n",
              "      <td>NaN</td>\n",
              "      <td>NaN</td>\n",
              "      <td>NaN</td>\n",
              "      <td>NaN</td>\n",
              "      <td>NaN</td>\n",
              "      <td>NaN</td>\n",
              "      <td>NaN</td>\n",
              "      <td>NaN</td>\n",
              "      <td>NaN</td>\n",
              "      <td>NaN</td>\n",
              "      <td>NaN</td>\n",
              "      <td>NaN</td>\n",
              "      <td>NaN</td>\n",
              "      <td>NaN</td>\n",
              "      <td>NaN</td>\n",
              "      <td>NaN</td>\n",
              "      <td>NaN</td>\n",
              "      <td>...</td>\n",
              "      <td>12</td>\n",
              "      <td>NaN</td>\n",
              "      <td>13</td>\n",
              "      <td>NaN</td>\n",
              "      <td>14</td>\n",
              "      <td>NaN</td>\n",
              "      <td>15</td>\n",
              "      <td>NaN</td>\n",
              "      <td>16</td>\n",
              "      <td>NaN</td>\n",
              "      <td>17</td>\n",
              "      <td>NaN</td>\n",
              "      <td>18</td>\n",
              "      <td>NaN</td>\n",
              "      <td>19</td>\n",
              "      <td>NaN</td>\n",
              "      <td>20</td>\n",
              "      <td>NaN</td>\n",
              "      <td>21</td>\n",
              "      <td>NaN</td>\n",
              "      <td>22</td>\n",
              "      <td>NaN</td>\n",
              "      <td>23</td>\n",
              "      <td>NaN</td>\n",
              "      <td>24</td>\n",
              "      <td>NaN</td>\n",
              "      <td>25</td>\n",
              "      <td>NaN</td>\n",
              "      <td>26</td>\n",
              "      <td>NaN</td>\n",
              "      <td>27</td>\n",
              "      <td>NaN</td>\n",
              "      <td>28</td>\n",
              "      <td>NaN</td>\n",
              "      <td>29</td>\n",
              "      <td>NaN</td>\n",
              "      <td>30</td>\n",
              "      <td>NaN</td>\n",
              "      <td>31</td>\n",
              "      <td>NaN</td>\n",
              "    </tr>\n",
              "    <tr>\n",
              "      <th>2</th>\n",
              "      <td>2/1/2020</td>\n",
              "      <td>0</td>\n",
              "      <td>0</td>\n",
              "      <td>NaN</td>\n",
              "      <td>NaN</td>\n",
              "      <td>NaN</td>\n",
              "      <td>NaN</td>\n",
              "      <td>NaN</td>\n",
              "      <td>NaN</td>\n",
              "      <td>NaN</td>\n",
              "      <td>NaN</td>\n",
              "      <td>NaN</td>\n",
              "      <td>NaN</td>\n",
              "      <td>NaN</td>\n",
              "      <td>NaN</td>\n",
              "      <td>NaN</td>\n",
              "      <td>NaN</td>\n",
              "      <td>NaN</td>\n",
              "      <td>NaN</td>\n",
              "      <td>NaN</td>\n",
              "      <td>NaN</td>\n",
              "      <td>NaN</td>\n",
              "      <td>NaN</td>\n",
              "      <td>NaN</td>\n",
              "      <td>NaN</td>\n",
              "      <td>NaN</td>\n",
              "      <td>NaN</td>\n",
              "      <td>NaN</td>\n",
              "      <td>NaN</td>\n",
              "      <td>NaN</td>\n",
              "      <td>NaN</td>\n",
              "      <td>NaN</td>\n",
              "      <td>NaN</td>\n",
              "      <td>NaN</td>\n",
              "      <td>NaN</td>\n",
              "      <td>NaN</td>\n",
              "      <td>NaN</td>\n",
              "      <td>NaN</td>\n",
              "      <td>NaN</td>\n",
              "      <td>NaN</td>\n",
              "      <td>...</td>\n",
              "      <td>Pos</td>\n",
              "      <td>Pos</td>\n",
              "      <td>Total</td>\n",
              "      <td>Pos</td>\n",
              "      <td>Total</td>\n",
              "      <td>Pos</td>\n",
              "      <td>Total</td>\n",
              "      <td>Pos</td>\n",
              "      <td>Total</td>\n",
              "      <td>Pos</td>\n",
              "      <td>Pos</td>\n",
              "      <td>Total</td>\n",
              "      <td>Pos</td>\n",
              "      <td>Total</td>\n",
              "      <td>Pos</td>\n",
              "      <td>Total</td>\n",
              "      <td>Pos</td>\n",
              "      <td>Total</td>\n",
              "      <td>Pos</td>\n",
              "      <td>Pos</td>\n",
              "      <td>Total</td>\n",
              "      <td>Pos</td>\n",
              "      <td>Total</td>\n",
              "      <td>Pos</td>\n",
              "      <td>Total</td>\n",
              "      <td>Pos</td>\n",
              "      <td>Total</td>\n",
              "      <td>Pos</td>\n",
              "      <td>Pos</td>\n",
              "      <td>Total</td>\n",
              "      <td>Pos</td>\n",
              "      <td>Total</td>\n",
              "      <td>Pos</td>\n",
              "      <td>Total</td>\n",
              "      <td>Pos</td>\n",
              "      <td>Total</td>\n",
              "      <td>Pos</td>\n",
              "      <td>Pos</td>\n",
              "      <td>Pos</td>\n",
              "      <td>Pos</td>\n",
              "    </tr>\n",
              "  </tbody>\n",
              "</table>\n",
              "<p>3 rows × 122 columns</p>\n",
              "</div>"
            ],
            "text/plain": [
              "                  Date  positive  ...  Unnamed: 120  Unnamed: 121\n",
              "0  Cannot specify date      2963  ...           NaN           NaN\n",
              "1             1/1/2020         0  ...            31           NaN\n",
              "2             2/1/2020         0  ...           Pos           Pos\n",
              "\n",
              "[3 rows x 122 columns]"
            ]
          },
          "metadata": {
            "tags": []
          },
          "execution_count": 6
        }
      ]
    },
    {
      "cell_type": "markdown",
      "metadata": {
        "id": "iqRHfTkPOttf"
      },
      "source": [
        "NaN : Not a Number\n"
      ]
    },
    {
      "cell_type": "markdown",
      "metadata": {
        "id": "mZrVXFHuRCbz"
      },
      "source": [
        "# Selection:"
      ]
    },
    {
      "cell_type": "code",
      "metadata": {
        "colab": {
          "base_uri": "https://localhost:8080/",
          "height": 204
        },
        "id": "SP51Vfs-QLvI",
        "outputId": "97e14b4a-c25c-4d82-d277-30abe57d082f"
      },
      "source": [
        "#จัดการ Row and Column\n",
        "data_new = data.iloc[1:,:3] # table_name.iloc[เเถวเริ่มต้น : เเถวสุดท้าย, คอลัมเริ่มต้น : คอลัมสุดท้าย]\n",
        "data_new.head()"
      ],
      "execution_count": null,
      "outputs": [
        {
          "output_type": "execute_result",
          "data": {
            "text/html": [
              "<div>\n",
              "<style scoped>\n",
              "    .dataframe tbody tr th:only-of-type {\n",
              "        vertical-align: middle;\n",
              "    }\n",
              "\n",
              "    .dataframe tbody tr th {\n",
              "        vertical-align: top;\n",
              "    }\n",
              "\n",
              "    .dataframe thead th {\n",
              "        text-align: right;\n",
              "    }\n",
              "</style>\n",
              "<table border=\"1\" class=\"dataframe\">\n",
              "  <thead>\n",
              "    <tr style=\"text-align: right;\">\n",
              "      <th></th>\n",
              "      <th>Date</th>\n",
              "      <th>positive</th>\n",
              "      <th>Total Testing</th>\n",
              "    </tr>\n",
              "  </thead>\n",
              "  <tbody>\n",
              "    <tr>\n",
              "      <th>1</th>\n",
              "      <td>1/1/2020</td>\n",
              "      <td>0</td>\n",
              "      <td>0</td>\n",
              "    </tr>\n",
              "    <tr>\n",
              "      <th>2</th>\n",
              "      <td>2/1/2020</td>\n",
              "      <td>0</td>\n",
              "      <td>0</td>\n",
              "    </tr>\n",
              "    <tr>\n",
              "      <th>3</th>\n",
              "      <td>3/1/2020</td>\n",
              "      <td>0</td>\n",
              "      <td>0</td>\n",
              "    </tr>\n",
              "    <tr>\n",
              "      <th>4</th>\n",
              "      <td>4/1/2020</td>\n",
              "      <td>0</td>\n",
              "      <td>2</td>\n",
              "    </tr>\n",
              "    <tr>\n",
              "      <th>5</th>\n",
              "      <td>5/1/2020</td>\n",
              "      <td>0</td>\n",
              "      <td>2</td>\n",
              "    </tr>\n",
              "  </tbody>\n",
              "</table>\n",
              "</div>"
            ],
            "text/plain": [
              "       Date  positive  Total Testing\n",
              "1  1/1/2020         0              0\n",
              "2  2/1/2020         0              0\n",
              "3  3/1/2020         0              0\n",
              "4  4/1/2020         0              2\n",
              "5  5/1/2020         0              2"
            ]
          },
          "metadata": {
            "tags": []
          },
          "execution_count": 13
        }
      ]
    },
    {
      "cell_type": "code",
      "metadata": {
        "colab": {
          "base_uri": "https://localhost:8080/",
          "height": 204
        },
        "id": "2dBR7vuMOrdn",
        "outputId": "3750fc67-70f8-4f9f-c26c-ff88e80ef414"
      },
      "source": [
        "#เลือกเฉพาะ column ที่สนใจ\n",
        "datadf = data[['Date','positive','Total Testing']]\n",
        "datadf.head()"
      ],
      "execution_count": null,
      "outputs": [
        {
          "output_type": "execute_result",
          "data": {
            "text/html": [
              "<div>\n",
              "<style scoped>\n",
              "    .dataframe tbody tr th:only-of-type {\n",
              "        vertical-align: middle;\n",
              "    }\n",
              "\n",
              "    .dataframe tbody tr th {\n",
              "        vertical-align: top;\n",
              "    }\n",
              "\n",
              "    .dataframe thead th {\n",
              "        text-align: right;\n",
              "    }\n",
              "</style>\n",
              "<table border=\"1\" class=\"dataframe\">\n",
              "  <thead>\n",
              "    <tr style=\"text-align: right;\">\n",
              "      <th></th>\n",
              "      <th>Date</th>\n",
              "      <th>positive</th>\n",
              "      <th>Total Testing</th>\n",
              "    </tr>\n",
              "  </thead>\n",
              "  <tbody>\n",
              "    <tr>\n",
              "      <th>0</th>\n",
              "      <td>Cannot specify date</td>\n",
              "      <td>2963</td>\n",
              "      <td>32131</td>\n",
              "    </tr>\n",
              "    <tr>\n",
              "      <th>1</th>\n",
              "      <td>1/1/2020</td>\n",
              "      <td>0</td>\n",
              "      <td>0</td>\n",
              "    </tr>\n",
              "    <tr>\n",
              "      <th>2</th>\n",
              "      <td>2/1/2020</td>\n",
              "      <td>0</td>\n",
              "      <td>0</td>\n",
              "    </tr>\n",
              "    <tr>\n",
              "      <th>3</th>\n",
              "      <td>3/1/2020</td>\n",
              "      <td>0</td>\n",
              "      <td>0</td>\n",
              "    </tr>\n",
              "    <tr>\n",
              "      <th>4</th>\n",
              "      <td>4/1/2020</td>\n",
              "      <td>0</td>\n",
              "      <td>2</td>\n",
              "    </tr>\n",
              "  </tbody>\n",
              "</table>\n",
              "</div>"
            ],
            "text/plain": [
              "                  Date  positive  Total Testing\n",
              "0  Cannot specify date      2963          32131\n",
              "1             1/1/2020         0              0\n",
              "2             2/1/2020         0              0\n",
              "3             3/1/2020         0              0\n",
              "4             4/1/2020         0              2"
            ]
          },
          "metadata": {
            "tags": []
          },
          "execution_count": 8
        }
      ]
    },
    {
      "cell_type": "markdown",
      "metadata": {
        "id": "Idhm9iIsRV5a"
      },
      "source": [
        "# head(), tail()"
      ]
    },
    {
      "cell_type": "code",
      "metadata": {
        "colab": {
          "base_uri": "https://localhost:8080/",
          "height": 204
        },
        "id": "GN7iynq7RcXv",
        "outputId": "34efb498-c557-48a6-cdf9-8670765390a8"
      },
      "source": [
        "data_new.head() #ดูหัวตาราง เเสดงเเค่ข้อมูลเเค่ 5 เเถวแรก"
      ],
      "execution_count": null,
      "outputs": [
        {
          "output_type": "execute_result",
          "data": {
            "text/html": [
              "<div>\n",
              "<style scoped>\n",
              "    .dataframe tbody tr th:only-of-type {\n",
              "        vertical-align: middle;\n",
              "    }\n",
              "\n",
              "    .dataframe tbody tr th {\n",
              "        vertical-align: top;\n",
              "    }\n",
              "\n",
              "    .dataframe thead th {\n",
              "        text-align: right;\n",
              "    }\n",
              "</style>\n",
              "<table border=\"1\" class=\"dataframe\">\n",
              "  <thead>\n",
              "    <tr style=\"text-align: right;\">\n",
              "      <th></th>\n",
              "      <th>Date</th>\n",
              "      <th>positive</th>\n",
              "      <th>Total Testing</th>\n",
              "    </tr>\n",
              "  </thead>\n",
              "  <tbody>\n",
              "    <tr>\n",
              "      <th>1</th>\n",
              "      <td>1/1/2020</td>\n",
              "      <td>0</td>\n",
              "      <td>0</td>\n",
              "    </tr>\n",
              "    <tr>\n",
              "      <th>2</th>\n",
              "      <td>2/1/2020</td>\n",
              "      <td>0</td>\n",
              "      <td>0</td>\n",
              "    </tr>\n",
              "    <tr>\n",
              "      <th>3</th>\n",
              "      <td>3/1/2020</td>\n",
              "      <td>0</td>\n",
              "      <td>0</td>\n",
              "    </tr>\n",
              "    <tr>\n",
              "      <th>4</th>\n",
              "      <td>4/1/2020</td>\n",
              "      <td>0</td>\n",
              "      <td>2</td>\n",
              "    </tr>\n",
              "    <tr>\n",
              "      <th>5</th>\n",
              "      <td>5/1/2020</td>\n",
              "      <td>0</td>\n",
              "      <td>2</td>\n",
              "    </tr>\n",
              "  </tbody>\n",
              "</table>\n",
              "</div>"
            ],
            "text/plain": [
              "       Date  positive  Total Testing\n",
              "1  1/1/2020         0              0\n",
              "2  2/1/2020         0              0\n",
              "3  3/1/2020         0              0\n",
              "4  4/1/2020         0              2\n",
              "5  5/1/2020         0              2"
            ]
          },
          "metadata": {
            "tags": []
          },
          "execution_count": 9
        }
      ]
    },
    {
      "cell_type": "code",
      "metadata": {
        "colab": {
          "base_uri": "https://localhost:8080/",
          "height": 204
        },
        "id": "dVbvwqOtRd7h",
        "outputId": "fea73bc4-5242-49f1-e69f-78abac0e0138"
      },
      "source": [
        "data_new.tail()#ดูท้ายตาราง เเสดงเเค่ข้อมูลเเค่ 5 เเถวสุดท้าย"
      ],
      "execution_count": null,
      "outputs": [
        {
          "output_type": "execute_result",
          "data": {
            "text/html": [
              "<div>\n",
              "<style scoped>\n",
              "    .dataframe tbody tr th:only-of-type {\n",
              "        vertical-align: middle;\n",
              "    }\n",
              "\n",
              "    .dataframe tbody tr th {\n",
              "        vertical-align: top;\n",
              "    }\n",
              "\n",
              "    .dataframe thead th {\n",
              "        text-align: right;\n",
              "    }\n",
              "</style>\n",
              "<table border=\"1\" class=\"dataframe\">\n",
              "  <thead>\n",
              "    <tr style=\"text-align: right;\">\n",
              "      <th></th>\n",
              "      <th>Date</th>\n",
              "      <th>positive</th>\n",
              "      <th>Total Testing</th>\n",
              "    </tr>\n",
              "  </thead>\n",
              "  <tbody>\n",
              "    <tr>\n",
              "      <th>567</th>\n",
              "      <td>20/7/2021</td>\n",
              "      <td>68403</td>\n",
              "      <td>10152</td>\n",
              "    </tr>\n",
              "    <tr>\n",
              "      <th>568</th>\n",
              "      <td>21/7/2021</td>\n",
              "      <td>82325</td>\n",
              "      <td>12210</td>\n",
              "    </tr>\n",
              "    <tr>\n",
              "      <th>569</th>\n",
              "      <td>22/7/2021</td>\n",
              "      <td>62846</td>\n",
              "      <td>10623</td>\n",
              "    </tr>\n",
              "    <tr>\n",
              "      <th>570</th>\n",
              "      <td>23/7/2021</td>\n",
              "      <td>58851</td>\n",
              "      <td>10200</td>\n",
              "    </tr>\n",
              "    <tr>\n",
              "      <th>571</th>\n",
              "      <td>24/7/2021</td>\n",
              "      <td>67283</td>\n",
              "      <td>13745</td>\n",
              "    </tr>\n",
              "  </tbody>\n",
              "</table>\n",
              "</div>"
            ],
            "text/plain": [
              "          Date  positive  Total Testing\n",
              "567  20/7/2021     68403          10152\n",
              "568  21/7/2021     82325          12210\n",
              "569  22/7/2021     62846          10623\n",
              "570  23/7/2021     58851          10200\n",
              "571  24/7/2021     67283          13745"
            ]
          },
          "metadata": {
            "tags": []
          },
          "execution_count": 10
        }
      ]
    },
    {
      "cell_type": "code",
      "metadata": {
        "colab": {
          "base_uri": "https://localhost:8080/",
          "height": 667
        },
        "id": "n4PQA9XZOryW",
        "outputId": "4e2b8aa1-8643-41e3-f7f6-b2d7bcfd490f"
      },
      "source": [
        "data_new.head(20) # table_name.head(20) เเสดงเเค่ข้อมูลเเค่ 20 เเถวเเรก"
      ],
      "execution_count": null,
      "outputs": [
        {
          "output_type": "execute_result",
          "data": {
            "text/html": [
              "<div>\n",
              "<style scoped>\n",
              "    .dataframe tbody tr th:only-of-type {\n",
              "        vertical-align: middle;\n",
              "    }\n",
              "\n",
              "    .dataframe tbody tr th {\n",
              "        vertical-align: top;\n",
              "    }\n",
              "\n",
              "    .dataframe thead th {\n",
              "        text-align: right;\n",
              "    }\n",
              "</style>\n",
              "<table border=\"1\" class=\"dataframe\">\n",
              "  <thead>\n",
              "    <tr style=\"text-align: right;\">\n",
              "      <th></th>\n",
              "      <th>Date</th>\n",
              "      <th>positive</th>\n",
              "      <th>Total Testing</th>\n",
              "    </tr>\n",
              "  </thead>\n",
              "  <tbody>\n",
              "    <tr>\n",
              "      <th>1</th>\n",
              "      <td>1/1/2020</td>\n",
              "      <td>0</td>\n",
              "      <td>0</td>\n",
              "    </tr>\n",
              "    <tr>\n",
              "      <th>2</th>\n",
              "      <td>2/1/2020</td>\n",
              "      <td>0</td>\n",
              "      <td>0</td>\n",
              "    </tr>\n",
              "    <tr>\n",
              "      <th>3</th>\n",
              "      <td>3/1/2020</td>\n",
              "      <td>0</td>\n",
              "      <td>0</td>\n",
              "    </tr>\n",
              "    <tr>\n",
              "      <th>4</th>\n",
              "      <td>4/1/2020</td>\n",
              "      <td>0</td>\n",
              "      <td>2</td>\n",
              "    </tr>\n",
              "    <tr>\n",
              "      <th>5</th>\n",
              "      <td>5/1/2020</td>\n",
              "      <td>0</td>\n",
              "      <td>2</td>\n",
              "    </tr>\n",
              "    <tr>\n",
              "      <th>6</th>\n",
              "      <td>6/1/2020</td>\n",
              "      <td>0</td>\n",
              "      <td>5</td>\n",
              "    </tr>\n",
              "    <tr>\n",
              "      <th>7</th>\n",
              "      <td>7/1/2020</td>\n",
              "      <td>0</td>\n",
              "      <td>0</td>\n",
              "    </tr>\n",
              "    <tr>\n",
              "      <th>8</th>\n",
              "      <td>8/1/2020</td>\n",
              "      <td>1</td>\n",
              "      <td>1</td>\n",
              "    </tr>\n",
              "    <tr>\n",
              "      <th>9</th>\n",
              "      <td>9/1/2020</td>\n",
              "      <td>4</td>\n",
              "      <td>13</td>\n",
              "    </tr>\n",
              "    <tr>\n",
              "      <th>10</th>\n",
              "      <td>10/1/2020</td>\n",
              "      <td>0</td>\n",
              "      <td>18</td>\n",
              "    </tr>\n",
              "    <tr>\n",
              "      <th>11</th>\n",
              "      <td>11/1/2020</td>\n",
              "      <td>0</td>\n",
              "      <td>3</td>\n",
              "    </tr>\n",
              "    <tr>\n",
              "      <th>12</th>\n",
              "      <td>12/1/2020</td>\n",
              "      <td>2</td>\n",
              "      <td>6</td>\n",
              "    </tr>\n",
              "    <tr>\n",
              "      <th>13</th>\n",
              "      <td>13/1/2020</td>\n",
              "      <td>2</td>\n",
              "      <td>14</td>\n",
              "    </tr>\n",
              "    <tr>\n",
              "      <th>14</th>\n",
              "      <td>14/1/2020</td>\n",
              "      <td>6</td>\n",
              "      <td>7</td>\n",
              "    </tr>\n",
              "    <tr>\n",
              "      <th>15</th>\n",
              "      <td>15/1/2020</td>\n",
              "      <td>5</td>\n",
              "      <td>12</td>\n",
              "    </tr>\n",
              "    <tr>\n",
              "      <th>16</th>\n",
              "      <td>16/1/2020</td>\n",
              "      <td>1</td>\n",
              "      <td>9</td>\n",
              "    </tr>\n",
              "    <tr>\n",
              "      <th>17</th>\n",
              "      <td>17/1/2020</td>\n",
              "      <td>0</td>\n",
              "      <td>5</td>\n",
              "    </tr>\n",
              "    <tr>\n",
              "      <th>18</th>\n",
              "      <td>18/1/2020</td>\n",
              "      <td>1</td>\n",
              "      <td>23</td>\n",
              "    </tr>\n",
              "    <tr>\n",
              "      <th>19</th>\n",
              "      <td>19/1/2020</td>\n",
              "      <td>1</td>\n",
              "      <td>6</td>\n",
              "    </tr>\n",
              "    <tr>\n",
              "      <th>20</th>\n",
              "      <td>20/1/2020</td>\n",
              "      <td>3</td>\n",
              "      <td>48</td>\n",
              "    </tr>\n",
              "  </tbody>\n",
              "</table>\n",
              "</div>"
            ],
            "text/plain": [
              "         Date  positive  Total Testing\n",
              "1    1/1/2020         0              0\n",
              "2    2/1/2020         0              0\n",
              "3    3/1/2020         0              0\n",
              "4    4/1/2020         0              2\n",
              "5    5/1/2020         0              2\n",
              "6    6/1/2020         0              5\n",
              "7    7/1/2020         0              0\n",
              "8    8/1/2020         1              1\n",
              "9    9/1/2020         4             13\n",
              "10  10/1/2020         0             18\n",
              "11  11/1/2020         0              3\n",
              "12  12/1/2020         2              6\n",
              "13  13/1/2020         2             14\n",
              "14  14/1/2020         6              7\n",
              "15  15/1/2020         5             12\n",
              "16  16/1/2020         1              9\n",
              "17  17/1/2020         0              5\n",
              "18  18/1/2020         1             23\n",
              "19  19/1/2020         1              6\n",
              "20  20/1/2020         3             48"
            ]
          },
          "metadata": {
            "tags": []
          },
          "execution_count": 11
        }
      ]
    },
    {
      "cell_type": "code",
      "metadata": {
        "colab": {
          "base_uri": "https://localhost:8080/",
          "height": 667
        },
        "id": "RJF7ti1NOr17",
        "outputId": "68a2bc25-1a0d-4af4-f7d2-0af5e7bb55c6"
      },
      "source": [
        "data_new.tail(20)# table_name.tail(20) เเสดงเเค่ข้อมูลเเค่ 20 เเถวสุดท้าย"
      ],
      "execution_count": null,
      "outputs": [
        {
          "output_type": "execute_result",
          "data": {
            "text/html": [
              "<div>\n",
              "<style scoped>\n",
              "    .dataframe tbody tr th:only-of-type {\n",
              "        vertical-align: middle;\n",
              "    }\n",
              "\n",
              "    .dataframe tbody tr th {\n",
              "        vertical-align: top;\n",
              "    }\n",
              "\n",
              "    .dataframe thead th {\n",
              "        text-align: right;\n",
              "    }\n",
              "</style>\n",
              "<table border=\"1\" class=\"dataframe\">\n",
              "  <thead>\n",
              "    <tr style=\"text-align: right;\">\n",
              "      <th></th>\n",
              "      <th>Date</th>\n",
              "      <th>positive</th>\n",
              "      <th>Total Testing</th>\n",
              "    </tr>\n",
              "  </thead>\n",
              "  <tbody>\n",
              "    <tr>\n",
              "      <th>552</th>\n",
              "      <td>5/7/2021</td>\n",
              "      <td>4770</td>\n",
              "      <td>52017</td>\n",
              "    </tr>\n",
              "    <tr>\n",
              "      <th>553</th>\n",
              "      <td>6/7/2021</td>\n",
              "      <td>6066</td>\n",
              "      <td>70051</td>\n",
              "    </tr>\n",
              "    <tr>\n",
              "      <th>554</th>\n",
              "      <td>7/7/2021</td>\n",
              "      <td>6224</td>\n",
              "      <td>62695</td>\n",
              "    </tr>\n",
              "    <tr>\n",
              "      <th>555</th>\n",
              "      <td>8/7/2021</td>\n",
              "      <td>6624</td>\n",
              "      <td>66596</td>\n",
              "    </tr>\n",
              "    <tr>\n",
              "      <th>556</th>\n",
              "      <td>9/7/2021</td>\n",
              "      <td>6890</td>\n",
              "      <td>66267</td>\n",
              "    </tr>\n",
              "    <tr>\n",
              "      <th>557</th>\n",
              "      <td>10/7/2021</td>\n",
              "      <td>9045</td>\n",
              "      <td>74906</td>\n",
              "    </tr>\n",
              "    <tr>\n",
              "      <th>558</th>\n",
              "      <td>11/7/2021</td>\n",
              "      <td>8564</td>\n",
              "      <td>77848</td>\n",
              "    </tr>\n",
              "    <tr>\n",
              "      <th>559</th>\n",
              "      <td>12/7/2021</td>\n",
              "      <td>6391</td>\n",
              "      <td>56775</td>\n",
              "    </tr>\n",
              "    <tr>\n",
              "      <th>560</th>\n",
              "      <td>13/7/2021</td>\n",
              "      <td>7549</td>\n",
              "      <td>70798</td>\n",
              "    </tr>\n",
              "    <tr>\n",
              "      <th>561</th>\n",
              "      <td>14/7/2021</td>\n",
              "      <td>7877</td>\n",
              "      <td>65836</td>\n",
              "    </tr>\n",
              "    <tr>\n",
              "      <th>562</th>\n",
              "      <td>15/7/2021</td>\n",
              "      <td>8648</td>\n",
              "      <td>70403</td>\n",
              "    </tr>\n",
              "    <tr>\n",
              "      <th>563</th>\n",
              "      <td>16/7/2021</td>\n",
              "      <td>9627</td>\n",
              "      <td>73260</td>\n",
              "    </tr>\n",
              "    <tr>\n",
              "      <th>564</th>\n",
              "      <td>17/7/2021</td>\n",
              "      <td>9221</td>\n",
              "      <td>68384</td>\n",
              "    </tr>\n",
              "    <tr>\n",
              "      <th>565</th>\n",
              "      <td>18/7/2021</td>\n",
              "      <td>68326</td>\n",
              "      <td>12192</td>\n",
              "    </tr>\n",
              "    <tr>\n",
              "      <th>566</th>\n",
              "      <td>19/7/2021</td>\n",
              "      <td>64522</td>\n",
              "      <td>9466</td>\n",
              "    </tr>\n",
              "    <tr>\n",
              "      <th>567</th>\n",
              "      <td>20/7/2021</td>\n",
              "      <td>68403</td>\n",
              "      <td>10152</td>\n",
              "    </tr>\n",
              "    <tr>\n",
              "      <th>568</th>\n",
              "      <td>21/7/2021</td>\n",
              "      <td>82325</td>\n",
              "      <td>12210</td>\n",
              "    </tr>\n",
              "    <tr>\n",
              "      <th>569</th>\n",
              "      <td>22/7/2021</td>\n",
              "      <td>62846</td>\n",
              "      <td>10623</td>\n",
              "    </tr>\n",
              "    <tr>\n",
              "      <th>570</th>\n",
              "      <td>23/7/2021</td>\n",
              "      <td>58851</td>\n",
              "      <td>10200</td>\n",
              "    </tr>\n",
              "    <tr>\n",
              "      <th>571</th>\n",
              "      <td>24/7/2021</td>\n",
              "      <td>67283</td>\n",
              "      <td>13745</td>\n",
              "    </tr>\n",
              "  </tbody>\n",
              "</table>\n",
              "</div>"
            ],
            "text/plain": [
              "          Date  positive  Total Testing\n",
              "552   5/7/2021      4770          52017\n",
              "553   6/7/2021      6066          70051\n",
              "554   7/7/2021      6224          62695\n",
              "555   8/7/2021      6624          66596\n",
              "556   9/7/2021      6890          66267\n",
              "557  10/7/2021      9045          74906\n",
              "558  11/7/2021      8564          77848\n",
              "559  12/7/2021      6391          56775\n",
              "560  13/7/2021      7549          70798\n",
              "561  14/7/2021      7877          65836\n",
              "562  15/7/2021      8648          70403\n",
              "563  16/7/2021      9627          73260\n",
              "564  17/7/2021      9221          68384\n",
              "565  18/7/2021     68326          12192\n",
              "566  19/7/2021     64522           9466\n",
              "567  20/7/2021     68403          10152\n",
              "568  21/7/2021     82325          12210\n",
              "569  22/7/2021     62846          10623\n",
              "570  23/7/2021     58851          10200\n",
              "571  24/7/2021     67283          13745"
            ]
          },
          "metadata": {
            "tags": []
          },
          "execution_count": 12
        }
      ]
    },
    {
      "cell_type": "markdown",
      "metadata": {
        "id": "QDUv-XrHy5TI"
      },
      "source": [
        "# ขั้นที่ 2 Statical deacriptive"
      ]
    },
    {
      "cell_type": "code",
      "metadata": {
        "id": "iLt440ZYOr5d",
        "colab": {
          "base_uri": "https://localhost:8080/",
          "height": 296
        },
        "outputId": "e22467a2-67c8-4216-adf3-f36e5b3252d0"
      },
      "source": [
        "data_new.describe()"
      ],
      "execution_count": null,
      "outputs": [
        {
          "output_type": "execute_result",
          "data": {
            "text/html": [
              "<div>\n",
              "<style scoped>\n",
              "    .dataframe tbody tr th:only-of-type {\n",
              "        vertical-align: middle;\n",
              "    }\n",
              "\n",
              "    .dataframe tbody tr th {\n",
              "        vertical-align: top;\n",
              "    }\n",
              "\n",
              "    .dataframe thead th {\n",
              "        text-align: right;\n",
              "    }\n",
              "</style>\n",
              "<table border=\"1\" class=\"dataframe\">\n",
              "  <thead>\n",
              "    <tr style=\"text-align: right;\">\n",
              "      <th></th>\n",
              "      <th>positive</th>\n",
              "      <th>Total Testing</th>\n",
              "    </tr>\n",
              "  </thead>\n",
              "  <tbody>\n",
              "    <tr>\n",
              "      <th>count</th>\n",
              "      <td>571.000000</td>\n",
              "      <td>571.000000</td>\n",
              "    </tr>\n",
              "    <tr>\n",
              "      <th>mean</th>\n",
              "      <td>1518.982487</td>\n",
              "      <td>17090.155867</td>\n",
              "    </tr>\n",
              "    <tr>\n",
              "      <th>std</th>\n",
              "      <td>7568.603871</td>\n",
              "      <td>22213.129143</td>\n",
              "    </tr>\n",
              "    <tr>\n",
              "      <th>min</th>\n",
              "      <td>0.000000</td>\n",
              "      <td>0.000000</td>\n",
              "    </tr>\n",
              "    <tr>\n",
              "      <th>25%</th>\n",
              "      <td>6.000000</td>\n",
              "      <td>3594.000000</td>\n",
              "    </tr>\n",
              "    <tr>\n",
              "      <th>50%</th>\n",
              "      <td>29.000000</td>\n",
              "      <td>5778.000000</td>\n",
              "    </tr>\n",
              "    <tr>\n",
              "      <th>75%</th>\n",
              "      <td>231.500000</td>\n",
              "      <td>19506.000000</td>\n",
              "    </tr>\n",
              "    <tr>\n",
              "      <th>max</th>\n",
              "      <td>82325.000000</td>\n",
              "      <td>82290.000000</td>\n",
              "    </tr>\n",
              "  </tbody>\n",
              "</table>\n",
              "</div>"
            ],
            "text/plain": [
              "           positive  Total Testing\n",
              "count    571.000000     571.000000\n",
              "mean    1518.982487   17090.155867\n",
              "std     7568.603871   22213.129143\n",
              "min        0.000000       0.000000\n",
              "25%        6.000000    3594.000000\n",
              "50%       29.000000    5778.000000\n",
              "75%      231.500000   19506.000000\n",
              "max    82325.000000   82290.000000"
            ]
          },
          "metadata": {
            "tags": []
          },
          "execution_count": 52
        }
      ]
    },
    {
      "cell_type": "code",
      "metadata": {
        "id": "AmJ8laJpzQrG"
      },
      "source": [
        "# std:  ค่าส่วนเบี่ยงเบนมาตรฐาน (standard deviation, SD)\n",
        "# Quartile -> Q1 25%, Q2 50%, Q3 75%\t: เรียงจากน้อยไปมาก  "
      ],
      "execution_count": null,
      "outputs": []
    },
    {
      "cell_type": "markdown",
      "metadata": {
        "id": "jwbMyZf72UMz"
      },
      "source": [
        "# 3 Boxplot\n",
        "\n",
        "![image.png](data:image/png;base64,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)"
      ]
    },
    {
      "cell_type": "code",
      "metadata": {
        "id": "AinPYEf9zQuR"
      },
      "source": [
        "#Q1-1.5*IQR = ขอบล่าง, Q1+1.5*IQR = ขอบบน\n",
        "#IQR: ช่วงของ Q1, Q2, Q3                         "
      ],
      "execution_count": null,
      "outputs": []
    },
    {
      "cell_type": "code",
      "metadata": {
        "id": "ZI_8vM0hzQxq"
      },
      "source": [
        "from matplotlib import pyplot as plt #Library: matplotlib สำหรับวาดรูป plot graph, packet : pyplot  ตั้งชื่อว่า plt"
      ],
      "execution_count": null,
      "outputs": []
    },
    {
      "cell_type": "code",
      "metadata": {
        "colab": {
          "base_uri": "https://localhost:8080/",
          "height": 400
        },
        "id": "lk50766ZzQz_",
        "outputId": "51505257-3234-4e76-94f6-f22bcd889fdb"
      },
      "source": [
        "positive_ = data_new.positive.tolist()\n",
        "# data_new.iloc[:,1]\n",
        "# data_new.iloc[:,1:2]\n",
        "# data_new.iloc[:,1:-1]\n",
        "Total_ = data_new['Total Testing'].tolist()\n",
        "# data_new.iloc[:,-1:] #as same to create the list\n",
        "# data_new.iloc[:,2:3]\n",
        "# data_new.iloc[:,3]\n",
        "\n",
        "plt.boxplot(positive_) #positive"
      ],
      "execution_count": null,
      "outputs": [
        {
          "output_type": "execute_result",
          "data": {
            "text/plain": [
              "{'boxes': [<matplotlib.lines.Line2D at 0x7ffa6da4ef90>],\n",
              " 'caps': [<matplotlib.lines.Line2D at 0x7ffa6da55310>,\n",
              "  <matplotlib.lines.Line2D at 0x7ffa6da5c310>],\n",
              " 'fliers': [<matplotlib.lines.Line2D at 0x7ffa6da65090>],\n",
              " 'means': [],\n",
              " 'medians': [<matplotlib.lines.Line2D at 0x7ffa6da5c350>],\n",
              " 'whiskers': [<matplotlib.lines.Line2D at 0x7ffa6da55250>,\n",
              "  <matplotlib.lines.Line2D at 0x7ffa6da552d0>]}"
            ]
          },
          "metadata": {
            "tags": []
          },
          "execution_count": 42
        },
        {
          "output_type": "display_data",
          "data": {
            "image/png": "[encoded data removed]",
            "text/plain": [
              "<Figure size 432x288 with 1 Axes>"
            ]
          },
          "metadata": {
            "tags": [],
            "needs_background": "light"
          }
        }
      ]
    },
    {
      "cell_type": "code",
      "metadata": {
        "colab": {
          "base_uri": "https://localhost:8080/",
          "height": 400
        },
        "id": "reh2Rlli7uEa",
        "outputId": "5a1a8b4c-e7b0-414e-e118-f813f5d07a9b"
      },
      "source": [
        "plt.boxplot(Total_) #Total Testing"
      ],
      "execution_count": null,
      "outputs": [
        {
          "output_type": "execute_result",
          "data": {
            "text/plain": [
              "{'boxes': [<matplotlib.lines.Line2D at 0x7ffa6da3d410>],\n",
              " 'caps': [<matplotlib.lines.Line2D at 0x7ffa6da43210>,\n",
              "  <matplotlib.lines.Line2D at 0x7ffa6da43250>],\n",
              " 'fliers': [<matplotlib.lines.Line2D at 0x7ffa6da4a250>],\n",
              " 'means': [],\n",
              " 'medians': [<matplotlib.lines.Line2D at 0x7ffa6da43790>],\n",
              " 'whiskers': [<matplotlib.lines.Line2D at 0x7ffa6da3d710>,\n",
              "  <matplotlib.lines.Line2D at 0x7ffa6da3d790>]}"
            ]
          },
          "metadata": {
            "tags": []
          },
          "execution_count": 43
        },
        {
          "output_type": "display_data",
          "data": {
            "image/png": "[encoded data removed]",
            "text/plain": [
              "<Figure size 432x288 with 1 Axes>"
            ]
          },
          "metadata": {
            "tags": [],
            "needs_background": "light"
          }
        }
      ]
    },
    {
      "cell_type": "code",
      "metadata": {
        "colab": {
          "base_uri": "https://localhost:8080/",
          "height": 400
        },
        "id": "kI0XQn4U9_DG",
        "outputId": "95fdb117-54a1-46f1-c6f9-e8aab242d180"
      },
      "source": [
        "plt.boxplot(data_new.iloc[-54:,1]) #ดูตั้งเเต่ 1 มิถุนายน, positive"
      ],
      "execution_count": null,
      "outputs": [
        {
          "output_type": "execute_result",
          "data": {
            "text/plain": [
              "{'boxes': [<matplotlib.lines.Line2D at 0x7ffa6d9a3bd0>],\n",
              " 'caps': [<matplotlib.lines.Line2D at 0x7ffa6d9a3ad0>,\n",
              "  <matplotlib.lines.Line2D at 0x7ffa6d98be50>],\n",
              " 'fliers': [<matplotlib.lines.Line2D at 0x7ffa6d9571d0>],\n",
              " 'means': [],\n",
              " 'medians': [<matplotlib.lines.Line2D at 0x7ffa6d98b0d0>],\n",
              " 'whiskers': [<matplotlib.lines.Line2D at 0x7ffa6d9a30d0>,\n",
              "  <matplotlib.lines.Line2D at 0x7ffa6d9a3b90>]}"
            ]
          },
          "metadata": {
            "tags": []
          },
          "execution_count": 47
        },
        {
          "output_type": "display_data",
          "data": {
            "image/png": "[encoded data removed]",
            "text/plain": [
              "<Figure size 432x288 with 1 Axes>"
            ]
          },
          "metadata": {
            "tags": [],
            "needs_background": "light"
          }
        }
      ]
    },
    {
      "cell_type": "code",
      "metadata": {
        "colab": {
          "base_uri": "https://localhost:8080/",
          "height": 400
        },
        "id": "1isf4wXI9_F5",
        "outputId": "f9b5712e-1c63-47ec-9ada-6b4a9b8f3ff8"
      },
      "source": [
        "plt.boxplot(data_new.iloc[-54:,2]) #ดูตั้งเเต่ 1 มิถุนายน, Total Testing"
      ],
      "execution_count": null,
      "outputs": [
        {
          "output_type": "execute_result",
          "data": {
            "text/plain": [
              "{'boxes': [<matplotlib.lines.Line2D at 0x7ffa6d939f90>],\n",
              " 'caps': [<matplotlib.lines.Line2D at 0x7ffa6d942310>,\n",
              "  <matplotlib.lines.Line2D at 0x7ffa6d8cb310>],\n",
              " 'fliers': [<matplotlib.lines.Line2D at 0x7ffa6d8cb890>],\n",
              " 'means': [],\n",
              " 'medians': [<matplotlib.lines.Line2D at 0x7ffa6d8cb350>],\n",
              " 'whiskers': [<matplotlib.lines.Line2D at 0x7ffa6d9422d0>,\n",
              "  <matplotlib.lines.Line2D at 0x7ffa6d942350>]}"
            ]
          },
          "metadata": {
            "tags": []
          },
          "execution_count": 48
        },
        {
          "output_type": "display_data",
          "data": {
            "image/png": "[encoded data removed]",
            "text/plain": [
              "<Figure size 432x288 with 1 Axes>"
            ]
          },
          "metadata": {
            "tags": [],
            "needs_background": "light"
          }
        }
      ]
    },
    {
      "cell_type": "markdown",
      "metadata": {
        "id": "EYUc9yYV-53_"
      },
      "source": [
        "# 4 Plot all datapoints (depend on data type)\n",
        "Plot ดูการกระจายของข้อมูล "
      ]
    },
    {
      "cell_type": "markdown",
      "metadata": {
        "id": "iMIGziUP_Q6Q"
      },
      "source": [
        "## Time Series: "
      ]
    },
    {
      "cell_type": "code",
      "metadata": {
        "id": "q1qsAFOv9_Im"
      },
      "source": [
        "# x: วันที่\n",
        "# y: จำนวนผู้ป่วย"
      ],
      "execution_count": null,
      "outputs": []
    },
    {
      "cell_type": "code",
      "metadata": {
        "colab": {
          "base_uri": "https://localhost:8080/",
          "height": 282
        },
        "id": "YKmEv9KB9_LH",
        "outputId": "815dece2-cdbf-461c-f3f8-6f48f74ae0e7"
      },
      "source": [
        "y = data_new.iloc[:,1] #positive\n",
        "plt.plot(y)"
      ],
      "execution_count": null,
      "outputs": [
        {
          "output_type": "execute_result",
          "data": {
            "text/plain": [
              "[<matplotlib.lines.Line2D at 0x7ffa6d0ed0d0>]"
            ]
          },
          "metadata": {
            "tags": []
          },
          "execution_count": 63
        },
        {
          "output_type": "display_data",
          "data": {
            "image/png": "[encoded data removed]",
            "text/plain": [
              "<Figure size 432x288 with 1 Axes>"
            ]
          },
          "metadata": {
            "tags": [],
            "needs_background": "light"
          }
        }
      ]
    },
    {
      "cell_type": "code",
      "metadata": {
        "colab": {
          "base_uri": "https://localhost:8080/",
          "height": 282
        },
        "id": "s9mM7NUmAG1X",
        "outputId": "118a807e-92fd-4ce4-f789-c57b4ec66177"
      },
      "source": [
        "y = data_new.iloc[:,2] #Total Testing\n",
        "plt.plot(y)"
      ],
      "execution_count": null,
      "outputs": [
        {
          "output_type": "execute_result",
          "data": {
            "text/plain": [
              "[<matplotlib.lines.Line2D at 0x7ffa6d181b10>]"
            ]
          },
          "metadata": {
            "tags": []
          },
          "execution_count": 62
        },
        {
          "output_type": "display_data",
          "data": {
            "image/png": "[encoded data removed]",
            "text/plain": [
              "<Figure size 432x288 with 1 Axes>"
            ]
          },
          "metadata": {
            "tags": [],
            "needs_background": "light"
          }
        }
      ]
    },
    {
      "cell_type": "markdown",
      "metadata": {
        "id": "rtbY4zIBBEWS"
      },
      "source": [
        "#Quiz 6 plot time series ของ Positive และTotal Testing โดยตัด outlier"
      ]
    },
    {
      "cell_type": "markdown",
      "metadata": {
        "id": "8Fpzt-YSScSg"
      },
      "source": [
        "##จากค่าาสังเกต:\n",
        "> column ' positive ' เเละ ' Total Testing' value น่าจะสลับที่กัน ??\n",
        "\n",
        "![image.png](data:image/png;base64,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)"
      ]
    },
    {
      "cell_type": "code",
      "metadata": {
        "colab": {
          "base_uri": "https://localhost:8080/",
          "height": 282
        },
        "id": "wU9Qji8eBU3N",
        "outputId": "1a228efd-abce-424e-f16f-9cf0eef90e9d"
      },
      "source": [
        "y = data_new.iloc[:-7,1] #positive\n",
        "plt.plot(y,'r')"
      ],
      "execution_count": null,
      "outputs": [
        {
          "output_type": "execute_result",
          "data": {
            "text/plain": [
              "[<matplotlib.lines.Line2D at 0x7ffa6d3e9510>]"
            ]
          },
          "metadata": {
            "tags": []
          },
          "execution_count": 67
        },
        {
          "output_type": "display_data",
          "data": {
            "image/png": "[encoded data removed]",
            "text/plain": [
              "<Figure size 432x288 with 1 Axes>"
            ]
          },
          "metadata": {
            "tags": [],
            "needs_background": "light"
          }
        }
      ]
    },
    {
      "cell_type": "code",
      "metadata": {
        "colab": {
          "base_uri": "https://localhost:8080/",
          "height": 282
        },
        "id": "XAiT9ZsuBDuA",
        "outputId": "90e294a7-3ac4-4c1b-cd71-4ae35adf72f5"
      },
      "source": [
        "y = data_new.iloc[:-7,2] #Total Testing\n",
        "plt.plot(y) "
      ],
      "execution_count": null,
      "outputs": [
        {
          "output_type": "execute_result",
          "data": {
            "text/plain": [
              "[<matplotlib.lines.Line2D at 0x7ffa6d197890>]"
            ]
          },
          "metadata": {
            "tags": []
          },
          "execution_count": 61
        },
        {
          "output_type": "display_data",
          "data": {
            "image/png": "[encoded data removed]",
            "text/plain": [
              "<Figure size 432x288 with 1 Axes>"
            ]
          },
          "metadata": {
            "tags": [],
            "needs_background": "light"
          }
        }
      ]
    },
    {
      "cell_type": "code",
      "metadata": {
        "colab": {
          "base_uri": "https://localhost:8080/",
          "height": 282
        },
        "id": "f56nrimE9_Oy",
        "outputId": "92292842-65c8-455f-923a-742d5c332a3a"
      },
      "source": [
        "#plot 2 เส้นใน 1 กราฟ\n",
        "y = data_new.iloc[:-7,1] #positive\n",
        "plt.plot(y,'r')\n",
        "y = data_new.iloc[:-7,2] #Total Testing\n",
        "plt.plot(y) "
      ],
      "execution_count": null,
      "outputs": [
        {
          "output_type": "execute_result",
          "data": {
            "text/plain": [
              "[<matplotlib.lines.Line2D at 0x7ffa6d2f4490>]"
            ]
          },
          "metadata": {
            "tags": []
          },
          "execution_count": 68
        },
        {
          "output_type": "display_data",
          "data": {
            "image/png": "[encoded data removed]",
            "text/plain": [
              "<Figure size 432x288 with 1 Axes>"
            ]
          },
          "metadata": {
            "tags": [],
            "needs_background": "light"
          }
        }
      ]
    },
    {
      "cell_type": "code",
      "metadata": {
        "colab": {
          "base_uri": "https://localhost:8080/",
          "height": 282
        },
        "id": "Ku2h4VFB9_RY",
        "outputId": "7d365dfa-7f9c-4a82-a8ca-ab9ebc2eb3ae"
      },
      "source": [
        "#ยังไม่ลบ outlier\n",
        "y = data_new.iloc[500:,1] #positive\n",
        "plt.plot(y,'r')\n",
        "y = data_new.iloc[500:,2] #Total Testing\n",
        "plt.plot(y) \n",
        "#สามารถมองเเล้วตอบได้ว่ามันสลับที่กัน ของ values 2 ตัวแปรนี้"
      ],
      "execution_count": null,
      "outputs": [
        {
          "output_type": "execute_result",
          "data": {
            "text/plain": [
              "[<matplotlib.lines.Line2D at 0x7ffa6cf4be90>]"
            ]
          },
          "metadata": {
            "tags": []
          },
          "execution_count": 70
        },
        {
          "output_type": "display_data",
          "data": {
            "image/png": "[encoded data removed]",
            "text/plain": [
              "<Figure size 432x288 with 1 Axes>"
            ]
          },
          "metadata": {
            "tags": [],
            "needs_background": "light"
          }
        }
      ]
    },
    {
      "cell_type": "code",
      "metadata": {
        "colab": {
          "base_uri": "https://localhost:8080/",
          "height": 282
        },
        "id": "QMccNTtA9_Tt",
        "outputId": "21b4d5fe-1b29-4307-9384-c05e077ebb4b"
      },
      "source": [
        "y = data_new.iloc[510:520,1] #positive\n",
        "plt.plot(y,'r')\n",
        "y = data_new.iloc[510:520,2] #Total Testing\n",
        "plt.plot(y) "
      ],
      "execution_count": null,
      "outputs": [
        {
          "output_type": "execute_result",
          "data": {
            "text/plain": [
              "[<matplotlib.lines.Line2D at 0x7ffa6ced1450>]"
            ]
          },
          "metadata": {
            "tags": []
          },
          "execution_count": 71
        },
        {
          "output_type": "display_data",
          "data": {
            "image/png": "[encoded data removed]",
            "text/plain": [
              "<Figure size 432x288 with 1 Axes>"
            ]
          },
          "metadata": {
            "tags": [],
            "needs_background": "light"
          }
        }
      ]
    },
    {
      "cell_type": "code",
      "metadata": {
        "colab": {
          "base_uri": "https://localhost:8080/"
        },
        "id": "zU2tOp429_Wc",
        "outputId": "45198e0c-5c5c-4f26-b2f3-1bc96e1eb830"
      },
      "source": [
        "data_new.iloc[512,:] #ตัดเเถวเเรกไปเเล้ว index เลยเลื่อน จริงๆ เป็น index 513"
      ],
      "execution_count": null,
      "outputs": [
        {
          "output_type": "execute_result",
          "data": {
            "text/plain": [
              "Date             27/5/2021\n",
              "positive             10438\n",
              "Total Testing        73756\n",
              "Name: 513, dtype: object"
            ]
          },
          "metadata": {
            "tags": []
          },
          "execution_count": 76
        }
      ]
    },
    {
      "cell_type": "code",
      "metadata": {
        "id": "NVDcC5gGE8c_",
        "colab": {
          "base_uri": "https://localhost:8080/",
          "height": 282
        },
        "outputId": "e0db8342-d5f0-433f-8ec3-71c7c56fd737"
      },
      "source": [
        "y = data_new.iloc[500:-7,1] #positive\n",
        "plt.plot(y,'r')"
      ],
      "execution_count": null,
      "outputs": [
        {
          "output_type": "execute_result",
          "data": {
            "text/plain": [
              "[<matplotlib.lines.Line2D at 0x7ffa6cdb1e10>]"
            ]
          },
          "metadata": {
            "tags": []
          },
          "execution_count": 78
        },
        {
          "output_type": "display_data",
          "data": {
            "image/png": "[encoded data removed]",
            "text/plain": [
              "<Figure size 432x288 with 1 Axes>"
            ]
          },
          "metadata": {
            "tags": [],
            "needs_background": "light"
          }
        }
      ]
    },
    {
      "cell_type": "markdown",
      "metadata": {
        "id": "_wCqENEOGwCv"
      },
      "source": [
        "# Data Covid case by case (HW)"
      ]
    },
    {
      "cell_type": "code",
      "metadata": {
        "colab": {
          "base_uri": "https://localhost:8080/",
          "height": 141
        },
        "id": "iKyetva5Kbl1",
        "outputId": "99562f92-6e29-4b8a-ce56-d389f74203ad"
      },
      "source": [
        "import pandas as pd \n",
        "data_civid_cases = pd.read_csv( '/content/drive/MyDrive/DPDM2021_DATA/confirmed-cases.csv')\n",
        "data_civid_cases.head(3)"
      ],
      "execution_count": 9,
      "outputs": [
        {
          "output_type": "execute_result",
          "data": {
            "text/html": [
              "<div>\n",
              "<style scoped>\n",
              "    .dataframe tbody tr th:only-of-type {\n",
              "        vertical-align: middle;\n",
              "    }\n",
              "\n",
              "    .dataframe tbody tr th {\n",
              "        vertical-align: top;\n",
              "    }\n",
              "\n",
              "    .dataframe thead th {\n",
              "        text-align: right;\n",
              "    }\n",
              "</style>\n",
              "<table border=\"1\" class=\"dataframe\">\n",
              "  <thead>\n",
              "    <tr style=\"text-align: right;\">\n",
              "      <th></th>\n",
              "      <th>No.</th>\n",
              "      <th>announce_date</th>\n",
              "      <th>Notified date</th>\n",
              "      <th>sex</th>\n",
              "      <th>age</th>\n",
              "      <th>Unit</th>\n",
              "      <th>nationality</th>\n",
              "      <th>province_of_isolation</th>\n",
              "      <th>risk</th>\n",
              "      <th>province_of_onset</th>\n",
              "      <th>district_of_onset</th>\n",
              "    </tr>\n",
              "  </thead>\n",
              "  <tbody>\n",
              "    <tr>\n",
              "      <th>0</th>\n",
              "      <td>1</td>\n",
              "      <td>12/1/2020</td>\n",
              "      <td>NaN</td>\n",
              "      <td>หญิง</td>\n",
              "      <td>61.0</td>\n",
              "      <td>ปี</td>\n",
              "      <td>China</td>\n",
              "      <td>กรุงเทพมหานคร</td>\n",
              "      <td>คนต่างชาติเดินทางมาจากต่างประเทศ</td>\n",
              "      <td>กรุงเทพมหานคร</td>\n",
              "      <td>NaN</td>\n",
              "    </tr>\n",
              "    <tr>\n",
              "      <th>1</th>\n",
              "      <td>2</td>\n",
              "      <td>17/1/2020</td>\n",
              "      <td>NaN</td>\n",
              "      <td>หญิง</td>\n",
              "      <td>74.0</td>\n",
              "      <td>ปี</td>\n",
              "      <td>China</td>\n",
              "      <td>กรุงเทพมหานคร</td>\n",
              "      <td>คนต่างชาติเดินทางมาจากต่างประเทศ</td>\n",
              "      <td>กรุงเทพมหานคร</td>\n",
              "      <td>NaN</td>\n",
              "    </tr>\n",
              "    <tr>\n",
              "      <th>2</th>\n",
              "      <td>3</td>\n",
              "      <td>22/1/2020</td>\n",
              "      <td>NaN</td>\n",
              "      <td>หญิง</td>\n",
              "      <td>73.0</td>\n",
              "      <td>ปี</td>\n",
              "      <td>Thailand</td>\n",
              "      <td>นครปฐม</td>\n",
              "      <td>คนต่างชาติเดินทางมาจากต่างประเทศ</td>\n",
              "      <td>นครปฐม</td>\n",
              "      <td>เมือง</td>\n",
              "    </tr>\n",
              "  </tbody>\n",
              "</table>\n",
              "</div>"
            ],
            "text/plain": [
              "   No. announce_date  ... province_of_onset district_of_onset\n",
              "0    1     12/1/2020  ...     กรุงเทพมหานคร               NaN\n",
              "1    2     17/1/2020  ...     กรุงเทพมหานคร               NaN\n",
              "2    3     22/1/2020  ...            นครปฐม             เมือง\n",
              "\n",
              "[3 rows x 11 columns]"
            ]
          },
          "metadata": {
            "tags": []
          },
          "execution_count": 9
        }
      ]
    },
    {
      "cell_type": "markdown",
      "metadata": {
        "id": "A0DOR1_QHGK4"
      },
      "source": [
        "## 1 Eyesball the Data"
      ]
    },
    {
      "cell_type": "markdown",
      "metadata": {
        "id": "cjO_HVf3IRuU"
      },
      "source": [
        "### Meta Data\n",
        "![image.png](data:image/png;base64,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)"
      ]
    },
    {
      "cell_type": "code",
      "metadata": {
        "id": "6GWq3U0qIuwu",
        "colab": {
          "base_uri": "https://localhost:8080/",
          "height": 502
        },
        "outputId": "f5f8321c-eb67-47e6-d51d-82f759eb1747"
      },
      "source": [
        "#สนใจวันที่ 513\n",
        "data_civid_cases[data_civid_cases['Notified date'] == '26/5/2021']"
      ],
      "execution_count": 10,
      "outputs": [
        {
          "output_type": "execute_result",
          "data": {
            "text/html": [
              "<div>\n",
              "<style scoped>\n",
              "    .dataframe tbody tr th:only-of-type {\n",
              "        vertical-align: middle;\n",
              "    }\n",
              "\n",
              "    .dataframe tbody tr th {\n",
              "        vertical-align: top;\n",
              "    }\n",
              "\n",
              "    .dataframe thead th {\n",
              "        text-align: right;\n",
              "    }\n",
              "</style>\n",
              "<table border=\"1\" class=\"dataframe\">\n",
              "  <thead>\n",
              "    <tr style=\"text-align: right;\">\n",
              "      <th></th>\n",
              "      <th>No.</th>\n",
              "      <th>announce_date</th>\n",
              "      <th>Notified date</th>\n",
              "      <th>sex</th>\n",
              "      <th>age</th>\n",
              "      <th>Unit</th>\n",
              "      <th>nationality</th>\n",
              "      <th>province_of_isolation</th>\n",
              "      <th>risk</th>\n",
              "      <th>province_of_onset</th>\n",
              "      <th>district_of_onset</th>\n",
              "    </tr>\n",
              "  </thead>\n",
              "  <tbody>\n",
              "    <tr>\n",
              "      <th>135443</th>\n",
              "      <td>135444</td>\n",
              "      <td>26/5/2021</td>\n",
              "      <td>26/5/2021</td>\n",
              "      <td>ชาย</td>\n",
              "      <td>66.0</td>\n",
              "      <td>ปี</td>\n",
              "      <td>Thailand</td>\n",
              "      <td>ปทุมธานี</td>\n",
              "      <td>สัมผัสใกล้ชิดกับผู้ป่วยยืนยันรายก่อนหน้านี้</td>\n",
              "      <td>ปทุมธานี</td>\n",
              "      <td>ลำลูกกา</td>\n",
              "    </tr>\n",
              "    <tr>\n",
              "      <th>137838</th>\n",
              "      <td>137839</td>\n",
              "      <td>27/5/2021</td>\n",
              "      <td>26/5/2021</td>\n",
              "      <td>NaN</td>\n",
              "      <td>60.0</td>\n",
              "      <td>ปี</td>\n",
              "      <td>NaN</td>\n",
              "      <td>เชียงใหม่</td>\n",
              "      <td>ทัณฑสถาน/เรือนจำ</td>\n",
              "      <td>เชียงใหม่</td>\n",
              "      <td>NaN</td>\n",
              "    </tr>\n",
              "    <tr>\n",
              "      <th>137839</th>\n",
              "      <td>137840</td>\n",
              "      <td>27/5/2021</td>\n",
              "      <td>26/5/2021</td>\n",
              "      <td>NaN</td>\n",
              "      <td>33.0</td>\n",
              "      <td>ปี</td>\n",
              "      <td>NaN</td>\n",
              "      <td>เชียงใหม่</td>\n",
              "      <td>ทัณฑสถาน/เรือนจำ</td>\n",
              "      <td>เชียงใหม่</td>\n",
              "      <td>NaN</td>\n",
              "    </tr>\n",
              "    <tr>\n",
              "      <th>137840</th>\n",
              "      <td>137841</td>\n",
              "      <td>27/5/2021</td>\n",
              "      <td>26/5/2021</td>\n",
              "      <td>NaN</td>\n",
              "      <td>39.0</td>\n",
              "      <td>ปี</td>\n",
              "      <td>NaN</td>\n",
              "      <td>เชียงใหม่</td>\n",
              "      <td>ทัณฑสถาน/เรือนจำ</td>\n",
              "      <td>เชียงใหม่</td>\n",
              "      <td>NaN</td>\n",
              "    </tr>\n",
              "    <tr>\n",
              "      <th>137841</th>\n",
              "      <td>137842</td>\n",
              "      <td>27/5/2021</td>\n",
              "      <td>26/5/2021</td>\n",
              "      <td>NaN</td>\n",
              "      <td>30.0</td>\n",
              "      <td>ปี</td>\n",
              "      <td>NaN</td>\n",
              "      <td>เชียงใหม่</td>\n",
              "      <td>ทัณฑสถาน/เรือนจำ</td>\n",
              "      <td>เชียงใหม่</td>\n",
              "      <td>NaN</td>\n",
              "    </tr>\n",
              "    <tr>\n",
              "      <th>...</th>\n",
              "      <td>...</td>\n",
              "      <td>...</td>\n",
              "      <td>...</td>\n",
              "      <td>...</td>\n",
              "      <td>...</td>\n",
              "      <td>...</td>\n",
              "      <td>...</td>\n",
              "      <td>...</td>\n",
              "      <td>...</td>\n",
              "      <td>...</td>\n",
              "      <td>...</td>\n",
              "    </tr>\n",
              "    <tr>\n",
              "      <th>141156</th>\n",
              "      <td>141157</td>\n",
              "      <td>27/5/2021</td>\n",
              "      <td>26/5/2021</td>\n",
              "      <td>ชาย</td>\n",
              "      <td>21.0</td>\n",
              "      <td>ปี</td>\n",
              "      <td>Burmese</td>\n",
              "      <td>กรุงเทพมหานคร</td>\n",
              "      <td>การค้นหาผู้ป่วยเชิงรุกและค้นหาผู้ติดเชื้อในชุมชน</td>\n",
              "      <td>NaN</td>\n",
              "      <td>NaN</td>\n",
              "    </tr>\n",
              "    <tr>\n",
              "      <th>141157</th>\n",
              "      <td>141158</td>\n",
              "      <td>27/5/2021</td>\n",
              "      <td>26/5/2021</td>\n",
              "      <td>ชาย</td>\n",
              "      <td>21.0</td>\n",
              "      <td>ปี</td>\n",
              "      <td>NaN</td>\n",
              "      <td>กรุงเทพมหานคร</td>\n",
              "      <td>การค้นหาผู้ป่วยเชิงรุกและค้นหาผู้ติดเชื้อในชุมชน</td>\n",
              "      <td>NaN</td>\n",
              "      <td>NaN</td>\n",
              "    </tr>\n",
              "    <tr>\n",
              "      <th>141158</th>\n",
              "      <td>141159</td>\n",
              "      <td>27/5/2021</td>\n",
              "      <td>26/5/2021</td>\n",
              "      <td>หญิง</td>\n",
              "      <td>18.0</td>\n",
              "      <td>ปี</td>\n",
              "      <td>Laotian / Lao</td>\n",
              "      <td>กรุงเทพมหานคร</td>\n",
              "      <td>การค้นหาผู้ป่วยเชิงรุกและค้นหาผู้ติดเชื้อในชุมชน</td>\n",
              "      <td>NaN</td>\n",
              "      <td>NaN</td>\n",
              "    </tr>\n",
              "    <tr>\n",
              "      <th>141159</th>\n",
              "      <td>141160</td>\n",
              "      <td>27/5/2021</td>\n",
              "      <td>26/5/2021</td>\n",
              "      <td>ชาย</td>\n",
              "      <td>24.0</td>\n",
              "      <td>ปี</td>\n",
              "      <td>Thailand</td>\n",
              "      <td>กรุงเทพมหานคร</td>\n",
              "      <td>อยู่ระหว่างการสอบสวน</td>\n",
              "      <td>NaN</td>\n",
              "      <td>NaN</td>\n",
              "    </tr>\n",
              "    <tr>\n",
              "      <th>141160</th>\n",
              "      <td>141161</td>\n",
              "      <td>27/5/2021</td>\n",
              "      <td>26/5/2021</td>\n",
              "      <td>ชาย</td>\n",
              "      <td>56.0</td>\n",
              "      <td>ปี</td>\n",
              "      <td>Thailand</td>\n",
              "      <td>กรุงเทพมหานคร</td>\n",
              "      <td>การค้นหาผู้ป่วยเชิงรุกและค้นหาผู้ติดเชื้อในชุมชน</td>\n",
              "      <td>NaN</td>\n",
              "      <td>NaN</td>\n",
              "    </tr>\n",
              "  </tbody>\n",
              "</table>\n",
              "<p>3324 rows × 11 columns</p>\n",
              "</div>"
            ],
            "text/plain": [
              "           No. announce_date  ... province_of_onset district_of_onset\n",
              "135443  135444     26/5/2021  ...          ปทุมธานี           ลำลูกกา\n",
              "137838  137839     27/5/2021  ...         เชียงใหม่               NaN\n",
              "137839  137840     27/5/2021  ...         เชียงใหม่               NaN\n",
              "137840  137841     27/5/2021  ...         เชียงใหม่               NaN\n",
              "137841  137842     27/5/2021  ...         เชียงใหม่               NaN\n",
              "...        ...           ...  ...               ...               ...\n",
              "141156  141157     27/5/2021  ...               NaN               NaN\n",
              "141157  141158     27/5/2021  ...               NaN               NaN\n",
              "141158  141159     27/5/2021  ...               NaN               NaN\n",
              "141159  141160     27/5/2021  ...               NaN               NaN\n",
              "141160  141161     27/5/2021  ...               NaN               NaN\n",
              "\n",
              "[3324 rows x 11 columns]"
            ]
          },
          "metadata": {
            "tags": []
          },
          "execution_count": 10
        }
      ]
    },
    {
      "cell_type": "code",
      "metadata": {
        "id": "sF9leB_sHdbz",
        "colab": {
          "base_uri": "https://localhost:8080/",
          "height": 204
        },
        "outputId": "231ea58b-3e6f-43f4-c0b5-e0a5f32291af"
      },
      "source": [
        "data_civid_cases.head()"
      ],
      "execution_count": 11,
      "outputs": [
        {
          "output_type": "execute_result",
          "data": {
            "text/html": [
              "<div>\n",
              "<style scoped>\n",
              "    .dataframe tbody tr th:only-of-type {\n",
              "        vertical-align: middle;\n",
              "    }\n",
              "\n",
              "    .dataframe tbody tr th {\n",
              "        vertical-align: top;\n",
              "    }\n",
              "\n",
              "    .dataframe thead th {\n",
              "        text-align: right;\n",
              "    }\n",
              "</style>\n",
              "<table border=\"1\" class=\"dataframe\">\n",
              "  <thead>\n",
              "    <tr style=\"text-align: right;\">\n",
              "      <th></th>\n",
              "      <th>No.</th>\n",
              "      <th>announce_date</th>\n",
              "      <th>Notified date</th>\n",
              "      <th>sex</th>\n",
              "      <th>age</th>\n",
              "      <th>Unit</th>\n",
              "      <th>nationality</th>\n",
              "      <th>province_of_isolation</th>\n",
              "      <th>risk</th>\n",
              "      <th>province_of_onset</th>\n",
              "      <th>district_of_onset</th>\n",
              "    </tr>\n",
              "  </thead>\n",
              "  <tbody>\n",
              "    <tr>\n",
              "      <th>0</th>\n",
              "      <td>1</td>\n",
              "      <td>12/1/2020</td>\n",
              "      <td>NaN</td>\n",
              "      <td>หญิง</td>\n",
              "      <td>61.0</td>\n",
              "      <td>ปี</td>\n",
              "      <td>China</td>\n",
              "      <td>กรุงเทพมหานคร</td>\n",
              "      <td>คนต่างชาติเดินทางมาจากต่างประเทศ</td>\n",
              "      <td>กรุงเทพมหานคร</td>\n",
              "      <td>NaN</td>\n",
              "    </tr>\n",
              "    <tr>\n",
              "      <th>1</th>\n",
              "      <td>2</td>\n",
              "      <td>17/1/2020</td>\n",
              "      <td>NaN</td>\n",
              "      <td>หญิง</td>\n",
              "      <td>74.0</td>\n",
              "      <td>ปี</td>\n",
              "      <td>China</td>\n",
              "      <td>กรุงเทพมหานคร</td>\n",
              "      <td>คนต่างชาติเดินทางมาจากต่างประเทศ</td>\n",
              "      <td>กรุงเทพมหานคร</td>\n",
              "      <td>NaN</td>\n",
              "    </tr>\n",
              "    <tr>\n",
              "      <th>2</th>\n",
              "      <td>3</td>\n",
              "      <td>22/1/2020</td>\n",
              "      <td>NaN</td>\n",
              "      <td>หญิง</td>\n",
              "      <td>73.0</td>\n",
              "      <td>ปี</td>\n",
              "      <td>Thailand</td>\n",
              "      <td>นครปฐม</td>\n",
              "      <td>คนต่างชาติเดินทางมาจากต่างประเทศ</td>\n",
              "      <td>นครปฐม</td>\n",
              "      <td>เมือง</td>\n",
              "    </tr>\n",
              "    <tr>\n",
              "      <th>3</th>\n",
              "      <td>4</td>\n",
              "      <td>22/1/2020</td>\n",
              "      <td>NaN</td>\n",
              "      <td>ชาย</td>\n",
              "      <td>68.0</td>\n",
              "      <td>ปี</td>\n",
              "      <td>China</td>\n",
              "      <td>กรุงเทพมหานคร</td>\n",
              "      <td>คนต่างชาติเดินทางมาจากต่างประเทศ</td>\n",
              "      <td>กรุงเทพมหานคร</td>\n",
              "      <td>NaN</td>\n",
              "    </tr>\n",
              "    <tr>\n",
              "      <th>4</th>\n",
              "      <td>5</td>\n",
              "      <td>24/1/2020</td>\n",
              "      <td>NaN</td>\n",
              "      <td>หญิง</td>\n",
              "      <td>66.0</td>\n",
              "      <td>ปี</td>\n",
              "      <td>China</td>\n",
              "      <td>นนทบุรี</td>\n",
              "      <td>คนต่างชาติเดินทางมาจากต่างประเทศ</td>\n",
              "      <td>กรุงเทพมหานคร</td>\n",
              "      <td>NaN</td>\n",
              "    </tr>\n",
              "  </tbody>\n",
              "</table>\n",
              "</div>"
            ],
            "text/plain": [
              "   No. announce_date  ... province_of_onset district_of_onset\n",
              "0    1     12/1/2020  ...     กรุงเทพมหานคร               NaN\n",
              "1    2     17/1/2020  ...     กรุงเทพมหานคร               NaN\n",
              "2    3     22/1/2020  ...            นครปฐม             เมือง\n",
              "3    4     22/1/2020  ...     กรุงเทพมหานคร               NaN\n",
              "4    5     24/1/2020  ...     กรุงเทพมหานคร               NaN\n",
              "\n",
              "[5 rows x 11 columns]"
            ]
          },
          "metadata": {
            "tags": []
          },
          "execution_count": 11
        }
      ]
    },
    {
      "cell_type": "code",
      "metadata": {
        "id": "u3qY-BeXHdef",
        "colab": {
          "base_uri": "https://localhost:8080/",
          "height": 204
        },
        "outputId": "0270d614-9f5b-4b7f-b439-0904d70e8e11"
      },
      "source": [
        "data_civid_cases.tail()"
      ],
      "execution_count": 12,
      "outputs": [
        {
          "output_type": "execute_result",
          "data": {
            "text/html": [
              "<div>\n",
              "<style scoped>\n",
              "    .dataframe tbody tr th:only-of-type {\n",
              "        vertical-align: middle;\n",
              "    }\n",
              "\n",
              "    .dataframe tbody tr th {\n",
              "        vertical-align: top;\n",
              "    }\n",
              "\n",
              "    .dataframe thead th {\n",
              "        text-align: right;\n",
              "    }\n",
              "</style>\n",
              "<table border=\"1\" class=\"dataframe\">\n",
              "  <thead>\n",
              "    <tr style=\"text-align: right;\">\n",
              "      <th></th>\n",
              "      <th>No.</th>\n",
              "      <th>announce_date</th>\n",
              "      <th>Notified date</th>\n",
              "      <th>sex</th>\n",
              "      <th>age</th>\n",
              "      <th>Unit</th>\n",
              "      <th>nationality</th>\n",
              "      <th>province_of_isolation</th>\n",
              "      <th>risk</th>\n",
              "      <th>province_of_onset</th>\n",
              "      <th>district_of_onset</th>\n",
              "    </tr>\n",
              "  </thead>\n",
              "  <tbody>\n",
              "    <tr>\n",
              "      <th>512617</th>\n",
              "      <td>512618</td>\n",
              "      <td>26/7/2021</td>\n",
              "      <td>25/7/2021</td>\n",
              "      <td>ชาย</td>\n",
              "      <td>NaN</td>\n",
              "      <td>NaN</td>\n",
              "      <td>NaN</td>\n",
              "      <td>ชลบุรี</td>\n",
              "      <td>ทัณฑสถาน/เรือนจำ</td>\n",
              "      <td>NaN</td>\n",
              "      <td>NaN</td>\n",
              "    </tr>\n",
              "    <tr>\n",
              "      <th>512618</th>\n",
              "      <td>512619</td>\n",
              "      <td>26/7/2021</td>\n",
              "      <td>25/7/2021</td>\n",
              "      <td>ชาย</td>\n",
              "      <td>NaN</td>\n",
              "      <td>NaN</td>\n",
              "      <td>NaN</td>\n",
              "      <td>ชลบุรี</td>\n",
              "      <td>ทัณฑสถาน/เรือนจำ</td>\n",
              "      <td>NaN</td>\n",
              "      <td>NaN</td>\n",
              "    </tr>\n",
              "    <tr>\n",
              "      <th>512619</th>\n",
              "      <td>512620</td>\n",
              "      <td>26/7/2021</td>\n",
              "      <td>25/7/2021</td>\n",
              "      <td>ชาย</td>\n",
              "      <td>NaN</td>\n",
              "      <td>NaN</td>\n",
              "      <td>NaN</td>\n",
              "      <td>ชลบุรี</td>\n",
              "      <td>ทัณฑสถาน/เรือนจำ</td>\n",
              "      <td>NaN</td>\n",
              "      <td>NaN</td>\n",
              "    </tr>\n",
              "    <tr>\n",
              "      <th>512620</th>\n",
              "      <td>512621</td>\n",
              "      <td>26/7/2021</td>\n",
              "      <td>25/7/2021</td>\n",
              "      <td>ชาย</td>\n",
              "      <td>NaN</td>\n",
              "      <td>NaN</td>\n",
              "      <td>NaN</td>\n",
              "      <td>ชลบุรี</td>\n",
              "      <td>ทัณฑสถาน/เรือนจำ</td>\n",
              "      <td>NaN</td>\n",
              "      <td>NaN</td>\n",
              "    </tr>\n",
              "    <tr>\n",
              "      <th>512621</th>\n",
              "      <td>512622</td>\n",
              "      <td>26/7/2021</td>\n",
              "      <td>25/7/2021</td>\n",
              "      <td>ชาย</td>\n",
              "      <td>NaN</td>\n",
              "      <td>NaN</td>\n",
              "      <td>NaN</td>\n",
              "      <td>ชลบุรี</td>\n",
              "      <td>ทัณฑสถาน/เรือนจำ</td>\n",
              "      <td>NaN</td>\n",
              "      <td>NaN</td>\n",
              "    </tr>\n",
              "  </tbody>\n",
              "</table>\n",
              "</div>"
            ],
            "text/plain": [
              "           No. announce_date  ... province_of_onset district_of_onset\n",
              "512617  512618     26/7/2021  ...               NaN               NaN\n",
              "512618  512619     26/7/2021  ...               NaN               NaN\n",
              "512619  512620     26/7/2021  ...               NaN               NaN\n",
              "512620  512621     26/7/2021  ...               NaN               NaN\n",
              "512621  512622     26/7/2021  ...               NaN               NaN\n",
              "\n",
              "[5 rows x 11 columns]"
            ]
          },
          "metadata": {
            "tags": []
          },
          "execution_count": 12
        }
      ]
    },
    {
      "cell_type": "markdown",
      "metadata": {
        "id": "mlCIxKMEHJ1r"
      },
      "source": [
        "## 2 Statical deacriptive"
      ]
    },
    {
      "cell_type": "code",
      "metadata": {
        "id": "DeNLiGbEJcGm",
        "colab": {
          "base_uri": "https://localhost:8080/",
          "height": 296
        },
        "outputId": "926ff358-6973-42d9-d769-2811585e5f1e"
      },
      "source": [
        "data_civid_cases.describe() #Age ใช้ได้ ,No. ใช้ได้เเค่ count\n",
        "#มีคนเป็น โควิดเเล้วทั้งหมด  512,622 คน ในประเทศไทย\n",
        "# คนที่เป็น covid ส่วนใหญ่อายุ  34 ปี\n",
        "# อายุมากที่สุดที่เป็น covid คือ 108 ปี\n",
        "# อายุน้อยที่สุดที่เป็น covid คือ 1 ปี"
      ],
      "execution_count": 13,
      "outputs": [
        {
          "output_type": "execute_result",
          "data": {
            "text/html": [
              "<div>\n",
              "<style scoped>\n",
              "    .dataframe tbody tr th:only-of-type {\n",
              "        vertical-align: middle;\n",
              "    }\n",
              "\n",
              "    .dataframe tbody tr th {\n",
              "        vertical-align: top;\n",
              "    }\n",
              "\n",
              "    .dataframe thead th {\n",
              "        text-align: right;\n",
              "    }\n",
              "</style>\n",
              "<table border=\"1\" class=\"dataframe\">\n",
              "  <thead>\n",
              "    <tr style=\"text-align: right;\">\n",
              "      <th></th>\n",
              "      <th>No.</th>\n",
              "      <th>age</th>\n",
              "    </tr>\n",
              "  </thead>\n",
              "  <tbody>\n",
              "    <tr>\n",
              "      <th>count</th>\n",
              "      <td>512622.000000</td>\n",
              "      <td>462839.000000</td>\n",
              "    </tr>\n",
              "    <tr>\n",
              "      <th>mean</th>\n",
              "      <td>256311.500000</td>\n",
              "      <td>35.529470</td>\n",
              "    </tr>\n",
              "    <tr>\n",
              "      <th>std</th>\n",
              "      <td>147981.369183</td>\n",
              "      <td>16.153885</td>\n",
              "    </tr>\n",
              "    <tr>\n",
              "      <th>min</th>\n",
              "      <td>1.000000</td>\n",
              "      <td>1.000000</td>\n",
              "    </tr>\n",
              "    <tr>\n",
              "      <th>25%</th>\n",
              "      <td>128156.250000</td>\n",
              "      <td>25.000000</td>\n",
              "    </tr>\n",
              "    <tr>\n",
              "      <th>50%</th>\n",
              "      <td>256311.500000</td>\n",
              "      <td>34.000000</td>\n",
              "    </tr>\n",
              "    <tr>\n",
              "      <th>75%</th>\n",
              "      <td>384466.750000</td>\n",
              "      <td>46.000000</td>\n",
              "    </tr>\n",
              "    <tr>\n",
              "      <th>max</th>\n",
              "      <td>512622.000000</td>\n",
              "      <td>108.000000</td>\n",
              "    </tr>\n",
              "  </tbody>\n",
              "</table>\n",
              "</div>"
            ],
            "text/plain": [
              "                 No.            age\n",
              "count  512622.000000  462839.000000\n",
              "mean   256311.500000      35.529470\n",
              "std    147981.369183      16.153885\n",
              "min         1.000000       1.000000\n",
              "25%    128156.250000      25.000000\n",
              "50%    256311.500000      34.000000\n",
              "75%    384466.750000      46.000000\n",
              "max    512622.000000     108.000000"
            ]
          },
          "metadata": {
            "tags": []
          },
          "execution_count": 13
        }
      ]
    },
    {
      "cell_type": "markdown",
      "metadata": {
        "id": "A-p2GScnHMpC"
      },
      "source": [
        "## 3 Boxplot"
      ]
    },
    {
      "cell_type": "code",
      "metadata": {
        "id": "Q5kgGg1fKe8c",
        "colab": {
          "base_uri": "https://localhost:8080/",
          "height": 400
        },
        "outputId": "46225c17-599e-49d6-9961-7516b994fc57"
      },
      "source": [
        "from matplotlib import pyplot as plt\n",
        "plt.boxplot(data_civid_cases['age'].dropna()) # plt.boxplot(data_civid_cases.iloc[:,4].dropna())\n",
        "# เหตุผลที่คนเเก่ที่ติดโควิดมีจำนวนน้อยเเละไม่ได้เป็นตัวเเทนในสถิติ คนที่ติดโควิด\n",
        "# เพราะคนเเก่ ระวังตัวสูง ไม่ค่อยได้ไปไหน, เเต่ติดเเล้วโอกาสรอดน้อยด้วยโรคปรนะจำตัวเยอะ, ส่วนใหญ่ติดก็ไม่ได้พาไปหาหมอ"
      ],
      "execution_count": 24,
      "outputs": [
        {
          "output_type": "execute_result",
          "data": {
            "text/plain": [
              "{'boxes': [<matplotlib.lines.Line2D at 0x7f09fd974c90>],\n",
              " 'caps': [<matplotlib.lines.Line2D at 0x7f09fd986d50>,\n",
              "  <matplotlib.lines.Line2D at 0x7f09fd90d2d0>],\n",
              " 'fliers': [<matplotlib.lines.Line2D at 0x7f09fd90dd90>],\n",
              " 'means': [],\n",
              " 'medians': [<matplotlib.lines.Line2D at 0x7f09fd90d850>],\n",
              " 'whiskers': [<matplotlib.lines.Line2D at 0x7f09fd9862d0>,\n",
              "  <matplotlib.lines.Line2D at 0x7f09fd986810>]}"
            ]
          },
          "metadata": {
            "tags": []
          },
          "execution_count": 24
        },
        {
          "output_type": "display_data",
          "data": {
            "image/png": "[encoded data removed]",
            "text/plain": [
              "<Figure size 432x288 with 1 Axes>"
            ]
          },
          "metadata": {
            "tags": [],
            "needs_background": "light"
          }
        }
      ]
    },
    {
      "cell_type": "code",
      "metadata": {
        "id": "uaOAAwJ7LyfX"
      },
      "source": [
        "data_civid_cases[['No.','sex']].groupby('sex').count() #จะได้ว่าพบ ค่าที่ไม่สอดคล้องอยู่ 1 ค่า คือ 'นาย'"
      ],
      "execution_count": null,
      "outputs": []
    },
    {
      "cell_type": "code",
      "metadata": {
        "id": "KkhV26VjQEp_"
      },
      "source": [
        "df.max().sort_values(ascending=False)"
      ],
      "execution_count": null,
      "outputs": []
    },
    {
      "cell_type": "code",
      "metadata": {
        "id": "Dd8-a0xcO8XD"
      },
      "source": [
        "#คนที่ติดมาจากความเสี่ยงอะไรบ้าง \n",
        "df = data_civid_cases[['No.','risk']].dropna().groupby('risk').count()\n",
        "df"
      ],
      "execution_count": null,
      "outputs": []
    },
    {
      "cell_type": "code",
      "metadata": {
        "id": "WswnXseuNeC-",
        "colab": {
          "base_uri": "https://localhost:8080/",
          "height": 1000
        },
        "outputId": "8bac5732-6097-4f1d-c8ef-14700ab1b260"
      },
      "source": [
        "#คนที่ติดมาจากความเสี่ยง 'คนต่างชาติเดินทางมาจากต่างประเทศ' ประเทศอะไรบ้าง\n",
        "df= data_civid_cases[data_civid_cases['risk']=='คนต่างชาติเดินทางมาจากต่างประเทศ']\n",
        "df[['No.','nationality']].groupby('nationality').count()"
      ],
      "execution_count": 15,
      "outputs": [
        {
          "output_type": "execute_result",
          "data": {
            "text/html": [
              "<div>\n",
              "<style scoped>\n",
              "    .dataframe tbody tr th:only-of-type {\n",
              "        vertical-align: middle;\n",
              "    }\n",
              "\n",
              "    .dataframe tbody tr th {\n",
              "        vertical-align: top;\n",
              "    }\n",
              "\n",
              "    .dataframe thead th {\n",
              "        text-align: right;\n",
              "    }\n",
              "</style>\n",
              "<table border=\"1\" class=\"dataframe\">\n",
              "  <thead>\n",
              "    <tr style=\"text-align: right;\">\n",
              "      <th></th>\n",
              "      <th>No.</th>\n",
              "    </tr>\n",
              "    <tr>\n",
              "      <th>nationality</th>\n",
              "      <th></th>\n",
              "    </tr>\n",
              "  </thead>\n",
              "  <tbody>\n",
              "    <tr>\n",
              "      <th>Albania</th>\n",
              "      <td>1</td>\n",
              "    </tr>\n",
              "    <tr>\n",
              "      <th>Australia</th>\n",
              "      <td>2</td>\n",
              "    </tr>\n",
              "    <tr>\n",
              "      <th>Bangladeshi</th>\n",
              "      <td>2</td>\n",
              "    </tr>\n",
              "    <tr>\n",
              "      <th>Belgium</th>\n",
              "      <td>2</td>\n",
              "    </tr>\n",
              "    <tr>\n",
              "      <th>Burma</th>\n",
              "      <td>39</td>\n",
              "    </tr>\n",
              "    <tr>\n",
              "      <th>Burmese</th>\n",
              "      <td>18</td>\n",
              "    </tr>\n",
              "    <tr>\n",
              "      <th>Cambodia</th>\n",
              "      <td>2</td>\n",
              "    </tr>\n",
              "    <tr>\n",
              "      <th>Cambodian</th>\n",
              "      <td>3</td>\n",
              "    </tr>\n",
              "    <tr>\n",
              "      <th>Canada</th>\n",
              "      <td>2</td>\n",
              "    </tr>\n",
              "    <tr>\n",
              "      <th>China</th>\n",
              "      <td>19</td>\n",
              "    </tr>\n",
              "    <tr>\n",
              "      <th>Chinese</th>\n",
              "      <td>2</td>\n",
              "    </tr>\n",
              "    <tr>\n",
              "      <th>Denmark</th>\n",
              "      <td>2</td>\n",
              "    </tr>\n",
              "    <tr>\n",
              "      <th>Filipino</th>\n",
              "      <td>1</td>\n",
              "    </tr>\n",
              "    <tr>\n",
              "      <th>Finland</th>\n",
              "      <td>1</td>\n",
              "    </tr>\n",
              "    <tr>\n",
              "      <th>France</th>\n",
              "      <td>19</td>\n",
              "    </tr>\n",
              "    <tr>\n",
              "      <th>Germany</th>\n",
              "      <td>5</td>\n",
              "    </tr>\n",
              "    <tr>\n",
              "      <th>India</th>\n",
              "      <td>3</td>\n",
              "    </tr>\n",
              "    <tr>\n",
              "      <th>Indonesia</th>\n",
              "      <td>7</td>\n",
              "    </tr>\n",
              "    <tr>\n",
              "      <th>Indonesian</th>\n",
              "      <td>4</td>\n",
              "    </tr>\n",
              "    <tr>\n",
              "      <th>Italy</th>\n",
              "      <td>4</td>\n",
              "    </tr>\n",
              "    <tr>\n",
              "      <th>Japan</th>\n",
              "      <td>5</td>\n",
              "    </tr>\n",
              "    <tr>\n",
              "      <th>Korea, South</th>\n",
              "      <td>3</td>\n",
              "    </tr>\n",
              "    <tr>\n",
              "      <th>Kuwait</th>\n",
              "      <td>1</td>\n",
              "    </tr>\n",
              "    <tr>\n",
              "      <th>Laos</th>\n",
              "      <td>1</td>\n",
              "    </tr>\n",
              "    <tr>\n",
              "      <th>Liberia</th>\n",
              "      <td>1</td>\n",
              "    </tr>\n",
              "    <tr>\n",
              "      <th>Netherlands</th>\n",
              "      <td>2</td>\n",
              "    </tr>\n",
              "    <tr>\n",
              "      <th>New Zealand</th>\n",
              "      <td>1</td>\n",
              "    </tr>\n",
              "    <tr>\n",
              "      <th>Pakistan</th>\n",
              "      <td>3</td>\n",
              "    </tr>\n",
              "    <tr>\n",
              "      <th>Philippines</th>\n",
              "      <td>3</td>\n",
              "    </tr>\n",
              "    <tr>\n",
              "      <th>Poland</th>\n",
              "      <td>1</td>\n",
              "    </tr>\n",
              "    <tr>\n",
              "      <th>Portugal</th>\n",
              "      <td>1</td>\n",
              "    </tr>\n",
              "    <tr>\n",
              "      <th>Russia</th>\n",
              "      <td>5</td>\n",
              "    </tr>\n",
              "    <tr>\n",
              "      <th>Serbia</th>\n",
              "      <td>1</td>\n",
              "    </tr>\n",
              "    <tr>\n",
              "      <th>Singapore</th>\n",
              "      <td>2</td>\n",
              "    </tr>\n",
              "    <tr>\n",
              "      <th>Sweden</th>\n",
              "      <td>3</td>\n",
              "    </tr>\n",
              "    <tr>\n",
              "      <th>Switzerland</th>\n",
              "      <td>5</td>\n",
              "    </tr>\n",
              "    <tr>\n",
              "      <th>Taiwan</th>\n",
              "      <td>1</td>\n",
              "    </tr>\n",
              "    <tr>\n",
              "      <th>Thailand</th>\n",
              "      <td>10</td>\n",
              "    </tr>\n",
              "    <tr>\n",
              "      <th>Tunisia</th>\n",
              "      <td>1</td>\n",
              "    </tr>\n",
              "    <tr>\n",
              "      <th>Ukraine</th>\n",
              "      <td>1</td>\n",
              "    </tr>\n",
              "    <tr>\n",
              "      <th>United Kingdom</th>\n",
              "      <td>14</td>\n",
              "    </tr>\n",
              "    <tr>\n",
              "      <th>United States of America</th>\n",
              "      <td>6</td>\n",
              "    </tr>\n",
              "  </tbody>\n",
              "</table>\n",
              "</div>"
            ],
            "text/plain": [
              "                          No.\n",
              "nationality                  \n",
              "Albania                     1\n",
              "Australia                   2\n",
              "Bangladeshi                 2\n",
              "Belgium                     2\n",
              "Burma                      39\n",
              "Burmese                    18\n",
              "Cambodia                    2\n",
              "Cambodian                   3\n",
              "Canada                      2\n",
              "China                      19\n",
              "Chinese                     2\n",
              "Denmark                     2\n",
              "Filipino                    1\n",
              "Finland                     1\n",
              "France                     19\n",
              "Germany                     5\n",
              "India                       3\n",
              "Indonesia                   7\n",
              "Indonesian                  4\n",
              "Italy                       4\n",
              "Japan                       5\n",
              "Korea, South                3\n",
              "Kuwait                      1\n",
              "Laos                        1\n",
              "Liberia                     1\n",
              "Netherlands                 2\n",
              "New Zealand                 1\n",
              "Pakistan                    3\n",
              "Philippines                 3\n",
              "Poland                      1\n",
              "Portugal                    1\n",
              "Russia                      5\n",
              "Serbia                      1\n",
              "Singapore                   2\n",
              "Sweden                      3\n",
              "Switzerland                 5\n",
              "Taiwan                      1\n",
              "Thailand                   10\n",
              "Tunisia                     1\n",
              "Ukraine                     1\n",
              "United Kingdom             14\n",
              "United States of America    6"
            ]
          },
          "metadata": {
            "tags": []
          },
          "execution_count": 15
        }
      ]
    },
    {
      "cell_type": "markdown",
      "metadata": {
        "id": "3gmI4GJDHQPw"
      },
      "source": [
        "## 4 Plot all datapoints (depend on data type)"
      ]
    },
    {
      "cell_type": "code",
      "metadata": {
        "id": "LBjqqFJ-E8f4"
      },
      "source": [
        "# data_new.describe()"
      ],
      "execution_count": 17,
      "outputs": []
    },
    {
      "cell_type": "markdown",
      "metadata": {
        "id": "gTWNvREE-rd9"
      },
      "source": [
        "# Data Visualization\n",
        "* Packege ``` matplotlib```\n",
        "* Boxplot\n",
        "* Scatter plot\n",
        "* Plot\n",
        "* Barchart\n",
        "* Histogram\n"
      ]
    },
    {
      "cell_type": "code",
      "metadata": {
        "colab": {
          "base_uri": "https://localhost:8080/",
          "height": 141
        },
        "id": "SmUANw4xAaXu",
        "outputId": "433c0df1-f300-46bf-f584-1434aa70483c"
      },
      "source": [
        "import pandas as pd \n",
        "data_civid_cases = pd.read_csv( '/content/drive/MyDrive/DPDM2021_DATA/confirmed-cases.csv')\n",
        "data_civid_cases.head(3)"
      ],
      "execution_count": 18,
      "outputs": [
        {
          "output_type": "execute_result",
          "data": {
            "text/html": [
              "<div>\n",
              "<style scoped>\n",
              "    .dataframe tbody tr th:only-of-type {\n",
              "        vertical-align: middle;\n",
              "    }\n",
              "\n",
              "    .dataframe tbody tr th {\n",
              "        vertical-align: top;\n",
              "    }\n",
              "\n",
              "    .dataframe thead th {\n",
              "        text-align: right;\n",
              "    }\n",
              "</style>\n",
              "<table border=\"1\" class=\"dataframe\">\n",
              "  <thead>\n",
              "    <tr style=\"text-align: right;\">\n",
              "      <th></th>\n",
              "      <th>No.</th>\n",
              "      <th>announce_date</th>\n",
              "      <th>Notified date</th>\n",
              "      <th>sex</th>\n",
              "      <th>age</th>\n",
              "      <th>Unit</th>\n",
              "      <th>nationality</th>\n",
              "      <th>province_of_isolation</th>\n",
              "      <th>risk</th>\n",
              "      <th>province_of_onset</th>\n",
              "      <th>district_of_onset</th>\n",
              "    </tr>\n",
              "  </thead>\n",
              "  <tbody>\n",
              "    <tr>\n",
              "      <th>0</th>\n",
              "      <td>1</td>\n",
              "      <td>12/1/2020</td>\n",
              "      <td>NaN</td>\n",
              "      <td>หญิง</td>\n",
              "      <td>61.0</td>\n",
              "      <td>ปี</td>\n",
              "      <td>China</td>\n",
              "      <td>กรุงเทพมหานคร</td>\n",
              "      <td>คนต่างชาติเดินทางมาจากต่างประเทศ</td>\n",
              "      <td>กรุงเทพมหานคร</td>\n",
              "      <td>NaN</td>\n",
              "    </tr>\n",
              "    <tr>\n",
              "      <th>1</th>\n",
              "      <td>2</td>\n",
              "      <td>17/1/2020</td>\n",
              "      <td>NaN</td>\n",
              "      <td>หญิง</td>\n",
              "      <td>74.0</td>\n",
              "      <td>ปี</td>\n",
              "      <td>China</td>\n",
              "      <td>กรุงเทพมหานคร</td>\n",
              "      <td>คนต่างชาติเดินทางมาจากต่างประเทศ</td>\n",
              "      <td>กรุงเทพมหานคร</td>\n",
              "      <td>NaN</td>\n",
              "    </tr>\n",
              "    <tr>\n",
              "      <th>2</th>\n",
              "      <td>3</td>\n",
              "      <td>22/1/2020</td>\n",
              "      <td>NaN</td>\n",
              "      <td>หญิง</td>\n",
              "      <td>73.0</td>\n",
              "      <td>ปี</td>\n",
              "      <td>Thailand</td>\n",
              "      <td>นครปฐม</td>\n",
              "      <td>คนต่างชาติเดินทางมาจากต่างประเทศ</td>\n",
              "      <td>นครปฐม</td>\n",
              "      <td>เมือง</td>\n",
              "    </tr>\n",
              "  </tbody>\n",
              "</table>\n",
              "</div>"
            ],
            "text/plain": [
              "   No. announce_date  ... province_of_onset district_of_onset\n",
              "0    1     12/1/2020  ...     กรุงเทพมหานคร               NaN\n",
              "1    2     17/1/2020  ...     กรุงเทพมหานคร               NaN\n",
              "2    3     22/1/2020  ...            นครปฐม             เมือง\n",
              "\n",
              "[3 rows x 11 columns]"
            ]
          },
          "metadata": {
            "tags": []
          },
          "execution_count": 18
        }
      ]
    },
    {
      "cell_type": "code",
      "metadata": {
        "id": "lpJ9aseNAhoU"
      },
      "source": [
        "# path ='/content/drive/MyDrive/DPDM2021_DATA/' \n",
        "# data = pd.read_csv(os.path.join(path,'thailand_covid-19_testing_data.csv')) #pd.read_csv(os.path.join(ที่อยู่ไฟล์,ชื่อไฟล์)) \n",
        "# #จัดการ Row and Column\n",
        "# data_new = data.iloc[1:,:3] # table_name.iloc[เเถวเริ่มต้น : เเถวสุดท้าย, คอลัมเริ่มต้น : คอลัมสุดท้าย]\n",
        "# data_new.head()"
      ],
      "execution_count": 26,
      "outputs": []
    },
    {
      "cell_type": "code",
      "metadata": {
        "id": "gjqdigliE8iY",
        "colab": {
          "base_uri": "https://localhost:8080/",
          "height": 265
        },
        "outputId": "0089af4d-2ac0-40fb-e97f-a0d67bc49e88"
      },
      "source": [
        "from matplotlib import pyplot as plt\n",
        "bxp_output = plt.boxplot(data_civid_cases['age'].dropna()) "
      ],
      "execution_count": 27,
      "outputs": [
        {
          "output_type": "display_data",
          "data": {
            "image/png": "[encoded data removed]",
            "text/plain": [
              "<Figure size 432x288 with 1 Axes>"
            ]
          },
          "metadata": {
            "tags": [],
            "needs_background": "light"
          }
        }
      ]
    },
    {
      "cell_type": "code",
      "metadata": {
        "id": "qekiTPU8E8lD",
        "colab": {
          "base_uri": "https://localhost:8080/"
        },
        "outputId": "977137c1-3015-4a04-af56-287df4b6dd6e"
      },
      "source": [
        "# เมื่อต้องการจะรู้ค่่าของ boxplot\n",
        "bxp_output"
      ],
      "execution_count": 28,
      "outputs": [
        {
          "output_type": "execute_result",
          "data": {
            "text/plain": [
              "{'boxes': [<matplotlib.lines.Line2D at 0x7f09fd392510>],\n",
              " 'caps': [<matplotlib.lines.Line2D at 0x7f09fd398510>,\n",
              "  <matplotlib.lines.Line2D at 0x7f09fd398a50>],\n",
              " 'fliers': [<matplotlib.lines.Line2D at 0x7f09fd39e550>],\n",
              " 'means': [],\n",
              " 'medians': [<matplotlib.lines.Line2D at 0x7f09fd398fd0>],\n",
              " 'whiskers': [<matplotlib.lines.Line2D at 0x7f09fd392a50>,\n",
              "  <matplotlib.lines.Line2D at 0x7f09fd392f90>]}"
            ]
          },
          "metadata": {
            "tags": []
          },
          "execution_count": 28
        }
      ]
    },
    {
      "cell_type": "code",
      "metadata": {
        "id": "GYmHLELSE8n4",
        "colab": {
          "base_uri": "https://localhost:8080/"
        },
        "outputId": "f7903993-d6bd-4755-e9ea-4f8bb2ff2836"
      },
      "source": [
        "bxp_output['boxes']"
      ],
      "execution_count": 29,
      "outputs": [
        {
          "output_type": "execute_result",
          "data": {
            "text/plain": [
              "[<matplotlib.lines.Line2D at 0x7f09fd392510>]"
            ]
          },
          "metadata": {
            "tags": []
          },
          "execution_count": 29
        }
      ]
    },
    {
      "cell_type": "code",
      "metadata": {
        "id": "Gc0poANLE8qD",
        "colab": {
          "base_uri": "https://localhost:8080/"
        },
        "outputId": "1d7f67c7-b668-4e67-f6aa-149010c0f7be"
      },
      "source": [
        "bxp_output['boxes'][0].get_ydata() # เพื่อเเสดงค่า ในเเนวแกน y ของ boxplot\n",
        "#25 :Q1, 46:Q3"
      ],
      "execution_count": 31,
      "outputs": [
        {
          "output_type": "execute_result",
          "data": {
            "text/plain": [
              "array([25., 25., 46., 46., 25.])"
            ]
          },
          "metadata": {
            "tags": []
          },
          "execution_count": 31
        }
      ]
    },
    {
      "cell_type": "code",
      "metadata": {
        "colab": {
          "base_uri": "https://localhost:8080/"
        },
        "id": "FKEQuqYMD2qQ",
        "outputId": "a0e4e280-7c4f-4f0a-82f1-187b8c335c44"
      },
      "source": [
        "bxp_output['boxes'][0].get_ydata()[0]"
      ],
      "execution_count": 41,
      "outputs": [
        {
          "output_type": "execute_result",
          "data": {
            "text/plain": [
              "25.0"
            ]
          },
          "metadata": {
            "tags": []
          },
          "execution_count": 41
        }
      ]
    },
    {
      "cell_type": "code",
      "metadata": {
        "colab": {
          "base_uri": "https://localhost:8080/"
        },
        "id": "2gpTCjwjCcc3",
        "outputId": "7a9e64ee-3491-4c4e-d1c7-752eecbbd9e6"
      },
      "source": [
        "bxp_output['boxes'][0].get_xdata() #ไม่มีความหมาย ไม่ได้สนใจ เพราะเราวาดเเนวแกนตั้ง"
      ],
      "execution_count": 33,
      "outputs": [
        {
          "output_type": "execute_result",
          "data": {
            "text/plain": [
              "array([0.925, 1.075, 1.075, 0.925, 0.925])"
            ]
          },
          "metadata": {
            "tags": []
          },
          "execution_count": 33
        }
      ]
    },
    {
      "cell_type": "code",
      "metadata": {
        "id": "htoFNwBOE8tJ",
        "colab": {
          "base_uri": "https://localhost:8080/"
        },
        "outputId": "a7163156-d96e-4a0e-d500-86f98ff52b03"
      },
      "source": [
        "bxp_output['caps'][0].get_ydata() #minimum"
      ],
      "execution_count": 32,
      "outputs": [
        {
          "output_type": "execute_result",
          "data": {
            "text/plain": [
              "array([1., 1.])"
            ]
          },
          "metadata": {
            "tags": []
          },
          "execution_count": 32
        }
      ]
    },
    {
      "cell_type": "code",
      "metadata": {
        "colab": {
          "base_uri": "https://localhost:8080/"
        },
        "id": "kKnL6FXFCyvs",
        "outputId": "3fb07454-a41e-46cf-bb2d-c92dd2288258"
      },
      "source": [
        "bxp_output['caps'][1].get_ydata() #maximum"
      ],
      "execution_count": 34,
      "outputs": [
        {
          "output_type": "execute_result",
          "data": {
            "text/plain": [
              "array([77., 77.])"
            ]
          },
          "metadata": {
            "tags": []
          },
          "execution_count": 34
        }
      ]
    },
    {
      "cell_type": "code",
      "metadata": {
        "id": "MA0OEHkJKbos",
        "colab": {
          "base_uri": "https://localhost:8080/"
        },
        "outputId": "fc989866-fb11-419c-a87f-e8f4a04a13fa"
      },
      "source": [
        "bxp_output['fliers'][0].get_ydata() #Outlier value"
      ],
      "execution_count": 37,
      "outputs": [
        {
          "output_type": "execute_result",
          "data": {
            "text/plain": [
              "array([79., 84., 83., ..., 79., 83., 80.])"
            ]
          },
          "metadata": {
            "tags": []
          },
          "execution_count": 37
        }
      ]
    },
    {
      "cell_type": "code",
      "metadata": {
        "id": "FmWmHO1VKbua",
        "colab": {
          "base_uri": "https://localhost:8080/"
        },
        "outputId": "1c4baeea-ce19-409a-d22a-4d646e7cddfc"
      },
      "source": [
        "bxp_output['fliers'][0].get_ydata().shape #Outlier count"
      ],
      "execution_count": 39,
      "outputs": [
        {
          "output_type": "execute_result",
          "data": {
            "text/plain": [
              "(5053,)"
            ]
          },
          "metadata": {
            "tags": []
          },
          "execution_count": 39
        }
      ]
    },
    {
      "cell_type": "code",
      "metadata": {
        "id": "JJofZ33TKbz9",
        "colab": {
          "base_uri": "https://localhost:8080/"
        },
        "outputId": "8e2af9b5-7721-4443-dc37-59afdd578e1a"
      },
      "source": [
        "bxp_output['medians'][0].get_ydata() #medians , ค่าที่อยูตรงกลางของข้อมูล"
      ],
      "execution_count": 40,
      "outputs": [
        {
          "output_type": "execute_result",
          "data": {
            "text/plain": [
              "array([34., 34.])"
            ]
          },
          "metadata": {
            "tags": []
          },
          "execution_count": 40
        }
      ]
    },
    {
      "cell_type": "code",
      "metadata": {
        "id": "l7DuoxlrKb2x",
        "colab": {
          "base_uri": "https://localhost:8080/"
        },
        "outputId": "85644a8a-fec5-4ef9-df7d-849899fbc82d"
      },
      "source": [
        "iqr = bxp_output['boxes'][0].get_ydata()[3] -bxp_output['boxes'][0].get_ydata()[0]\n",
        "iqr"
      ],
      "execution_count": 47,
      "outputs": [
        {
          "output_type": "execute_result",
          "data": {
            "text/plain": [
              "21.0"
            ]
          },
          "metadata": {
            "tags": []
          },
          "execution_count": 47
        }
      ]
    },
    {
      "cell_type": "markdown",
      "metadata": {
        "id": "VqLcn0j1Fwlh"
      },
      "source": [
        "## Quiz 7: \n",
        "เขียนฟังก์ชั้นคำนวณ หา Q1, Q2, Q3, IQR โดยรับ Input เป็น output ของ boxplot ใดๆ และแกนของ boxplot \n",
        "```python\n",
        "    def box_vals(box_out_dict, vertical = True):\n",
        "        your code\n",
        "        return Q1, Q2, Q3, IQR\n",
        "```"
      ]
    },
    {
      "cell_type": "code",
      "metadata": {
        "id": "AiDV0TncGuJa"
      },
      "source": [
        "# เขียนฟังก์ชั้นคำนวณ หา Q1, Q2, Q3, IQR\n",
        "def box_vals(box_out_dict, vert = True):\n",
        "    if vert ==True:\n",
        "        value = box_out_dict['boxes'][0].get_ydata() #สนใจเเค่ Q1, Q2, Q3, IQR เลยเลือกมาเเค่ตัวเเปร boxes\n",
        "        Q1=box_out_dict['boxes'][0].get_ydata()[0]\n",
        "        Q2=bxp_output['medians'][0].get_ydata()[0]\n",
        "        Q3=box_out_dict['boxes'][0].get_ydata()[3]\n",
        "        IQR = Q3- Q1\n",
        "    else:\n",
        "        value = box_out_dict['boxes'][0].get_xdata()\n",
        "        Q1=box_out_dict['boxes'][0].get_xdata()[0]\n",
        "        Q2=bxp_output['medians'][0].get_xdata()[0]\n",
        "        Q3=box_out_dict['boxes'][0].get_xdata()[3]\n",
        "        IQR = Q3- Q1\n",
        "    return Q1, Q2, Q3, IQR"
      ],
      "execution_count": 65,
      "outputs": []
    },
    {
      "cell_type": "code",
      "metadata": {
        "colab": {
          "base_uri": "https://localhost:8080/",
          "height": 265
        },
        "id": "WXkBo2OWGygA",
        "outputId": "5a663dcc-637f-406c-bc3c-e7cab4aeee27"
      },
      "source": [
        "from matplotlib import pyplot as plt\n",
        "bxp_output = plt.boxplot(data_civid_cases['age'].dropna()) "
      ],
      "execution_count": 66,
      "outputs": [
        {
          "output_type": "display_data",
          "data": {
            "image/png": "[encoded data removed]",
            "text/plain": [
              "<Figure size 432x288 with 1 Axes>"
            ]
          },
          "metadata": {
            "tags": [],
            "needs_background": "light"
          }
        }
      ]
    },
    {
      "cell_type": "code",
      "metadata": {
        "colab": {
          "base_uri": "https://localhost:8080/"
        },
        "id": "HlRczCwJH8j4",
        "outputId": "77e74394-28a3-4d1a-86fb-26c8e4b33355"
      },
      "source": [
        "box_vals(bxp_output, vert = True)"
      ],
      "execution_count": 67,
      "outputs": [
        {
          "output_type": "execute_result",
          "data": {
            "text/plain": [
              "(25.0, 34.0, 46.0, 21.0)"
            ]
          },
          "metadata": {
            "tags": []
          },
          "execution_count": 67
        }
      ]
    },
    {
      "cell_type": "code",
      "metadata": {
        "id": "qU-_nbhhH9il"
      },
      "source": [
        ""
      ],
      "execution_count": null,
      "outputs": []
    }
  ]
}