{
  "nbformat": 4,
  "nbformat_minor": 0,
  "metadata": {
    "colab": {
      "name": "2_COVID_19_Data_Downloading_and_Cleansing.ipynb",
      "provenance": [],
      "toc_visible": true,
      "authorship_tag": "ABX9TyOrSt/KYoFO7bnrX4KAuTHd",
      "include_colab_link": true
    },
    "kernelspec": {
      "name": "python3",
      "display_name": "Python 3"
    },
    "language_info": {
      "name": "python"
    }
  },
  "cells": [
    {
      "cell_type": "markdown",
      "metadata": {
        "id": "view-in-github",
        "colab_type": "text"
      },
      "source": [
        "<a href=\"https://colab.research.google.com/github/Peckkie/DPDM2021/blob/main/2_COVID_19_Data_Downloading_and_Cleansing.ipynb\" target=\"_parent\"><img src=\"https://colab.research.google.com/assets/colab-badge.svg\" alt=\"Open In Colab\"/></a>"
      ]
    },
    {
      "cell_type": "code",
      "metadata": {
        "colab": {
          "base_uri": "https://localhost:8080/"
        },
        "id": "OOAKXVoXeNA-",
        "outputId": "98dc045e-a396-4939-9a94-af2be6947a7d"
      },
      "source": [
        "from google.colab import drive # เชื่อม google drive\n",
        "drive.mount('/content/drive')"
      ],
      "execution_count": 2,
      "outputs": [
        {
          "output_type": "stream",
          "name": "stdout",
          "text": [
            "Mounted at /content/drive\n"
          ]
        }
      ]
    },
    {
      "cell_type": "code",
      "metadata": {
        "colab": {
          "base_uri": "https://localhost:8080/"
        },
        "id": "3-r01veveCcw",
        "outputId": "62fade9f-e89d-46f9-eb34-dc8d85b5c4aa"
      },
      "source": [
        "import os\n",
        "os.chdir( '/content/drive/MyDrive/DPDM_ME/my_project/data') # local path\n",
        "!pwd"
      ],
      "execution_count": 3,
      "outputs": [
        {
          "output_type": "stream",
          "name": "stdout",
          "text": [
            "/content/drive/MyDrive/DPDM_ME/my_project/data\n"
          ]
        }
      ]
    },
    {
      "cell_type": "markdown",
      "metadata": {
        "id": "6lbssJmTeXq6"
      },
      "source": [
        "# Countries in the world by population (2021)\n",
        "LINK: https://www.worldometers.info/world-population/population-by-country/"
      ]
    },
    {
      "cell_type": "markdown",
      "metadata": {
        "id": "_j1i6d33egbv"
      },
      "source": [
        "## Libraries"
      ]
    },
    {
      "cell_type": "code",
      "metadata": {
        "id": "dhX9A1Z5ef-T"
      },
      "source": [
        "# import libraries\n",
        "# ================\n",
        "\n",
        "# for date and time opeations\n",
        "from datetime import datetime\n",
        "# for file and folder operations\n",
        "import os\n",
        "# for regular expression opeations\n",
        "import re\n",
        "# for listing files in a folder\n",
        "import glob\n",
        "# for getting web contents\n",
        "import requests \n",
        "# storing and analysing data\n",
        "import pandas as pd\n",
        "# for scraping web contents\n",
        "from bs4 import BeautifulSoup\n",
        "# regular expression\n",
        "import re\n",
        "# numerical analysis\n",
        "import numpy as np"
      ],
      "execution_count": 8,
      "outputs": []
    },
    {
      "cell_type": "code",
      "metadata": {
        "id": "zVf34kKceDYW"
      },
      "source": [
        "# get data\n",
        "# ========\n",
        "\n",
        "# link at which web data recides\n",
        "link = 'https://www.worldometers.info/world-population/population-by-country/'\n",
        "# get web data\n",
        "req = requests.get(link)\n",
        "# parse web data\n",
        "soup = BeautifulSoup(req.content, \"html.parser\")"
      ],
      "execution_count": 9,
      "outputs": []
    },
    {
      "cell_type": "code",
      "metadata": {
        "id": "UlKuL9g8eap9"
      },
      "source": [
        "# find the table\n",
        "# ==============\n",
        "# our target table is the last table in the page\n",
        "\n",
        "# get the table head\n",
        "# table head may contain the column names, titles, subtitles\n",
        "thead = soup.find_all('thead')[-1]\n",
        "# print(thead)\n",
        "\n",
        "# get all the rows in table head\n",
        "# it usually have only one row, which has the column names\n",
        "head = thead.find_all('tr')\n",
        "# print(head)\n",
        "\n",
        "# get the table tbody\n",
        "# it contains the contents\n",
        "tbody = soup.find_all('tbody')[0]\n",
        "# print(tbody)\n",
        "\n",
        "# get all the rows in table body\n",
        "# each row is each state's entry\n",
        "body = tbody.find_all('tr')\n",
        "# print(body)"
      ],
      "execution_count": 10,
      "outputs": []
    },
    {
      "cell_type": "code",
      "metadata": {
        "id": "ml78piEDmjls"
      },
      "source": [
        "# get the table contents\n",
        "# ======================\n",
        "\n",
        "# container for header rows / column title\n",
        "head_rows = []\n",
        "# container for table body / contents\n",
        "body_rows = []\n",
        "\n",
        "# loop through the head and append each row to head\n",
        "for tr in head:\n",
        "    td = tr.find_all(['th', 'td'])\n",
        "    row = [i.text for i in td]\n",
        "    head_rows.append(row)\n",
        "# print(head_rows)\n",
        "\n",
        "# loop through the body and append each row to body\n",
        "for tr in body:\n",
        "    td = tr.find_all(['th', 'td'])\n",
        "    row = [i.text for i in td]\n",
        "    body_rows.append(row)\n",
        "# print(head_rows)"
      ],
      "execution_count": 11,
      "outputs": []
    },
    {
      "cell_type": "code",
      "metadata": {
        "colab": {
          "base_uri": "https://localhost:8080/",
          "height": 223
        },
        "id": "vxvlNThcx9mE",
        "outputId": "101a22a8-a58b-4513-9302-779a785d193a"
      },
      "source": [
        "df_bs = pd.DataFrame(body_rows[:len(body_rows)-6], \n",
        "                     columns=head_rows[0])         \n",
        "\n",
        "# Drop 'S. No.' column\n",
        "# df_bs.drop('S. No.', axis=1, inplace=True)\n",
        "\n",
        "df_bs.head(5)"
      ],
      "execution_count": 12,
      "outputs": [
        {
          "output_type": "execute_result",
          "data": {
            "text/html": [
              "<div>\n",
              "<style scoped>\n",
              "    .dataframe tbody tr th:only-of-type {\n",
              "        vertical-align: middle;\n",
              "    }\n",
              "\n",
              "    .dataframe tbody tr th {\n",
              "        vertical-align: top;\n",
              "    }\n",
              "\n",
              "    .dataframe thead th {\n",
              "        text-align: right;\n",
              "    }\n",
              "</style>\n",
              "<table border=\"1\" class=\"dataframe\">\n",
              "  <thead>\n",
              "    <tr style=\"text-align: right;\">\n",
              "      <th></th>\n",
              "      <th>#</th>\n",
              "      <th>Country (or dependency)</th>\n",
              "      <th>Population (2020)</th>\n",
              "      <th>Yearly Change</th>\n",
              "      <th>Net Change</th>\n",
              "      <th>Density (P/Km²)</th>\n",
              "      <th>Land Area (Km²)</th>\n",
              "      <th>Migrants (net)</th>\n",
              "      <th>Fert. Rate</th>\n",
              "      <th>Med. Age</th>\n",
              "      <th>Urban Pop %</th>\n",
              "      <th>World Share</th>\n",
              "    </tr>\n",
              "  </thead>\n",
              "  <tbody>\n",
              "    <tr>\n",
              "      <th>0</th>\n",
              "      <td>1</td>\n",
              "      <td>China</td>\n",
              "      <td>1,439,323,776</td>\n",
              "      <td>0.39 %</td>\n",
              "      <td>5,540,090</td>\n",
              "      <td>153</td>\n",
              "      <td>9,388,211</td>\n",
              "      <td>-348,399</td>\n",
              "      <td>1.7</td>\n",
              "      <td>38</td>\n",
              "      <td>61 %</td>\n",
              "      <td>18.47 %</td>\n",
              "    </tr>\n",
              "    <tr>\n",
              "      <th>1</th>\n",
              "      <td>2</td>\n",
              "      <td>India</td>\n",
              "      <td>1,380,004,385</td>\n",
              "      <td>0.99 %</td>\n",
              "      <td>13,586,631</td>\n",
              "      <td>464</td>\n",
              "      <td>2,973,190</td>\n",
              "      <td>-532,687</td>\n",
              "      <td>2.2</td>\n",
              "      <td>28</td>\n",
              "      <td>35 %</td>\n",
              "      <td>17.70 %</td>\n",
              "    </tr>\n",
              "    <tr>\n",
              "      <th>2</th>\n",
              "      <td>3</td>\n",
              "      <td>United States</td>\n",
              "      <td>331,002,651</td>\n",
              "      <td>0.59 %</td>\n",
              "      <td>1,937,734</td>\n",
              "      <td>36</td>\n",
              "      <td>9,147,420</td>\n",
              "      <td>954,806</td>\n",
              "      <td>1.8</td>\n",
              "      <td>38</td>\n",
              "      <td>83 %</td>\n",
              "      <td>4.25 %</td>\n",
              "    </tr>\n",
              "    <tr>\n",
              "      <th>3</th>\n",
              "      <td>4</td>\n",
              "      <td>Indonesia</td>\n",
              "      <td>273,523,615</td>\n",
              "      <td>1.07 %</td>\n",
              "      <td>2,898,047</td>\n",
              "      <td>151</td>\n",
              "      <td>1,811,570</td>\n",
              "      <td>-98,955</td>\n",
              "      <td>2.3</td>\n",
              "      <td>30</td>\n",
              "      <td>56 %</td>\n",
              "      <td>3.51 %</td>\n",
              "    </tr>\n",
              "    <tr>\n",
              "      <th>4</th>\n",
              "      <td>5</td>\n",
              "      <td>Pakistan</td>\n",
              "      <td>220,892,340</td>\n",
              "      <td>2.00 %</td>\n",
              "      <td>4,327,022</td>\n",
              "      <td>287</td>\n",
              "      <td>770,880</td>\n",
              "      <td>-233,379</td>\n",
              "      <td>3.6</td>\n",
              "      <td>23</td>\n",
              "      <td>35 %</td>\n",
              "      <td>2.83 %</td>\n",
              "    </tr>\n",
              "  </tbody>\n",
              "</table>\n",
              "</div>"
            ],
            "text/plain": [
              "   # Country (or dependency) Population (2020)  ... Med. Age Urban Pop % World Share\n",
              "0  1                   China     1,439,323,776  ...       38        61 %     18.47 %\n",
              "1  2                   India     1,380,004,385  ...       28        35 %     17.70 %\n",
              "2  3           United States       331,002,651  ...       38        83 %      4.25 %\n",
              "3  4               Indonesia       273,523,615  ...       30        56 %      3.51 %\n",
              "4  5                Pakistan       220,892,340  ...       23        35 %      2.83 %\n",
              "\n",
              "[5 rows x 12 columns]"
            ]
          },
          "metadata": {},
          "execution_count": 12
        }
      ]
    },
    {
      "cell_type": "code",
      "metadata": {
        "colab": {
          "base_uri": "https://localhost:8080/",
          "height": 223
        },
        "id": "E58_X-NTyEbF",
        "outputId": "9993d517-d6a8-41e7-f678-bf870cf50a06"
      },
      "source": [
        "# drop unwanted columns\n",
        "df_bs = df_bs.drop('#', axis=1)\n",
        "df_bs.head(5)"
      ],
      "execution_count": 13,
      "outputs": [
        {
          "output_type": "execute_result",
          "data": {
            "text/html": [
              "<div>\n",
              "<style scoped>\n",
              "    .dataframe tbody tr th:only-of-type {\n",
              "        vertical-align: middle;\n",
              "    }\n",
              "\n",
              "    .dataframe tbody tr th {\n",
              "        vertical-align: top;\n",
              "    }\n",
              "\n",
              "    .dataframe thead th {\n",
              "        text-align: right;\n",
              "    }\n",
              "</style>\n",
              "<table border=\"1\" class=\"dataframe\">\n",
              "  <thead>\n",
              "    <tr style=\"text-align: right;\">\n",
              "      <th></th>\n",
              "      <th>Country (or dependency)</th>\n",
              "      <th>Population (2020)</th>\n",
              "      <th>Yearly Change</th>\n",
              "      <th>Net Change</th>\n",
              "      <th>Density (P/Km²)</th>\n",
              "      <th>Land Area (Km²)</th>\n",
              "      <th>Migrants (net)</th>\n",
              "      <th>Fert. Rate</th>\n",
              "      <th>Med. Age</th>\n",
              "      <th>Urban Pop %</th>\n",
              "      <th>World Share</th>\n",
              "    </tr>\n",
              "  </thead>\n",
              "  <tbody>\n",
              "    <tr>\n",
              "      <th>0</th>\n",
              "      <td>China</td>\n",
              "      <td>1,439,323,776</td>\n",
              "      <td>0.39 %</td>\n",
              "      <td>5,540,090</td>\n",
              "      <td>153</td>\n",
              "      <td>9,388,211</td>\n",
              "      <td>-348,399</td>\n",
              "      <td>1.7</td>\n",
              "      <td>38</td>\n",
              "      <td>61 %</td>\n",
              "      <td>18.47 %</td>\n",
              "    </tr>\n",
              "    <tr>\n",
              "      <th>1</th>\n",
              "      <td>India</td>\n",
              "      <td>1,380,004,385</td>\n",
              "      <td>0.99 %</td>\n",
              "      <td>13,586,631</td>\n",
              "      <td>464</td>\n",
              "      <td>2,973,190</td>\n",
              "      <td>-532,687</td>\n",
              "      <td>2.2</td>\n",
              "      <td>28</td>\n",
              "      <td>35 %</td>\n",
              "      <td>17.70 %</td>\n",
              "    </tr>\n",
              "    <tr>\n",
              "      <th>2</th>\n",
              "      <td>United States</td>\n",
              "      <td>331,002,651</td>\n",
              "      <td>0.59 %</td>\n",
              "      <td>1,937,734</td>\n",
              "      <td>36</td>\n",
              "      <td>9,147,420</td>\n",
              "      <td>954,806</td>\n",
              "      <td>1.8</td>\n",
              "      <td>38</td>\n",
              "      <td>83 %</td>\n",
              "      <td>4.25 %</td>\n",
              "    </tr>\n",
              "    <tr>\n",
              "      <th>3</th>\n",
              "      <td>Indonesia</td>\n",
              "      <td>273,523,615</td>\n",
              "      <td>1.07 %</td>\n",
              "      <td>2,898,047</td>\n",
              "      <td>151</td>\n",
              "      <td>1,811,570</td>\n",
              "      <td>-98,955</td>\n",
              "      <td>2.3</td>\n",
              "      <td>30</td>\n",
              "      <td>56 %</td>\n",
              "      <td>3.51 %</td>\n",
              "    </tr>\n",
              "    <tr>\n",
              "      <th>4</th>\n",
              "      <td>Pakistan</td>\n",
              "      <td>220,892,340</td>\n",
              "      <td>2.00 %</td>\n",
              "      <td>4,327,022</td>\n",
              "      <td>287</td>\n",
              "      <td>770,880</td>\n",
              "      <td>-233,379</td>\n",
              "      <td>3.6</td>\n",
              "      <td>23</td>\n",
              "      <td>35 %</td>\n",
              "      <td>2.83 %</td>\n",
              "    </tr>\n",
              "  </tbody>\n",
              "</table>\n",
              "</div>"
            ],
            "text/plain": [
              "  Country (or dependency) Population (2020)  ... Urban Pop % World Share\n",
              "0                   China     1,439,323,776  ...        61 %     18.47 %\n",
              "1                   India     1,380,004,385  ...        35 %     17.70 %\n",
              "2           United States       331,002,651  ...        83 %      4.25 %\n",
              "3               Indonesia       273,523,615  ...        56 %      3.51 %\n",
              "4                Pakistan       220,892,340  ...        35 %      2.83 %\n",
              "\n",
              "[5 rows x 11 columns]"
            ]
          },
          "metadata": {},
          "execution_count": 13
        }
      ]
    },
    {
      "cell_type": "code",
      "metadata": {
        "id": "vXMGnDhhyQPC"
      },
      "source": [
        "df_bs.to_csv('Net_Change.csv', index=False)"
      ],
      "execution_count": 14,
      "outputs": []
    },
    {
      "cell_type": "markdown",
      "metadata": {
        "id": "wd1TOZEvynEw"
      },
      "source": [
        "# Countries ranked by life expectancy\n",
        "Link: https://www.worldometers.info/demographics/life-expectancy/#countries-ranked-by-life-expectancy"
      ]
    },
    {
      "cell_type": "code",
      "metadata": {
        "id": "arR84rBOyapQ"
      },
      "source": [
        "# import libraries\n",
        "# ================\n",
        "\n",
        "# for date and time opeations\n",
        "from datetime import datetime\n",
        "# for file and folder operations\n",
        "import os\n",
        "# for regular expression opeations\n",
        "import re\n",
        "# for listing files in a folder\n",
        "import glob\n",
        "# for getting web contents\n",
        "import requests \n",
        "# storing and analysing data\n",
        "import pandas as pd\n",
        "# for scraping web contents\n",
        "from bs4 import BeautifulSoup\n",
        "# regular expression\n",
        "import re\n",
        "# numerical analysis\n",
        "import numpy as np"
      ],
      "execution_count": 15,
      "outputs": []
    },
    {
      "cell_type": "code",
      "metadata": {
        "id": "tvTk8Z0eyy_4"
      },
      "source": [
        "# get data\n",
        "# ========\n",
        "\n",
        "# link at which web data recides\n",
        "link = 'https://www.worldometers.info/demographics/life-expectancy/'\n",
        "# get web data\n",
        "req = requests.get(link)\n",
        "# parse web data\n",
        "soup = BeautifulSoup(req.content, \"html.parser\")"
      ],
      "execution_count": 16,
      "outputs": []
    },
    {
      "cell_type": "code",
      "metadata": {
        "id": "qLvdKfBGy-z4"
      },
      "source": [
        "# find the table\n",
        "# ==============\n",
        "# our target table is the last table in the page\n",
        "\n",
        "# get the table head\n",
        "# table head may contain the column names, titles, subtitles\n",
        "thead = soup.find_all('thead')[-1]\n",
        "# print(thead)\n",
        "\n",
        "# get all the rows in table head\n",
        "# it usually have only one row, which has the column names\n",
        "head = thead.find_all('tr')\n",
        "# print(head)\n",
        "\n",
        "# get the table tbody\n",
        "# it contains the contents\n",
        "tbody = soup.find_all('tbody')[0]\n",
        "# print(tbody)\n",
        "\n",
        "# get all the rows in table body\n",
        "# each row is each state's entry\n",
        "body = tbody.find_all('tr')\n",
        "# print(body)"
      ],
      "execution_count": 17,
      "outputs": []
    },
    {
      "cell_type": "code",
      "metadata": {
        "id": "TMnaMphqzAlw"
      },
      "source": [
        "# get the table contents\n",
        "# ======================\n",
        "\n",
        "# container for header rows / column title\n",
        "head_rows = []\n",
        "# container for table body / contents\n",
        "body_rows = []\n",
        "\n",
        "# loop through the head and append each row to head\n",
        "for tr in head:\n",
        "    td = tr.find_all(['th', 'td'])\n",
        "    row = [i.text for i in td]\n",
        "    head_rows.append(row)\n",
        "# print(head_rows)\n",
        "\n",
        "# loop through the body and append each row to body\n",
        "for tr in body:\n",
        "    td = tr.find_all(['th', 'td'])\n",
        "    row = [i.text for i in td]\n",
        "    body_rows.append(row)\n",
        "# print(head_rows)"
      ],
      "execution_count": 18,
      "outputs": []
    },
    {
      "cell_type": "code",
      "metadata": {
        "colab": {
          "base_uri": "https://localhost:8080/",
          "height": 206
        },
        "id": "KV1Lf72zzCiD",
        "outputId": "cf6d3d83-28f4-47c4-e500-46fe75d23831"
      },
      "source": [
        "df_bs = pd.DataFrame(body_rows[:len(body_rows)-6], \n",
        "                     columns=head_rows[0])         \n",
        "\n",
        "df_bs.head(5)"
      ],
      "execution_count": 19,
      "outputs": [
        {
          "output_type": "execute_result",
          "data": {
            "text/html": [
              "<div>\n",
              "<style scoped>\n",
              "    .dataframe tbody tr th:only-of-type {\n",
              "        vertical-align: middle;\n",
              "    }\n",
              "\n",
              "    .dataframe tbody tr th {\n",
              "        vertical-align: top;\n",
              "    }\n",
              "\n",
              "    .dataframe thead th {\n",
              "        text-align: right;\n",
              "    }\n",
              "</style>\n",
              "<table border=\"1\" class=\"dataframe\">\n",
              "  <thead>\n",
              "    <tr style=\"text-align: right;\">\n",
              "      <th></th>\n",
              "      <th>#</th>\n",
              "      <th>Country</th>\n",
              "      <th>Life Expectancy  (both sexes)</th>\n",
              "      <th>Females  Life Expectancy</th>\n",
              "      <th>Males  Life Expectancy</th>\n",
              "    </tr>\n",
              "  </thead>\n",
              "  <tbody>\n",
              "    <tr>\n",
              "      <th>0</th>\n",
              "      <td>1</td>\n",
              "      <td>Hong Kong</td>\n",
              "      <td>85.29</td>\n",
              "      <td>88.17</td>\n",
              "      <td>82.38</td>\n",
              "    </tr>\n",
              "    <tr>\n",
              "      <th>1</th>\n",
              "      <td>2</td>\n",
              "      <td>Japan</td>\n",
              "      <td>85.03</td>\n",
              "      <td>88.09</td>\n",
              "      <td>81.91</td>\n",
              "    </tr>\n",
              "    <tr>\n",
              "      <th>2</th>\n",
              "      <td>3</td>\n",
              "      <td>Macao</td>\n",
              "      <td>84.68</td>\n",
              "      <td>87.62</td>\n",
              "      <td>81.73</td>\n",
              "    </tr>\n",
              "    <tr>\n",
              "      <th>3</th>\n",
              "      <td>4</td>\n",
              "      <td>Switzerland</td>\n",
              "      <td>84.25</td>\n",
              "      <td>86.02</td>\n",
              "      <td>82.42</td>\n",
              "    </tr>\n",
              "    <tr>\n",
              "      <th>4</th>\n",
              "      <td>5</td>\n",
              "      <td>Singapore</td>\n",
              "      <td>84.07</td>\n",
              "      <td>86.15</td>\n",
              "      <td>82.06</td>\n",
              "    </tr>\n",
              "  </tbody>\n",
              "</table>\n",
              "</div>"
            ],
            "text/plain": [
              "   #      Country  ... Females  Life Expectancy  Males  Life Expectancy\n",
              "0  1    Hong Kong  ...                     88.17                  82.38\n",
              "1  2        Japan  ...                     88.09                  81.91\n",
              "2  3        Macao  ...                     87.62                  81.73\n",
              "3  4  Switzerland  ...                     86.02                  82.42\n",
              "4  5    Singapore  ...                     86.15                  82.06\n",
              "\n",
              "[5 rows x 5 columns]"
            ]
          },
          "metadata": {},
          "execution_count": 19
        }
      ]
    },
    {
      "cell_type": "code",
      "metadata": {
        "colab": {
          "base_uri": "https://localhost:8080/",
          "height": 206
        },
        "id": "kWDfTCyazEdZ",
        "outputId": "50bbd135-0f3e-432a-ff65-9ebf5ed12756"
      },
      "source": [
        "df_bs = df_bs.drop('#', axis=1)\n",
        "df_bs.head(5)"
      ],
      "execution_count": 20,
      "outputs": [
        {
          "output_type": "execute_result",
          "data": {
            "text/html": [
              "<div>\n",
              "<style scoped>\n",
              "    .dataframe tbody tr th:only-of-type {\n",
              "        vertical-align: middle;\n",
              "    }\n",
              "\n",
              "    .dataframe tbody tr th {\n",
              "        vertical-align: top;\n",
              "    }\n",
              "\n",
              "    .dataframe thead th {\n",
              "        text-align: right;\n",
              "    }\n",
              "</style>\n",
              "<table border=\"1\" class=\"dataframe\">\n",
              "  <thead>\n",
              "    <tr style=\"text-align: right;\">\n",
              "      <th></th>\n",
              "      <th>Country</th>\n",
              "      <th>Life Expectancy  (both sexes)</th>\n",
              "      <th>Females  Life Expectancy</th>\n",
              "      <th>Males  Life Expectancy</th>\n",
              "    </tr>\n",
              "  </thead>\n",
              "  <tbody>\n",
              "    <tr>\n",
              "      <th>0</th>\n",
              "      <td>Hong Kong</td>\n",
              "      <td>85.29</td>\n",
              "      <td>88.17</td>\n",
              "      <td>82.38</td>\n",
              "    </tr>\n",
              "    <tr>\n",
              "      <th>1</th>\n",
              "      <td>Japan</td>\n",
              "      <td>85.03</td>\n",
              "      <td>88.09</td>\n",
              "      <td>81.91</td>\n",
              "    </tr>\n",
              "    <tr>\n",
              "      <th>2</th>\n",
              "      <td>Macao</td>\n",
              "      <td>84.68</td>\n",
              "      <td>87.62</td>\n",
              "      <td>81.73</td>\n",
              "    </tr>\n",
              "    <tr>\n",
              "      <th>3</th>\n",
              "      <td>Switzerland</td>\n",
              "      <td>84.25</td>\n",
              "      <td>86.02</td>\n",
              "      <td>82.42</td>\n",
              "    </tr>\n",
              "    <tr>\n",
              "      <th>4</th>\n",
              "      <td>Singapore</td>\n",
              "      <td>84.07</td>\n",
              "      <td>86.15</td>\n",
              "      <td>82.06</td>\n",
              "    </tr>\n",
              "  </tbody>\n",
              "</table>\n",
              "</div>"
            ],
            "text/plain": [
              "       Country  ... Males  Life Expectancy\n",
              "0    Hong Kong  ...                  82.38\n",
              "1        Japan  ...                  81.91\n",
              "2        Macao  ...                  81.73\n",
              "3  Switzerland  ...                  82.42\n",
              "4    Singapore  ...                  82.06\n",
              "\n",
              "[5 rows x 4 columns]"
            ]
          },
          "metadata": {},
          "execution_count": 20
        }
      ]
    },
    {
      "cell_type": "code",
      "metadata": {
        "id": "BcEnN1glzKF5"
      },
      "source": [
        "# save as .csv file\n",
        "df_bs.to_csv('Countries_ranked_by_life_expectancy.csv', index=False)"
      ],
      "execution_count": 21,
      "outputs": []
    },
    {
      "cell_type": "code",
      "metadata": {
        "id": "NTEG45gLzZEH"
      },
      "source": [
        ""
      ],
      "execution_count": null,
      "outputs": []
    }
  ]
}