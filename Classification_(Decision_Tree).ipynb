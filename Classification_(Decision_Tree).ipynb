{
  "nbformat": 4,
  "nbformat_minor": 0,
  "metadata": {
    "colab": {
      "name": "Classification (Decision Tree).ipynb",
      "provenance": [],
      "toc_visible": true,
      "authorship_tag": "ABX9TyNcYizRV+jWVvHg6AlyaAZm",
      "include_colab_link": true
    },
    "kernelspec": {
      "name": "python3",
      "display_name": "Python 3"
    },
    "language_info": {
      "name": "python"
    }
  },
  "cells": [
    {
      "cell_type": "markdown",
      "metadata": {
        "id": "view-in-github",
        "colab_type": "text"
      },
      "source": [
        "<a href=\"https://colab.research.google.com/github/Peckkie/DPDM2021/blob/main/Classification_(Decision_Tree).ipynb\" target=\"_parent\"><img src=\"https://colab.research.google.com/assets/colab-badge.svg\" alt=\"Open In Colab\"/></a>"
      ]
    },
    {
      "cell_type": "markdown",
      "metadata": {
        "id": "Kcs-kY8ovuoL"
      },
      "source": [
        "# Scikit-learn คือ packege ที่รวบรวมอัลกอริทึม ที่เกี่ยวข้องกับ machine learning และ data mining (sklrean)"
      ]
    },
    {
      "cell_type": "markdown",
      "metadata": {
        "id": "mZZTLEdQwLIB"
      },
      "source": [
        "# Load Data"
      ]
    },
    {
      "cell_type": "code",
      "metadata": {
        "id": "IUmjJsEMvJxa"
      },
      "source": [
        "# from  sklearn import datasets #packet scikit-learn\n",
        "\n",
        "# iris_data = datasets.load_iris() #เป็น Dictionary"
      ],
      "execution_count": null,
      "outputs": []
    },
    {
      "cell_type": "code",
      "metadata": {
        "id": "93K8f-XiwgST"
      },
      "source": [
        "# sepal length: ความยาวของกลีบเลี้ยง \n",
        "# sepal width: ความกว้างของกลีบเลี้ยง \n",
        "# petal length: ความยาวของกลีบดอก\n",
        "# petal width: ความกว้างของกลีบดอก\n",
        "# n= 150\n",
        "# Class : 3 - > 'setosa', 'versicolor', 'virginica'\n",
        "# iris_data"
      ],
      "execution_count": null,
      "outputs": []
    },
    {
      "cell_type": "code",
      "metadata": {
        "id": "RbjchS3akXD9",
        "colab": {
          "base_uri": "https://localhost:8080/",
          "height": 198
        },
        "outputId": "857d7282-acbf-4fcc-a778-3fa66d35c764"
      },
      "source": [
        "from  sklearn import datasets #packet scikit-learn\n",
        "\n",
        "iris_data = datasets.load_nist() #เป็น Dictionary"
      ],
      "execution_count": null,
      "outputs": [
        {
          "output_type": "error",
          "ename": "AttributeError",
          "evalue": "ignored",
          "traceback": [
            "\u001b[0;31m---------------------------------------------------------------------------\u001b[0m",
            "\u001b[0;31mAttributeError\u001b[0m                            Traceback (most recent call last)",
            "\u001b[0;32m<ipython-input-20-3d79eeea08b5>\u001b[0m in \u001b[0;36m<module>\u001b[0;34m()\u001b[0m\n\u001b[1;32m      1\u001b[0m \u001b[0;32mfrom\u001b[0m  \u001b[0msklearn\u001b[0m \u001b[0;32mimport\u001b[0m \u001b[0mdatasets\u001b[0m \u001b[0;31m#packet scikit-learn\u001b[0m\u001b[0;34m\u001b[0m\u001b[0;34m\u001b[0m\u001b[0m\n\u001b[1;32m      2\u001b[0m \u001b[0;34m\u001b[0m\u001b[0m\n\u001b[0;32m----> 3\u001b[0;31m \u001b[0miris_data\u001b[0m \u001b[0;34m=\u001b[0m \u001b[0mdatasets\u001b[0m\u001b[0;34m.\u001b[0m\u001b[0mload_nist\u001b[0m\u001b[0;34m(\u001b[0m\u001b[0;34m)\u001b[0m \u001b[0;31m#เป็น Dictionary\u001b[0m\u001b[0;34m\u001b[0m\u001b[0;34m\u001b[0m\u001b[0m\n\u001b[0m",
            "\u001b[0;31mAttributeError\u001b[0m: module 'sklearn.datasets' has no attribute 'load_nist'"
          ]
        }
      ]
    },
    {
      "cell_type": "markdown",
      "metadata": {
        "id": "MqS9ULegkYc4"
      },
      "source": [
        "https://scikit-learn.org/stable/datasets/toy_dataset.html"
      ]
    },
    {
      "cell_type": "code",
      "metadata": {
        "id": "gHOTgJmByI6k"
      },
      "source": [
        "X = iris_data['data']\n",
        "Y = iris_data['target']"
      ],
      "execution_count": null,
      "outputs": []
    },
    {
      "cell_type": "markdown",
      "metadata": {
        "id": "fzWnDIrrwN4F"
      },
      "source": [
        "# Train Model"
      ]
    },
    {
      "cell_type": "markdown",
      "metadata": {
        "id": "aQRjyygYdKvL"
      },
      "source": [
        "https://scikit-learn.org/stable/modules/generated/sklearn.tree.DecisionTreeClassifier.html"
      ]
    },
    {
      "cell_type": "markdown",
      "metadata": {
        "id": "Tve5Ch0oxYdx"
      },
      "source": [
        "## import"
      ]
    },
    {
      "cell_type": "code",
      "metadata": {
        "id": "RUtKNSVBxXY1"
      },
      "source": [
        "from sklearn.tree import DecisionTreeClassifier #Decision Tree สำหรับ  Classify"
      ],
      "execution_count": null,
      "outputs": []
    },
    {
      "cell_type": "markdown",
      "metadata": {
        "id": "oa3sr_7Txba2"
      },
      "source": [
        "## Define"
      ]
    },
    {
      "cell_type": "code",
      "metadata": {
        "id": "1L1PhXIQj7Z0"
      },
      "source": [
        "#splitter : ตัวใช้ แยกค่าข้อมูลที่เป็น countinuous  {“best”, “random”}\n",
        "#min_samples_split : ระบุจำนวนตัวอย่างขั้นต่ำที่หลุดมาในโหนดโหนดที่จะแยกเพิ่มเติม น้อยกว่านี้เเล้วจะไม่เเยกต่อ \n",
        "#min_samples_leaf: ถ้าจำนวนตัวอย่างที่หลุดไปที่ใบตำสุดเท่านี้ น้อยกว่าหรือเท่ากับจะหยุด เมื่อเท่ากับที่ตั้งไว้จะหยุด\n",
        "#min_weight_fraction_leaf: น้ำหนักที่จะใส่ให้กับ class ไม่เท่ากัน เช่น คนที่เป็นโรคมีโอกาสเจอน้อย คนปกติจะเกิดบ่อยกว่า อาจจะให้น้ำหนัก class ปกติมากกว่า\n",
        "#max_features: มี features ทั้งหมด 20 ตัว กำหนดเพื่อจะเอามาคำนวณเเค่ XX ตัวที่กำหนด \n",
        "#random_state:  เมื่อโมเดลมีการ random เกิดขึ้น ควรตั้ง    random_state เพื่อในเเต่ละครั้งที่รันจะได้ผลเหมือนกัน สุ่ม max_features เเต่ละครั่งจะได้ features ไม่ซ้ำกัน //// เมื่อ โมเดลมีการ random เกิดขึ้น กำนด seed(2) randomเเต่ละครั้งจะได้เท่ากันใน seed(2) - อาจจะเป็นเวลาหรืออะไรก็ได้ในขณะนั้น\n",
        "#max_leaf_nodes: เมื่อมีใบครบกี่ใบเราจะหยุดการเจริญเติบโตของต้นไม้  //////ปกติ ธรรมชาติของ ต้นไม้จะ เลือกทำข้างที่มี info(D) มากกว่า\n",
        "#min_impurity_decrease: การโตของต้นไม้มีการปนเปื้อนไปเท่าไหร่ ถ้าโตมาเเบบไม่ดีก็อย่าโต"
      ],
      "execution_count": null,
      "outputs": []
    },
    {
      "cell_type": "code",
      "metadata": {
        "id": "MFVyXidCx80A"
      },
      "source": [
        "mytree = DecisionTreeClassifier(max_depth=2)"
      ],
      "execution_count": null,
      "outputs": []
    },
    {
      "cell_type": "code",
      "metadata": {
        "id": "tk0H2SmrhxSY",
        "colab": {
          "base_uri": "https://localhost:8080/",
          "height": 34
        },
        "outputId": "52d53ae8-310e-49df-e3c9-50fa40498e4c"
      },
      "source": [
        "import numpy as np\n",
        "np.random.seed(6) #ตัวอย่างการกำหนด seed(6)\n",
        "np.random.choice(['kie','oil','nicha'])"
      ],
      "execution_count": null,
      "outputs": [
        {
          "output_type": "execute_result",
          "data": {
            "application/vnd.google.colaboratory.intrinsic+json": {
              "type": "string"
            },
            "text/plain": [
              "'nicha'"
            ]
          },
          "metadata": {},
          "execution_count": 14
        }
      ]
    },
    {
      "cell_type": "markdown",
      "metadata": {
        "id": "S7jxXUdzxfHK"
      },
      "source": [
        "## Training"
      ]
    },
    {
      "cell_type": "code",
      "metadata": {
        "colab": {
          "base_uri": "https://localhost:8080/"
        },
        "id": "eyVWyNHMxXfl",
        "outputId": "ab41fd3b-3892-407e-a3af-7fe15ee73fda"
      },
      "source": [
        "mytree.fit(X, Y)"
      ],
      "execution_count": null,
      "outputs": [
        {
          "output_type": "execute_result",
          "data": {
            "text/plain": [
              "DecisionTreeClassifier(ccp_alpha=0.0, class_weight=None, criterion='gini',\n",
              "                       max_depth=2, max_features=None, max_leaf_nodes=None,\n",
              "                       min_impurity_decrease=0.0, min_impurity_split=None,\n",
              "                       min_samples_leaf=1, min_samples_split=2,\n",
              "                       min_weight_fraction_leaf=0.0, presort='deprecated',\n",
              "                       random_state=None, splitter='best')"
            ]
          },
          "metadata": {},
          "execution_count": 10
        }
      ]
    },
    {
      "cell_type": "markdown",
      "metadata": {
        "id": "uPVs3NCGyaNJ"
      },
      "source": [
        "### plot tree"
      ]
    },
    {
      "cell_type": "code",
      "metadata": {
        "id": "hSkPpqm1yWNr"
      },
      "source": [
        "from sklearn.tree import plot_tree"
      ],
      "execution_count": null,
      "outputs": []
    },
    {
      "cell_type": "code",
      "metadata": {
        "colab": {
          "base_uri": "https://localhost:8080/",
          "height": 333
        },
        "id": "T_a2O52qyh1R",
        "outputId": "8a9bd32b-7020-4d72-d97d-8b0205b07b9f"
      },
      "source": [
        "plot_tree(mytree)"
      ],
      "execution_count": null,
      "outputs": [
        {
          "output_type": "execute_result",
          "data": {
            "text/plain": [
              "[Text(133.92000000000002, 181.2, 'X[2] <= 2.45\\ngini = 0.667\\nsamples = 150\\nvalue = [50, 50, 50]'),\n",
              " Text(66.96000000000001, 108.72, 'gini = 0.0\\nsamples = 50\\nvalue = [50, 0, 0]'),\n",
              " Text(200.88000000000002, 108.72, 'X[3] <= 1.75\\ngini = 0.5\\nsamples = 100\\nvalue = [0, 50, 50]'),\n",
              " Text(133.92000000000002, 36.23999999999998, 'gini = 0.168\\nsamples = 54\\nvalue = [0, 49, 5]'),\n",
              " Text(267.84000000000003, 36.23999999999998, 'gini = 0.043\\nsamples = 46\\nvalue = [0, 1, 45]')]"
            ]
          },
          "metadata": {},
          "execution_count": 12
        },
        {
          "output_type": "display_data",
          "data": {
            "image/png": "[encoded data removed]",
            "text/plain": [
              "<Figure size 432x288 with 1 Axes>"
            ]
          },
          "metadata": {
            "needs_background": "light"
          }
        }
      ]
    },
    {
      "cell_type": "markdown",
      "metadata": {
        "id": "EbmRRTZpwRt8"
      },
      "source": [
        "# Evaluation"
      ]
    },
    {
      "cell_type": "code",
      "metadata": {
        "id": "puyWpPISwRMD"
      },
      "source": [
        ""
      ],
      "execution_count": null,
      "outputs": []
    },
    {
      "cell_type": "markdown",
      "metadata": {
        "id": "FYH-Gec2m2tD"
      },
      "source": [
        "# Advanced Tree"
      ]
    },
    {
      "cell_type": "markdown",
      "metadata": {
        "id": "WxselWIXm6Wb"
      },
      "source": [
        "## load data"
      ]
    },
    {
      "cell_type": "code",
      "metadata": {
        "id": "ZDTp4Lt-wF9Y"
      },
      "source": [
        "from  sklearn import datasets #packet scikit-learn\n",
        "\n",
        "mnist_data = datasets.load_digits() #เป็น Dictionary"
      ],
      "execution_count": 1,
      "outputs": []
    },
    {
      "cell_type": "code",
      "metadata": {
        "id": "XjPHrgdKm-5H",
        "colab": {
          "base_uri": "https://localhost:8080/"
        },
        "outputId": "52888dd8-6bb6-421a-cf20-50ebb79fdbda"
      },
      "source": [
        "X = mnist_data['data'] #Features ใช้ Train\n",
        "X.shape"
      ],
      "execution_count": 2,
      "outputs": [
        {
          "output_type": "execute_result",
          "data": {
            "text/plain": [
              "(1797, 64)"
            ]
          },
          "metadata": {},
          "execution_count": 2
        }
      ]
    },
    {
      "cell_type": "code",
      "metadata": {
        "id": "8zjhiSTynzu6",
        "colab": {
          "base_uri": "https://localhost:8080/"
        },
        "outputId": "18f8533a-5dd2-4b54-81d0-a9556835c32b"
      },
      "source": [
        "X[0,:] #มันเป็นสีเทาด้วยมันจะไล้ระดับ เลยมีหลายค่าตามความเข้มสี"
      ],
      "execution_count": 3,
      "outputs": [
        {
          "output_type": "execute_result",
          "data": {
            "text/plain": [
              "array([ 0.,  0.,  5., 13.,  9.,  1.,  0.,  0.,  0.,  0., 13., 15., 10.,\n",
              "       15.,  5.,  0.,  0.,  3., 15.,  2.,  0., 11.,  8.,  0.,  0.,  4.,\n",
              "       12.,  0.,  0.,  8.,  8.,  0.,  0.,  5.,  8.,  0.,  0.,  9.,  8.,\n",
              "        0.,  0.,  4., 11.,  0.,  1., 12.,  7.,  0.,  0.,  2., 14.,  5.,\n",
              "       10., 12.,  0.,  0.,  0.,  0.,  6., 13., 10.,  0.,  0.,  0.])"
            ]
          },
          "metadata": {},
          "execution_count": 3
        }
      ]
    },
    {
      "cell_type": "code",
      "metadata": {
        "id": "0j7Tec6cn-3-"
      },
      "source": [
        "# np.max(X[0,:])"
      ],
      "execution_count": 4,
      "outputs": []
    },
    {
      "cell_type": "code",
      "metadata": {
        "id": "ZngHj7SInB72",
        "colab": {
          "base_uri": "https://localhost:8080/"
        },
        "outputId": "0873188f-2229-42a2-a7a0-f62e825d108b"
      },
      "source": [
        "Y = mnist_data['target']#target ใช้ Test\n",
        "Y.shape"
      ],
      "execution_count": 5,
      "outputs": [
        {
          "output_type": "execute_result",
          "data": {
            "text/plain": [
              "(1797,)"
            ]
          },
          "metadata": {},
          "execution_count": 5
        }
      ]
    },
    {
      "cell_type": "markdown",
      "metadata": {
        "id": "OoPrMvbaolJL"
      },
      "source": [
        "## เเบ่ง Test เอาไว้วัดผลอย่างเดียว"
      ]
    },
    {
      "cell_type": "code",
      "metadata": {
        "id": "d5W2hkuHnplK"
      },
      "source": [
        "#split data\n",
        "import numpy as np\n",
        "from sklearn.model_selection import train_test_split\n",
        "\n",
        "X_train, X_test, y_train, y_test = train_test_split(X, Y, test_size=0.50, random_state=6) # random_state=6 เท่ากัน"
      ],
      "execution_count": 6,
      "outputs": []
    },
    {
      "cell_type": "code",
      "metadata": {
        "id": "TzUTAFsppLMk",
        "colab": {
          "base_uri": "https://localhost:8080/"
        },
        "outputId": "7d00c9a7-06ce-4576-bfea-5371a293486d"
      },
      "source": [
        "X_train[:5, :6]"
      ],
      "execution_count": 7,
      "outputs": [
        {
          "output_type": "execute_result",
          "data": {
            "text/plain": [
              "array([[ 0.,  0.,  8., 15.,  9.,  0.],\n",
              "       [ 0.,  0.,  0.,  9., 11.,  0.],\n",
              "       [ 0.,  1., 12., 16., 16., 16.],\n",
              "       [ 0.,  0., 12., 14.,  6.,  0.],\n",
              "       [ 0.,  0.,  1.,  8.,  8.,  9.]])"
            ]
          },
          "metadata": {},
          "execution_count": 7
        }
      ]
    },
    {
      "cell_type": "markdown",
      "metadata": {
        "id": "TLG_0QQCqgUS"
      },
      "source": [
        "## หา Validation test "
      ]
    },
    {
      "cell_type": "code",
      "metadata": {
        "id": "CueJO1Kdqeuc"
      },
      "source": [
        "X_traintrain, X_val, y_traintrain, y_val = train_test_split(X_train, y_train, test_size=0.30, random_state=6) # random_state=6 เท่ากัน"
      ],
      "execution_count": 8,
      "outputs": []
    },
    {
      "cell_type": "code",
      "metadata": {
        "id": "pW4ixlCpq6-P",
        "colab": {
          "base_uri": "https://localhost:8080/"
        },
        "outputId": "fb497d70-1f47-4b50-8524-5e4744cb513d"
      },
      "source": [
        "X_traintrain[:5, :6]"
      ],
      "execution_count": 9,
      "outputs": [
        {
          "output_type": "execute_result",
          "data": {
            "text/plain": [
              "array([[ 0.,  0.,  9., 16., 10.,  2.],\n",
              "       [ 0.,  1., 15.,  4.,  0.,  0.],\n",
              "       [ 0.,  0.,  4., 14., 16., 15.],\n",
              "       [ 0.,  0.,  3., 11., 14., 12.],\n",
              "       [ 0.,  0.,  5., 12., 16., 15.]])"
            ]
          },
          "metadata": {},
          "execution_count": 9
        }
      ]
    },
    {
      "cell_type": "markdown",
      "metadata": {
        "id": "gczWfygxpcTK"
      },
      "source": [
        "## Import : เริ่มสร้างโมเดล"
      ]
    },
    {
      "cell_type": "code",
      "metadata": {
        "id": "A-x_DNVppYRH"
      },
      "source": [
        "from sklearn.tree import DecisionTreeClassifier #Decision Tree สำหรับ  Classify"
      ],
      "execution_count": 10,
      "outputs": []
    },
    {
      "cell_type": "markdown",
      "metadata": {
        "id": "g8apUMohpm7i"
      },
      "source": [
        "*   1 ใช้ Entropy มีความสูงไม่เกิน  4 ชั้น / oil\n",
        "*   2 ใช้ Gini และ leaf node ต้องมีจำนวน data ไม่น้อยกว่า  5 / nicha\n",
        "*   3 ใช้ Entropy และ มี leaf node  ไม่เกิน 15 /kie"
      ]
    },
    {
      "cell_type": "markdown",
      "metadata": {
        "id": "GqNQZjM9ru62"
      },
      "source": [
        "## Define"
      ]
    },
    {
      "cell_type": "code",
      "metadata": {
        "id": "ozsvv5fUplRq"
      },
      "source": [
        "mytree = DecisionTreeClassifier()\n",
        "# 3 ใช้ Entropy และ มี leaf node ไม่เกิน 15 /kie\n",
        "mytree_kie = DecisionTreeClassifier(criterion ='entropy' , max_leaf_nodes = 15)\n",
        "# 1 ใช้ Entropy มีความสูงไม่เกิน 4 ชั้น / oil\n",
        "mytree_oil= DecisionTreeClassifier(criterion ='entropy' , max_depth = 4)\n",
        "# 2 ใช้ Gini และ leaf node ต้องมีจำนวน data ไม่น้อยกว่า 5 / nicha\n",
        "mytree_nicha= DecisionTreeClassifier(criterion ='Gini' , min_samples_leaf = 5)"
      ],
      "execution_count": 11,
      "outputs": []
    },
    {
      "cell_type": "markdown",
      "metadata": {
        "id": "ZKb1EKbkrf7C"
      },
      "source": [
        "## Training"
      ]
    },
    {
      "cell_type": "code",
      "metadata": {
        "id": "IgyvaS60Xk4v"
      },
      "source": [
        "mytree = DecisionTreeClassifier()\n",
        "# 3 ใช้ Entropy และ มี leaf node ไม่เกิน 15 /kie\n",
        "mytree_kie = DecisionTreeClassifier(criterion ='entropy' , max_leaf_nodes = 15)\n",
        "# 1 ใช้ Entropy มีความสูงไม่เกิน 4 ชั้น / oil\n",
        "mytree_oil= DecisionTreeClassifier(criterion ='entropy' , max_depth = 4)\n",
        "# 2 ใช้ Gini และ leaf node ต้องมีจำนวน data ไม่น้อยกว่า 5 / nicha\n",
        "mytree_nicha= DecisionTreeClassifier(criterion ='gini' , min_samples_leaf = 5)"
      ],
      "execution_count": 12,
      "outputs": []
    },
    {
      "cell_type": "code",
      "metadata": {
        "id": "bb0cYS-srA_0",
        "colab": {
          "base_uri": "https://localhost:8080/"
        },
        "outputId": "1c6e9eba-d8ad-46e0-d014-01c26af0dab2"
      },
      "source": [
        "mytree.fit(X_traintrain, y_traintrain)\n",
        "mytree_kie.fit(X_traintrain, y_traintrain)\n",
        "mytree_oil.fit(X_traintrain, y_traintrain)\n",
        "mytree_nicha.fit(X_traintrain, y_traintrain)"
      ],
      "execution_count": 13,
      "outputs": [
        {
          "output_type": "execute_result",
          "data": {
            "text/plain": [
              "DecisionTreeClassifier(ccp_alpha=0.0, class_weight=None, criterion='gini',\n",
              "                       max_depth=None, max_features=None, max_leaf_nodes=None,\n",
              "                       min_impurity_decrease=0.0, min_impurity_split=None,\n",
              "                       min_samples_leaf=5, min_samples_split=2,\n",
              "                       min_weight_fraction_leaf=0.0, presort='deprecated',\n",
              "                       random_state=None, splitter='best')"
            ]
          },
          "metadata": {},
          "execution_count": 13
        }
      ]
    },
    {
      "cell_type": "markdown",
      "metadata": {
        "id": "zh7bjhvjZHYx"
      },
      "source": [
        "## ทดสอบหา model ที่ดีที่สุดด้วย validation set"
      ]
    },
    {
      "cell_type": "code",
      "metadata": {
        "id": "ypjmoPu7ZGTw",
        "outputId": "333b05ed-6a12-4b0c-91a7-6c90b3f2a6e2",
        "colab": {
          "base_uri": "https://localhost:8080/"
        }
      },
      "source": [
        "t0_result = mytree.predict(X_val) #ทำนาย class \n",
        "t0_result"
      ],
      "execution_count": 14,
      "outputs": [
        {
          "output_type": "execute_result",
          "data": {
            "text/plain": [
              "array([7, 9, 3, 0, 9, 4, 7, 7, 0, 9, 3, 2, 6, 5, 8, 4, 3, 8, 7, 6, 2, 9,\n",
              "       5, 4, 5, 6, 1, 4, 7, 3, 4, 1, 8, 5, 3, 3, 4, 8, 2, 0, 8, 0, 6, 5,\n",
              "       3, 4, 6, 0, 6, 1, 2, 1, 2, 0, 9, 7, 0, 9, 3, 8, 0, 4, 5, 6, 5, 2,\n",
              "       3, 9, 3, 1, 4, 9, 7, 5, 6, 8, 5, 0, 5, 8, 3, 4, 3, 5, 2, 4, 9, 9,\n",
              "       1, 7, 1, 6, 2, 0, 8, 9, 8, 1, 1, 4, 7, 2, 1, 8, 8, 5, 4, 9, 6, 1,\n",
              "       2, 5, 2, 5, 0, 3, 7, 1, 9, 7, 4, 9, 9, 5, 5, 2, 0, 8, 6, 5, 2, 9,\n",
              "       8, 9, 6, 9, 1, 2, 3, 8, 9, 3, 5, 1, 9, 9, 5, 9, 3, 6, 5, 6, 2, 2,\n",
              "       2, 2, 4, 8, 0, 1, 2, 6, 1, 4, 2, 9, 3, 4, 2, 7, 8, 0, 5, 0, 1, 6,\n",
              "       4, 8, 1, 8, 4, 3, 9, 6, 5, 4, 5, 6, 1, 5, 7, 5, 7, 1, 2, 4, 5, 9,\n",
              "       9, 2, 7, 1, 8, 7, 6, 7, 7, 2, 2, 5, 5, 8, 5, 4, 8, 4, 3, 2, 9, 4,\n",
              "       5, 8, 2, 8, 5, 0, 9, 3, 4, 6, 3, 3, 1, 4, 2, 5, 4, 3, 0, 0, 3, 7,\n",
              "       2, 5, 0, 9, 7, 5, 6, 3, 6, 4, 9, 9, 2, 6, 4, 3, 7, 6, 4, 9, 8, 5,\n",
              "       5, 1, 2, 1, 1, 9])"
            ]
          },
          "metadata": {},
          "execution_count": 14
        }
      ]
    },
    {
      "cell_type": "code",
      "metadata": {
        "id": "wWSU4el5ZmIa",
        "outputId": "8d73d558-de68-47a2-f961-da3581e608ab",
        "colab": {
          "base_uri": "https://localhost:8080/"
        }
      },
      "source": [
        "from sklearn.metrics import accuracy_score\n",
        "accuracy_score(y_val,t0_result)"
      ],
      "execution_count": 15,
      "outputs": [
        {
          "output_type": "execute_result",
          "data": {
            "text/plain": [
              "0.7814814814814814"
            ]
          },
          "metadata": {},
          "execution_count": 15
        }
      ]
    },
    {
      "cell_type": "code",
      "metadata": {
        "id": "V_3jE7oBZGYH",
        "outputId": "152ee983-c78e-4a0b-9355-a25119e20f6c",
        "colab": {
          "base_uri": "https://localhost:8080/"
        }
      },
      "source": [
        "tkie_result = mytree_kie.predict(X_val) #ทำนาย class \n",
        "accuracy_score(y_val,tkie_result)"
      ],
      "execution_count": 16,
      "outputs": [
        {
          "output_type": "execute_result",
          "data": {
            "text/plain": [
              "0.6962962962962963"
            ]
          },
          "metadata": {},
          "execution_count": 16
        }
      ]
    },
    {
      "cell_type": "code",
      "metadata": {
        "id": "3nab1oKBZGce",
        "outputId": "54bc062a-effb-4740-ce73-fc3f087fe15e",
        "colab": {
          "base_uri": "https://localhost:8080/"
        }
      },
      "source": [
        "toil_result = mytree_oil.predict(X_val) #ทำนาย class \n",
        "accuracy_score(y_val,toil_result)"
      ],
      "execution_count": 17,
      "outputs": [
        {
          "output_type": "execute_result",
          "data": {
            "text/plain": [
              "0.6814814814814815"
            ]
          },
          "metadata": {},
          "execution_count": 17
        }
      ]
    },
    {
      "cell_type": "code",
      "metadata": {
        "id": "0LI0w-0WZyou",
        "outputId": "e2ad13a4-fcfc-4bde-a560-d30a0c76821a",
        "colab": {
          "base_uri": "https://localhost:8080/"
        }
      },
      "source": [
        "tnicha_result = mytree_nicha.predict(X_val) #ทำนาย class \n",
        "accuracy_score(y_val,tnicha_result)"
      ],
      "execution_count": 18,
      "outputs": [
        {
          "output_type": "execute_result",
          "data": {
            "text/plain": [
              "0.7666666666666667"
            ]
          },
          "metadata": {},
          "execution_count": 18
        }
      ]
    },
    {
      "cell_type": "markdown",
      "metadata": {
        "id": "GOfJIlAUri6D"
      },
      "source": [
        "### plot tree"
      ]
    },
    {
      "cell_type": "code",
      "metadata": {
        "id": "-vMEAEn6X4uG",
        "outputId": "66040a87-b90e-4b41-ebcb-4d2b867b2f5a",
        "colab": {
          "base_uri": "https://localhost:8080/",
          "height": 282
        }
      },
      "source": [
        "from matplotlib import pyplot as plt\n",
        "import numpy as np\n",
        "# plt.imshow(X[112,:].reshape([8,8]), cmap = 'gray') #ขาวดำ\n",
        "plt.imshow(X[112,:].reshape([8,8])) #RGB"
      ],
      "execution_count": 37,
      "outputs": [
        {
          "output_type": "execute_result",
          "data": {
            "text/plain": [
              "<matplotlib.image.AxesImage at 0x7f764cb04b10>"
            ]
          },
          "metadata": {},
          "execution_count": 37
        },
        {
          "output_type": "display_data",
          "data": {
            "image/png": "[encoded data removed]",
            "text/plain": [
              "<Figure size 432x288 with 1 Axes>"
            ]
          },
          "metadata": {
            "needs_background": "light"
          }
        }
      ]
    },
    {
      "cell_type": "code",
      "metadata": {
        "id": "j6H9DcOGX468",
        "outputId": "6f51fe39-836b-49af-cb73-e79051e37fc1",
        "colab": {
          "base_uri": "https://localhost:8080/"
        }
      },
      "source": [
        "Y[112]"
      ],
      "execution_count": 34,
      "outputs": [
        {
          "output_type": "execute_result",
          "data": {
            "text/plain": [
              "7"
            ]
          },
          "metadata": {},
          "execution_count": 34
        }
      ]
    },
    {
      "cell_type": "code",
      "metadata": {
        "id": "DGDhkNYurSMk"
      },
      "source": [
        "from sklearn.tree import plot_tree"
      ],
      "execution_count": 24,
      "outputs": []
    },
    {
      "cell_type": "code",
      "metadata": {
        "id": "r3JnLpdSrV1E",
        "colab": {
          "base_uri": "https://localhost:8080/",
          "height": 735
        },
        "outputId": "0910e353-8fea-4a18-b724-2a3909633b45"
      },
      "source": [
        "plot_tree(mytree)"
      ],
      "execution_count": 25,
      "outputs": [
        {
          "output_type": "execute_result",
          "data": {
            "text/plain": [
              "[Text(172.8586956521739, 199.32, 'X[30] <= 0.5\\nentropy = 3.315\\nsamples = 628\\nvalue = [57, 70, 56, 74, 54, 61, 62, 61, 64, 69]'),\n",
              " Text(83.7, 163.07999999999998, 'X[20] <= 3.5\\nentropy = 2.915\\nsamples = 383\\nvalue = [0, 62, 54, 68, 11, 54, 61, 12, 51, 10]'),\n",
              " Text(29.11304347826087, 126.83999999999999, 'X[42] <= 9.5\\nentropy = 1.856\\nsamples = 122\\nvalue = [0, 3, 1, 1, 4, 43, 58, 1, 10, 1]'),\n",
              " Text(14.556521739130435, 90.6, 'entropy = 1.266\\nsamples = 50\\nvalue = [0, 3, 1, 1, 0, 39, 1, 0, 4, 1]'),\n",
              " Text(43.66956521739131, 90.6, 'X[21] <= 5.0\\nentropy = 1.115\\nsamples = 72\\nvalue = [0, 0, 0, 0, 4, 4, 57, 1, 6, 0]'),\n",
              " Text(29.11304347826087, 54.359999999999985, 'entropy = 0.661\\nsamples = 65\\nvalue = [0, 0, 0, 0, 4, 4, 57, 0, 0, 0]'),\n",
              " Text(58.22608695652174, 54.359999999999985, 'entropy = 0.592\\nsamples = 7\\nvalue = [0, 0, 0, 0, 0, 0, 0, 1, 6, 0]'),\n",
              " Text(138.28695652173914, 126.83999999999999, 'X[43] <= 4.5\\nentropy = 2.642\\nsamples = 261\\nvalue = [0, 59, 53, 67, 7, 11, 3, 11, 41, 9]'),\n",
              " Text(101.89565217391305, 90.6, 'X[26] <= 5.5\\nentropy = 1.728\\nsamples = 102\\nvalue = [0, 15, 0, 62, 0, 9, 0, 0, 8, 8]'),\n",
              " Text(87.33913043478262, 54.359999999999985, 'entropy = 0.654\\nsamples = 66\\nvalue = [0, 4, 0, 58, 0, 0, 0, 0, 4, 0]'),\n",
              " Text(116.45217391304348, 54.359999999999985, 'entropy = 2.209\\nsamples = 36\\nvalue = [0, 11, 0, 4, 0, 9, 0, 0, 4, 8]'),\n",
              " Text(174.67826086956524, 90.6, 'X[19] <= 9.5\\nentropy = 2.367\\nsamples = 159\\nvalue = [0, 44, 53, 5, 7, 2, 3, 11, 33, 1]'),\n",
              " Text(145.56521739130434, 54.359999999999985, 'X[54] <= 1.5\\nentropy = 1.702\\nsamples = 83\\nvalue = [0, 0, 47, 4, 1, 0, 0, 11, 19, 1]'),\n",
              " Text(131.0086956521739, 18.119999999999976, 'entropy = 1.911\\nsamples = 33\\nvalue = [0, 0, 2, 3, 1, 0, 0, 11, 15, 1]'),\n",
              " Text(160.12173913043478, 18.119999999999976, 'entropy = 0.541\\nsamples = 50\\nvalue = [0, 0, 45, 1, 0, 0, 0, 0, 4, 0]'),\n",
              " Text(203.7913043478261, 54.359999999999985, 'X[12] <= 14.5\\nentropy = 1.889\\nsamples = 76\\nvalue = [0, 44, 6, 1, 6, 2, 3, 0, 14, 0]'),\n",
              " Text(189.23478260869567, 18.119999999999976, 'entropy = 2.071\\nsamples = 29\\nvalue = [0, 5, 5, 0, 3, 0, 3, 0, 13, 0]'),\n",
              " Text(218.34782608695653, 18.119999999999976, 'entropy = 1.025\\nsamples = 47\\nvalue = [0, 39, 1, 1, 3, 2, 0, 0, 1, 0]'),\n",
              " Text(262.0173913043478, 163.07999999999998, 'X[33] <= 2.5\\nentropy = 2.642\\nsamples = 245\\nvalue = [57, 8, 2, 6, 43, 7, 1, 49, 13, 59]'),\n",
              " Text(232.90434782608696, 126.83999999999999, 'X[43] <= 2.5\\nentropy = 2.163\\nsamples = 130\\nvalue = [1, 5, 2, 6, 1, 4, 1, 38, 13, 59]'),\n",
              " Text(218.34782608695653, 90.6, 'entropy = 1.288\\nsamples = 72\\nvalue = [0, 4, 0, 6, 0, 4, 0, 2, 1, 55]'),\n",
              " Text(247.4608695652174, 90.6, 'X[61] <= 0.5\\nentropy = 1.735\\nsamples = 58\\nvalue = [1, 1, 2, 0, 1, 0, 1, 36, 12, 4]'),\n",
              " Text(232.90434782608696, 54.359999999999985, 'entropy = 0.297\\nsamples = 38\\nvalue = [0, 0, 0, 0, 0, 0, 0, 36, 0, 2]'),\n",
              " Text(262.0173913043478, 54.359999999999985, 'entropy = 1.971\\nsamples = 20\\nvalue = [1, 1, 2, 0, 1, 0, 1, 0, 12, 2]'),\n",
              " Text(291.1304347826087, 126.83999999999999, 'X[36] <= 0.5\\nentropy = 1.635\\nsamples = 115\\nvalue = [56, 3, 0, 0, 42, 3, 0, 11, 0, 0]'),\n",
              " Text(276.5739130434783, 90.6, 'entropy = 0.337\\nsamples = 59\\nvalue = [56, 0, 0, 0, 2, 1, 0, 0, 0, 0]'),\n",
              " Text(305.68695652173915, 90.6, 'X[13] <= 9.0\\nentropy = 1.206\\nsamples = 56\\nvalue = [0, 3, 0, 0, 40, 2, 0, 11, 0, 0]'),\n",
              " Text(291.1304347826087, 54.359999999999985, 'entropy = 0.286\\nsamples = 40\\nvalue = [0, 0, 0, 0, 38, 2, 0, 0, 0, 0]'),\n",
              " Text(320.24347826086955, 54.359999999999985, 'entropy = 1.199\\nsamples = 16\\nvalue = [0, 3, 0, 0, 2, 0, 0, 11, 0, 0]')]"
            ]
          },
          "metadata": {},
          "execution_count": 25
        },
        {
          "output_type": "display_data",
          "data": {
            "image/png": "[encoded data removed]",
            "text/plain": [
              "<Figure size 432x288 with 1 Axes>"
            ]
          },
          "metadata": {
            "needs_background": "light"
          }
        }
      ]
    },
    {
      "cell_type": "markdown",
      "metadata": {
        "id": "o2m-vG__aRnM"
      },
      "source": [
        "## สร้างโมเดลจริงจาก  training data"
      ]
    },
    {
      "cell_type": "code",
      "metadata": {
        "id": "of6JmpnbaREC",
        "outputId": "22cc83c5-9afd-4e5c-bd0d-779ece27b0f0",
        "colab": {
          "base_uri": "https://localhost:8080/"
        }
      },
      "source": [
        "# 2 ใช้ Gini และ leaf node ต้องมีจำนวน data ไม่น้อยกว่า 5 / nicha\n",
        "mytree_nicha= DecisionTreeClassifier(criterion ='gini' , min_samples_leaf = 5) #เลือกของนิชามา เพราะ เเม่นสุดตอน fine-tune model\n",
        "mytree_nicha.fit(X_train, y_train)"
      ],
      "execution_count": 48,
      "outputs": [
        {
          "output_type": "execute_result",
          "data": {
            "text/plain": [
              "DecisionTreeClassifier(ccp_alpha=0.0, class_weight=None, criterion='gini',\n",
              "                       max_depth=None, max_features=None, max_leaf_nodes=None,\n",
              "                       min_impurity_decrease=0.0, min_impurity_split=None,\n",
              "                       min_samples_leaf=5, min_samples_split=2,\n",
              "                       min_weight_fraction_leaf=0.0, presort='deprecated',\n",
              "                       random_state=None, splitter='best')"
            ]
          },
          "metadata": {},
          "execution_count": 48
        }
      ]
    },
    {
      "cell_type": "markdown",
      "metadata": {
        "id": "tL8dwHKHr8XQ"
      },
      "source": [
        "## Prediction"
      ]
    },
    {
      "cell_type": "code",
      "metadata": {
        "id": "0lDbKUKor-VI",
        "colab": {
          "base_uri": "https://localhost:8080/"
        },
        "outputId": "a7d039b8-147c-41b5-c3b1-852caa0ed840"
      },
      "source": [
        "final_result = mytree_nicha.predict(X_test) #ทำนาย class \n",
        "final_result"
      ],
      "execution_count": 52,
      "outputs": [
        {
          "output_type": "execute_result",
          "data": {
            "text/plain": [
              "array([9, 9, 6, 0, 8, 5, 7, 8, 4, 2, 7, 6, 2, 6, 0, 4, 1, 3, 6, 3, 9, 2,\n",
              "       2, 1, 0, 6, 2, 6, 5, 5, 0, 2, 7, 3, 5, 6, 6, 7, 6, 5, 8, 6, 2, 8,\n",
              "       2, 7, 4, 7, 6, 6, 6, 1, 6, 8, 6, 4, 1, 2, 0, 2, 4, 3, 4, 0, 4, 9,\n",
              "       5, 4, 1, 7, 5, 0, 4, 1, 0, 0, 5, 8, 3, 0, 0, 2, 0, 0, 2, 1, 4, 0,\n",
              "       8, 8, 9, 9, 1, 1, 5, 8, 4, 1, 4, 6, 0, 4, 3, 4, 1, 0, 3, 1, 6, 7,\n",
              "       5, 4, 5, 0, 5, 4, 3, 3, 4, 0, 1, 4, 5, 5, 3, 1, 2, 1, 9, 0, 7, 4,\n",
              "       1, 4, 9, 6, 5, 4, 9, 8, 4, 3, 4, 6, 6, 2, 3, 9, 3, 7, 2, 9, 3, 0,\n",
              "       5, 1, 2, 4, 8, 8, 8, 2, 6, 9, 0, 5, 2, 3, 5, 4, 7, 1, 4, 8, 3, 0,\n",
              "       1, 7, 6, 5, 0, 8, 2, 7, 9, 9, 4, 2, 2, 8, 5, 3, 2, 9, 0, 4, 8, 2,\n",
              "       3, 9, 4, 0, 5, 7, 0, 2, 3, 1, 2, 1, 8, 6, 7, 8, 7, 3, 0, 4, 9, 1,\n",
              "       7, 2, 0, 0, 2, 4, 2, 4, 1, 7, 0, 6, 5, 0, 2, 2, 5, 2, 5, 7, 5, 6,\n",
              "       0, 5, 6, 5, 3, 0, 9, 6, 2, 5, 1, 4, 5, 2, 1, 1, 3, 2, 3, 3, 2, 9,\n",
              "       8, 9, 3, 3, 5, 2, 6, 1, 3, 4, 5, 9, 6, 0, 7, 4, 4, 6, 2, 0, 9, 8,\n",
              "       5, 3, 3, 9, 0, 5, 8, 2, 1, 6, 5, 9, 1, 3, 1, 0, 8, 3, 6, 1, 6, 4,\n",
              "       8, 5, 0, 9, 7, 7, 1, 8, 1, 8, 2, 6, 3, 7, 6, 8, 5, 1, 9, 1, 5, 9,\n",
              "       0, 1, 1, 7, 0, 5, 2, 0, 6, 8, 8, 6, 0, 4, 2, 1, 1, 5, 9, 6, 6, 4,\n",
              "       1, 1, 2, 4, 3, 8, 1, 6, 3, 6, 2, 8, 7, 0, 1, 7, 5, 0, 8, 3, 4, 3,\n",
              "       2, 1, 3, 0, 7, 4, 0, 6, 2, 5, 3, 1, 1, 3, 5, 0, 0, 4, 5, 7, 9, 9,\n",
              "       9, 6, 5, 5, 0, 4, 1, 0, 6, 8, 2, 7, 0, 5, 5, 5, 2, 0, 9, 5, 6, 0,\n",
              "       6, 8, 8, 9, 2, 2, 5, 9, 2, 7, 7, 6, 1, 6, 6, 1, 3, 4, 4, 6, 6, 5,\n",
              "       3, 2, 8, 5, 2, 5, 7, 8, 8, 0, 0, 5, 0, 8, 3, 1, 7, 7, 8, 8, 6, 5,\n",
              "       1, 6, 6, 7, 0, 2, 2, 2, 0, 6, 1, 3, 9, 9, 8, 1, 8, 8, 4, 3, 1, 9,\n",
              "       1, 9, 8, 1, 0, 3, 8, 4, 5, 4, 4, 6, 9, 5, 2, 6, 8, 8, 6, 3, 1, 9,\n",
              "       3, 4, 9, 7, 4, 7, 4, 4, 0, 4, 2, 0, 8, 2, 8, 1, 7, 1, 2, 7, 0, 8,\n",
              "       1, 4, 1, 0, 1, 4, 1, 4, 9, 9, 4, 9, 4, 9, 5, 7, 4, 1, 0, 3, 2, 1,\n",
              "       4, 7, 0, 9, 6, 6, 2, 7, 9, 4, 7, 3, 4, 4, 5, 1, 6, 2, 4, 5, 2, 8,\n",
              "       3, 8, 2, 7, 4, 8, 1, 3, 0, 8, 7, 7, 4, 0, 1, 5, 6, 0, 0, 4, 3, 8,\n",
              "       9, 0, 2, 0, 0, 7, 0, 3, 1, 3, 3, 2, 1, 5, 3, 2, 5, 1, 7, 5, 1, 2,\n",
              "       2, 7, 7, 4, 0, 1, 2, 5, 0, 6, 9, 4, 9, 0, 6, 5, 6, 4, 6, 0, 7, 1,\n",
              "       6, 2, 4, 6, 7, 2, 6, 7, 7, 8, 7, 9, 5, 8, 6, 6, 3, 8, 1, 6, 5, 9,\n",
              "       9, 1, 5, 5, 3, 8, 8, 0, 1, 1, 9, 9, 1, 0, 8, 2, 9, 4, 8, 6, 2, 1,\n",
              "       5, 3, 1, 3, 6, 4, 7, 1, 6, 1, 4, 1, 3, 1, 3, 0, 1, 1, 5, 7, 8, 1,\n",
              "       5, 9, 6, 6, 0, 7, 2, 5, 0, 0, 0, 4, 1, 0, 4, 6, 7, 0, 1, 8, 4, 9,\n",
              "       6, 6, 2, 9, 1, 4, 4, 6, 5, 4, 1, 9, 4, 6, 7, 4, 8, 4, 1, 2, 6, 0,\n",
              "       3, 8, 2, 3, 9, 1, 7, 5, 6, 5, 2, 1, 5, 7, 0, 1, 6, 0, 9, 8, 7, 7,\n",
              "       1, 9, 3, 8, 8, 8, 3, 9, 4, 1, 5, 4, 2, 1, 3, 4, 3, 6, 6, 2, 8, 1,\n",
              "       0, 4, 7, 3, 0, 8, 4, 7, 7, 4, 4, 1, 8, 2, 0, 4, 9, 1, 3, 1, 2, 3,\n",
              "       7, 7, 2, 0, 8, 5, 6, 0, 3, 6, 8, 7, 5, 9, 3, 1, 7, 0, 5, 9, 0, 5,\n",
              "       3, 6, 8, 4, 1, 2, 5, 2, 5, 3, 9, 6, 8, 2, 4, 2, 6, 7, 0, 9, 7, 7,\n",
              "       2, 6, 6, 9, 3, 9, 1, 7, 5, 6, 1, 3, 4, 9, 7, 7, 6, 2, 9, 2, 3, 8,\n",
              "       5, 6, 2, 7, 4, 3, 4, 7, 6, 5, 9, 5, 0, 2, 0, 9, 5, 0, 7])"
            ]
          },
          "metadata": {},
          "execution_count": 52
        }
      ]
    },
    {
      "cell_type": "code",
      "metadata": {
        "id": "nYN5S7DLr-eX",
        "colab": {
          "base_uri": "https://localhost:8080/"
        },
        "outputId": "7a718db0-be64-4042-8249-b85c40df0f38"
      },
      "source": [
        "mytree.predict_proba(X_test)#ความน่าจะเป็นของเเต่ละคลาส class "
      ],
      "execution_count": 51,
      "outputs": [
        {
          "output_type": "execute_result",
          "data": {
            "text/plain": [
              "array([[0., 0., 0., ..., 0., 0., 1.],\n",
              "       [0., 0., 0., ..., 0., 0., 1.],\n",
              "       [0., 0., 0., ..., 0., 0., 0.],\n",
              "       ...,\n",
              "       [0., 0., 0., ..., 0., 0., 0.],\n",
              "       [1., 0., 0., ..., 0., 0., 0.],\n",
              "       [0., 0., 0., ..., 1., 0., 0.]])"
            ]
          },
          "metadata": {},
          "execution_count": 51
        }
      ]
    },
    {
      "cell_type": "markdown",
      "metadata": {
        "id": "We8uqC4dryY2"
      },
      "source": [
        "## Evaluation"
      ]
    },
    {
      "cell_type": "code",
      "metadata": {
        "id": "vhcBOfMqrWHX"
      },
      "source": [
        "from sklearn.metrics import classification_report"
      ],
      "execution_count": 28,
      "outputs": []
    },
    {
      "cell_type": "code",
      "metadata": {
        "id": "JWo4Mw_jtl9d",
        "colab": {
          "base_uri": "https://localhost:8080/"
        },
        "outputId": "f759688a-3a06-49b8-aa26-8f4ff8c46bda"
      },
      "source": [
        "print(classification_report(y_test, final_result))"
      ],
      "execution_count": 53,
      "outputs": [
        {
          "output_type": "stream",
          "name": "stdout",
          "text": [
            "              precision    recall  f1-score   support\n",
            "\n",
            "           0       0.94      0.95      0.94        99\n",
            "           1       0.69      0.80      0.74        93\n",
            "           2       0.78      0.73      0.76       100\n",
            "           3       0.82      0.82      0.82        79\n",
            "           4       0.74      0.76      0.75        96\n",
            "           5       0.84      0.83      0.84        92\n",
            "           6       0.83      0.95      0.89        85\n",
            "           7       0.89      0.76      0.82        94\n",
            "           8       0.77      0.73      0.75        83\n",
            "           9       0.79      0.76      0.77        78\n",
            "\n",
            "    accuracy                           0.81       899\n",
            "   macro avg       0.81      0.81      0.81       899\n",
            "weighted avg       0.81      0.81      0.81       899\n",
            "\n"
          ]
        }
      ]
    },
    {
      "cell_type": "code",
      "metadata": {
        "id": "CxxCHYUvtt3U",
        "outputId": "685fe9cc-c249-4e11-ec53-251b62a7e565",
        "colab": {
          "base_uri": "https://localhost:8080/"
        }
      },
      "source": [
        "accuracy_score(y_test, final_result)"
      ],
      "execution_count": 54,
      "outputs": [
        {
          "output_type": "execute_result",
          "data": {
            "text/plain": [
              "0.8086763070077865"
            ]
          },
          "metadata": {},
          "execution_count": 54
        }
      ]
    },
    {
      "cell_type": "markdown",
      "metadata": {
        "id": "4gARLhnbc0lC"
      },
      "source": [
        "#สรุป \" 3 Machine Learning Traing Concepts: \"\n",
        "\n",
        "\n",
        "* 0\"  your dat & all data in the world\n",
        "* 1\"  split data -> train test validation\n",
        "* 2\"  finding the best model\n",
        "* 3\" evaluate the model"
      ]
    },
    {
      "cell_type": "markdown",
      "metadata": {
        "id": "VhG0XA2pnyYW"
      },
      "source": [
        "\n",
        "\n"
      ]
    },
    {
      "cell_type": "code",
      "metadata": {
        "id": "gR8GkuvtbLqD"
      },
      "source": [
        ""
      ],
      "execution_count": null,
      "outputs": []
    }
  ]
}