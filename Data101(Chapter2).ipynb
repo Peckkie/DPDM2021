{
  "nbformat": 4,
  "nbformat_minor": 0,
  "metadata": {
    "colab": {
      "name": "Data101(Chapter2).ipynb",
      "provenance": [],
      "collapsed_sections": [],
      "toc_visible": true,
      "authorship_tag": "ABX9TyMmQA3B2i1CqBIskEARfuYc",
      "include_colab_link": true
    },
    "kernelspec": {
      "name": "python3",
      "display_name": "Python 3"
    },
    "language_info": {
      "name": "python"
    },
    "accelerator": "GPU"
  },
  "cells": [
    {
      "cell_type": "markdown",
      "metadata": {
        "id": "view-in-github",
        "colab_type": "text"
      },
      "source": [
        "<a href=\"https://colab.research.google.com/github/Peckkie/DPDM2021/blob/main/Data101(Chapter2).ipynb\" target=\"_parent\"><img src=\"https://colab.research.google.com/assets/colab-badge.svg\" alt=\"Open In Colab\"/></a>"
      ]
    },
    {
      "cell_type": "markdown",
      "metadata": {
        "id": "pw3StxF2AMae"
      },
      "source": [
        "pandas คือ packege ที่มีคนพัฒนาขึ้นมาเพื่อใช้จัดการข้อมูลที่มีลักษณะเป็นตารางซึ่งใน pandas เรียกว่า dataframe"
      ]
    },
    {
      "cell_type": "code",
      "metadata": {
        "id": "cKdx7Q1q-sWi"
      },
      "source": [
        "import pandas #import pandas ->  คีร์เวิดที่จะบอกว่าเราจะใช้ packege อะไร  โหลด packege ที่ชื่อว่า pandas มาใช้\n",
        "import pandas as pd #โหลด packege ที่ชื่อว่า pandas เเล้วตั้งชื่อว่า  pd"
      ],
      "execution_count": 1,
      "outputs": []
    },
    {
      "cell_type": "markdown",
      "metadata": {
        "id": "uo7hy3F9BKxg"
      },
      "source": [
        "ไฟล์ .CSV (csv -> comma separated values)"
      ]
    },
    {
      "cell_type": "code",
      "metadata": {
        "id": "-_UcEs73_LrC"
      },
      "source": [
        "# data_df = pd.read_csv('/content/data.csv') #เปิดไฟล์ csv ตาม localation (path/เส้นทาองของไฟล์) ของ ไฟล์\n",
        "# data_df"
      ],
      "execution_count": 3,
      "outputs": []
    },
    {
      "cell_type": "markdown",
      "metadata": {
        "id": "yuvJ4hQZ6T6R"
      },
      "source": [
        "# Basic Python"
      ]
    },
    {
      "cell_type": "markdown",
      "metadata": {
        "id": "AQ5xfdMG66hh"
      },
      "source": [
        "### การตั้งชื่อตัวแปร Variable\n",
        "ข้อกำหนดในการตั้งชื่อตัวแปร\n",
        "1. ชื่อห้ามมีเว้นวรรค\n",
        "2. (พยายาม)ใช้ภาษาอังกฤษ\n",
        "3. ตัวเล็กกับตัวใหญ่ แตกต่างกัน (case sensitive)\n",
        "4. ห้ามใช้ตัวเลขเป็นตัวหน้า"
      ]
    },
    {
      "cell_type": "code",
      "metadata": {
        "id": "km5DDyW6_LuT",
        "colab": {
          "base_uri": "https://localhost:8080/"
        },
        "outputId": "13a09cf0-e837-49a5-dd98-3c0d7bd3ddca"
      },
      "source": [
        "variable_a = 12 #variable_a ชื่อตัวแปร: เป็นกล่องหนึ่งกล่องที่เอาไว้เก็บข้อมูล\n",
        "variable_b = 3.14 \n",
        "variable_c = 'A'\n",
        "variable_d = 'MSc Stat KKU' # ' (quote) or \" (double quote)\n",
        "print(variable_a) #คำสั่ง print(ชื่อตัวเเปร): เเสดงค่าของตัวเเปร\n",
        "print(variable_b)\n",
        "print(variable_c)\n",
        "print(variable_d)"
      ],
      "execution_count": 4,
      "outputs": [
        {
          "output_type": "stream",
          "text": [
            "12\n",
            "3.14\n",
            "A\n",
            "MSc Stat KKU\n"
          ],
          "name": "stdout"
        }
      ]
    },
    {
      "cell_type": "code",
      "metadata": {
        "id": "t0t0Cp40_LyQ"
      },
      "source": [
        "cat = 2 #ถ้าไม่โชว์อะไรเเสดงว่า output มันไปเก็บที่ memory"
      ],
      "execution_count": 5,
      "outputs": []
    },
    {
      "cell_type": "code",
      "metadata": {
        "id": "t0_zazdl_L3n",
        "colab": {
          "base_uri": "https://localhost:8080/"
        },
        "outputId": "6bab49f2-5247-4078-ce54-51e74c078bfa"
      },
      "source": [
        "cat #show output"
      ],
      "execution_count": 6,
      "outputs": [
        {
          "output_type": "execute_result",
          "data": {
            "text/plain": [
              "2"
            ]
          },
          "metadata": {
            "tags": []
          },
          "execution_count": 6
        }
      ]
    },
    {
      "cell_type": "code",
      "metadata": {
        "colab": {
          "base_uri": "https://localhost:8080/"
        },
        "id": "90Wm9i_g86SH",
        "outputId": "5dbcc59e-9e22-44c0-9140-858cf463cde0"
      },
      "source": [
        "variable_a + variable_b # บวกกันเเล้วเเสดงค่าเลย ไม่ต้องเอาไปเก็บที่ตัวเเปร"
      ],
      "execution_count": 7,
      "outputs": [
        {
          "output_type": "execute_result",
          "data": {
            "text/plain": [
              "15.14"
            ]
          },
          "metadata": {
            "tags": []
          },
          "execution_count": 7
        }
      ]
    },
    {
      "cell_type": "code",
      "metadata": {
        "colab": {
          "base_uri": "https://localhost:8080/"
        },
        "id": "FcHlwHfW9rat",
        "outputId": "623ade4e-cf26-451a-d735-4d547ad1af57"
      },
      "source": [
        "variable_x = variable_a + variable_b # บวกกันเเล้วเอาผลลัพธ์ไปเก็บที่ตัวเเปร variable_x\n",
        "print(variable_x) #เเล้วค่าของตัวเเปร variable_x"
      ],
      "execution_count": 8,
      "outputs": [
        {
          "output_type": "stream",
          "text": [
            "15.14\n"
          ],
          "name": "stdout"
        }
      ]
    },
    {
      "cell_type": "code",
      "metadata": {
        "colab": {
          "base_uri": "https://localhost:8080/"
        },
        "id": "jsFTwI4c97q6",
        "outputId": "2ef82fb6-1423-401f-f248-6c7818ce0720"
      },
      "source": [
        "variable_z = variable_a  #ตัวแปร variable_z มีค่าเท่ากับ variable_a\n",
        "print(variable_z)"
      ],
      "execution_count": 9,
      "outputs": [
        {
          "output_type": "stream",
          "text": [
            "12\n"
          ],
          "name": "stdout"
        }
      ]
    },
    {
      "cell_type": "code",
      "metadata": {
        "colab": {
          "base_uri": "https://localhost:8080/"
        },
        "id": "6kHWtLDN-vpU",
        "outputId": "afb793c4-fed6-4f15-df1f-e3be0dadbbd0"
      },
      "source": [
        "variable_a = variable_a + 3 #เปลี่ยนเเปลงค่าของตัวแปร variable_a ด้วยการ +3 เข้าไป\n",
        "print(variable_a)"
      ],
      "execution_count": 10,
      "outputs": [
        {
          "output_type": "stream",
          "text": [
            "15\n"
          ],
          "name": "stdout"
        }
      ]
    },
    {
      "cell_type": "code",
      "metadata": {
        "colab": {
          "base_uri": "https://localhost:8080/"
        },
        "id": "aZnnrOCv-8Cz",
        "outputId": "4b880fcf-38ce-42aa-9f0a-81b26b6216c2"
      },
      "source": [
        "variable_e = '1'\n",
        "variable_a + variable_e\n",
        "#TypeError: unsupported operand type(s) for +: 'int' and 'str' : จะขึ้น error ที่บอกว่า ค่าของตัวเเปรเรามีค่าเป็น  int str มันบวกกันไม่ได้"
      ],
      "execution_count": 15,
      "outputs": [
        {
          "output_type": "execute_result",
          "data": {
            "text/plain": [
              "16"
            ]
          },
          "metadata": {
            "tags": []
          },
          "execution_count": 15
        }
      ]
    },
    {
      "cell_type": "code",
      "metadata": {
        "colab": {
          "base_uri": "https://localhost:8080/",
          "height": 34
        },
        "id": "7RIQ2-c__u2N",
        "outputId": "257cf798-2419-4891-c8ce-4ebe2f29de3b"
      },
      "source": [
        "variable_c + variable_d # ถ้าตัวเเปรเป็นประเภทเดียวกันบวกกันได้"
      ],
      "execution_count": 14,
      "outputs": [
        {
          "output_type": "execute_result",
          "data": {
            "application/vnd.google.colaboratory.intrinsic+json": {
              "type": "string"
            },
            "text/plain": [
              "'AMSc Stat KKU'"
            ]
          },
          "metadata": {
            "tags": []
          },
          "execution_count": 14
        }
      ]
    },
    {
      "cell_type": "markdown",
      "metadata": {
        "id": "bfpV7X88AcuR"
      },
      "source": [
        "## Casting: int() float() str()"
      ]
    },
    {
      "cell_type": "code",
      "metadata": {
        "colab": {
          "base_uri": "https://localhost:8080/",
          "height": 34
        },
        "id": "2cE0H9_8ANUD",
        "outputId": "ce89374a-becc-4c0a-feae-3a8ec08233e2"
      },
      "source": [
        "variable_e + str(variable_a)#เเปลงให้ข้อมูลเป็นประเภทเดียวกัน"
      ],
      "execution_count": 17,
      "outputs": [
        {
          "output_type": "execute_result",
          "data": {
            "application/vnd.google.colaboratory.intrinsic+json": {
              "type": "string"
            },
            "text/plain": [
              "'115'"
            ]
          },
          "metadata": {
            "tags": []
          },
          "execution_count": 17
        }
      ]
    },
    {
      "cell_type": "code",
      "metadata": {
        "colab": {
          "base_uri": "https://localhost:8080/"
        },
        "id": "koLdg8KSBOE-",
        "outputId": "6a5d792a-a515-4951-e99c-27f7894fac08"
      },
      "source": [
        "variable_a + int(variable_e)"
      ],
      "execution_count": 18,
      "outputs": [
        {
          "output_type": "execute_result",
          "data": {
            "text/plain": [
              "16"
            ]
          },
          "metadata": {
            "tags": []
          },
          "execution_count": 18
        }
      ]
    },
    {
      "cell_type": "code",
      "metadata": {
        "colab": {
          "base_uri": "https://localhost:8080/"
        },
        "id": "cs_3VNeXBOtz",
        "outputId": "ffcda360-bad3-4b41-ef7c-361dd732e467"
      },
      "source": [
        "print(variable_e) #ไม่บอกประเภทขัวเเปร"
      ],
      "execution_count": 19,
      "outputs": [
        {
          "output_type": "stream",
          "text": [
            "1\n"
          ],
          "name": "stdout"
        }
      ]
    },
    {
      "cell_type": "code",
      "metadata": {
        "colab": {
          "base_uri": "https://localhost:8080/"
        },
        "id": "AaaVDce0BSrJ",
        "outputId": "ea025bb9-6e7e-4ef4-ac00-b07e37556bda"
      },
      "source": [
        "type(variable_e)#เเสดงประเภทของตัวเเปร"
      ],
      "execution_count": 20,
      "outputs": [
        {
          "output_type": "execute_result",
          "data": {
            "text/plain": [
              "str"
            ]
          },
          "metadata": {
            "tags": []
          },
          "execution_count": 20
        }
      ]
    },
    {
      "cell_type": "markdown",
      "metadata": {
        "id": "AmDMOHlNB4qV"
      },
      "source": [
        "## โครงสร้างข้อมุล Data structure"
      ]
    },
    {
      "cell_type": "markdown",
      "metadata": {
        "id": "B5cEhS07CS-w"
      },
      "source": [
        "### List"
      ]
    },
    {
      "cell_type": "code",
      "metadata": {
        "colab": {
          "base_uri": "https://localhost:8080/"
        },
        "id": "tfu0d9caBu0u",
        "outputId": "e1034611-3989-4dc9-82dd-7c040d147ec2"
      },
      "source": [
        "list_a = [1,2,3,0,9,'aaz',variable_b] # [ ] (square brackets)\n",
        "list_a "
      ],
      "execution_count": 21,
      "outputs": [
        {
          "output_type": "execute_result",
          "data": {
            "text/plain": [
              "[1, 2, 3, 0, 9, 'aaz', 3.14]"
            ]
          },
          "metadata": {
            "tags": []
          },
          "execution_count": 21
        }
      ]
    },
    {
      "cell_type": "markdown",
      "metadata": {
        "id": "TSas_sDrDY4g"
      },
      "source": [
        "Indexing"
      ]
    },
    {
      "cell_type": "code",
      "metadata": {
        "colab": {
          "base_uri": "https://localhost:8080/"
        },
        "id": "-WdpPSTHCjVM",
        "outputId": "8b90b17b-7b97-44c0-9cf4-c36fb8e53350"
      },
      "source": [
        "#ลำดับจะมีความสำคัญ\n",
        "list_a[4] #ตัวที่ 5 ของ list_a ลำดับเท่ากับ ตัวที่ n -1"
      ],
      "execution_count": 23,
      "outputs": [
        {
          "output_type": "execute_result",
          "data": {
            "text/plain": [
              "9"
            ]
          },
          "metadata": {
            "tags": []
          },
          "execution_count": 23
        }
      ]
    },
    {
      "cell_type": "code",
      "metadata": {
        "colab": {
          "base_uri": "https://localhost:8080/"
        },
        "id": "EVJ4UicQCwv7",
        "outputId": "a83ecaac-7dad-4ca1-9b82-2bcb3daa250e"
      },
      "source": [
        "list_a[0]"
      ],
      "execution_count": 24,
      "outputs": [
        {
          "output_type": "execute_result",
          "data": {
            "text/plain": [
              "1"
            ]
          },
          "metadata": {
            "tags": []
          },
          "execution_count": 24
        }
      ]
    },
    {
      "cell_type": "markdown",
      "metadata": {
        "id": "8_bz5DGnDSt7"
      },
      "source": [
        "negative index ชี้จากข้างหลัง"
      ]
    },
    {
      "cell_type": "code",
      "metadata": {
        "colab": {
          "base_uri": "https://localhost:8080/"
        },
        "id": "A2Xtk_xXC6OQ",
        "outputId": "d101edbb-bcb2-4ddb-908b-d984dfdb45e9"
      },
      "source": [
        "list_a[-2] #นับจากลำดับสุดท้าย มา 2 อันดับ"
      ],
      "execution_count": 25,
      "outputs": [
        {
          "output_type": "execute_result",
          "data": {
            "text/plain": [
              "3.14"
            ]
          },
          "metadata": {
            "tags": []
          },
          "execution_count": 25
        }
      ]
    },
    {
      "cell_type": "code",
      "metadata": {
        "colab": {
          "base_uri": "https://localhost:8080/"
        },
        "id": "QuM7u6g7DIXx",
        "outputId": "a5826cee-9489-4359-8c68-b214b25553ad"
      },
      "source": [
        "list_b = ['pizza', list_a]\n",
        "list_b"
      ],
      "execution_count": 27,
      "outputs": [
        {
          "output_type": "execute_result",
          "data": {
            "text/plain": [
              "['pizza', [1, 2, 3, 0, 9, 'aaz', 3.14]]"
            ]
          },
          "metadata": {
            "tags": []
          },
          "execution_count": 27
        }
      ]
    },
    {
      "cell_type": "code",
      "metadata": {
        "colab": {
          "base_uri": "https://localhost:8080/"
        },
        "id": "_2nBdhFEDrLI",
        "outputId": "23df4d9a-d888-4fa4-d5b6-afa3108c689a"
      },
      "source": [
        "list_b[1][3] #เเสดงค่า 0.9"
      ],
      "execution_count": 28,
      "outputs": [
        {
          "output_type": "execute_result",
          "data": {
            "text/plain": [
              "0"
            ]
          },
          "metadata": {
            "tags": []
          },
          "execution_count": 28
        }
      ]
    },
    {
      "cell_type": "markdown",
      "metadata": {
        "id": "AUr9daN-EFQf"
      },
      "source": [
        "string คือ list ของ ตัวแปร"
      ]
    },
    {
      "cell_type": "code",
      "metadata": {
        "colab": {
          "base_uri": "https://localhost:8080/",
          "height": 34
        },
        "id": "Cg6E5fc-Dw7F",
        "outputId": "b65ad497-1779-425f-a84b-11e1cb936ad7"
      },
      "source": [
        "x = 'shabu'\n",
        "x[3]"
      ],
      "execution_count": 30,
      "outputs": [
        {
          "output_type": "execute_result",
          "data": {
            "application/vnd.google.colaboratory.intrinsic+json": {
              "type": "string"
            },
            "text/plain": [
              "'b'"
            ]
          },
          "metadata": {
            "tags": []
          },
          "execution_count": 30
        }
      ]
    },
    {
      "cell_type": "code",
      "metadata": {
        "colab": {
          "base_uri": "https://localhost:8080/"
        },
        "id": "BWKRBiRqEUKZ",
        "outputId": "7b48507f-f7a3-45ab-d009-3d98f1cbfcd8"
      },
      "source": [
        "print(list_a)\n",
        "print(list_b)"
      ],
      "execution_count": 31,
      "outputs": [
        {
          "output_type": "stream",
          "text": [
            "[1, 2, 3, 0, 9, 'aaz', 3.14]\n",
            "['pizza', [1, 2, 3, 0, 9, 'aaz', 3.14]]\n"
          ],
          "name": "stdout"
        }
      ]
    },
    {
      "cell_type": "code",
      "metadata": {
        "colab": {
          "base_uri": "https://localhost:8080/"
        },
        "id": "7uIZ2U3XEzYr",
        "outputId": "1c220328-3135-40b3-d37d-ea6f38883ddc"
      },
      "source": [
        "list_a + list_b"
      ],
      "execution_count": 32,
      "outputs": [
        {
          "output_type": "execute_result",
          "data": {
            "text/plain": [
              "[1, 2, 3, 0, 9, 'aaz', 3.14, 'pizza', [1, 2, 3, 0, 9, 'aaz', 3.14]]"
            ]
          },
          "metadata": {
            "tags": []
          },
          "execution_count": 32
        }
      ]
    },
    {
      "cell_type": "markdown",
      "metadata": {
        "id": "iRuB3XL6FIOS"
      },
      "source": [
        "### การสร้าง list\n",
        "1. สร้าง list ว่าง\n",
        "2. เพิ่มสมาชิกลงไปใน list"
      ]
    },
    {
      "cell_type": "code",
      "metadata": {
        "colab": {
          "base_uri": "https://localhost:8080/"
        },
        "id": "fNyHaglQE170",
        "outputId": "e12bd1f5-38d8-4422-e443-a7c486d8f237"
      },
      "source": [
        "# (1.) การสร้าง list ว่าง\n",
        "list_aa = []\n",
        "list_aa"
      ],
      "execution_count": 39,
      "outputs": [
        {
          "output_type": "execute_result",
          "data": {
            "text/plain": [
              "[]"
            ]
          },
          "metadata": {
            "tags": []
          },
          "execution_count": 39
        }
      ]
    },
    {
      "cell_type": "code",
      "metadata": {
        "colab": {
          "base_uri": "https://localhost:8080/"
        },
        "id": "PieMHqSqFdsq",
        "outputId": "62207f98-b9cc-4a06-8806-9fc66538b700"
      },
      "source": [
        "list_bb = list()\n",
        "list_bb"
      ],
      "execution_count": 40,
      "outputs": [
        {
          "output_type": "execute_result",
          "data": {
            "text/plain": [
              "[]"
            ]
          },
          "metadata": {
            "tags": []
          },
          "execution_count": 40
        }
      ]
    },
    {
      "cell_type": "code",
      "metadata": {
        "colab": {
          "base_uri": "https://localhost:8080/"
        },
        "id": "DBMtWEgSFap0",
        "outputId": "da18c09c-5941-4b1a-f2a4-d7256c5cb5e8"
      },
      "source": [
        "# (2.) การเพิ่มสมาชิกลงไปใน list '' .append \"\n",
        "#.append : ค่อยๆเติมค่า เข้าไปในตัวแปร list\n",
        "list_aa.append('chiken')\n",
        "list_aa.append('water')\n",
        "list_aa.append('vegetable')\n",
        "list_aa.append('plate')\n",
        "list_aa"
      ],
      "execution_count": 41,
      "outputs": [
        {
          "output_type": "execute_result",
          "data": {
            "text/plain": [
              "['chiken', 'water', 'vegetable', 'plate']"
            ]
          },
          "metadata": {
            "tags": []
          },
          "execution_count": 41
        }
      ]
    },
    {
      "cell_type": "code",
      "metadata": {
        "colab": {
          "base_uri": "https://localhost:8080/",
          "height": 34
        },
        "id": "0_n7GrntGEmC",
        "outputId": "17dfe964-dc8d-44c1-f8bc-98e5fa220bf9"
      },
      "source": [
        "list_aa[-1]"
      ],
      "execution_count": 42,
      "outputs": [
        {
          "output_type": "execute_result",
          "data": {
            "application/vnd.google.colaboratory.intrinsic+json": {
              "type": "string"
            },
            "text/plain": [
              "'plate'"
            ]
          },
          "metadata": {
            "tags": []
          },
          "execution_count": 42
        }
      ]
    },
    {
      "cell_type": "markdown",
      "metadata": {
        "id": "htGxzulmG781"
      },
      "source": [
        "### list slicing/เฉือน,หั่น"
      ]
    },
    {
      "cell_type": "markdown",
      "metadata": {
        "id": "6sg2Cl7fHwY1"
      },
      "source": [
        ": (colon)\n",
        "เราจะตัด list โดยเอาตั้งเเต่ [ตัวก่อนตัวหลัง]\n",
        "\n",
        "ถ้าเป็นสัญลักษณ์ทางคณิตศาสตร์ [ตัวหน้า:ตัวหลัง] -> [ตัวหน้า:ตัวหลัง)"
      ]
    },
    {
      "cell_type": "code",
      "metadata": {
        "colab": {
          "base_uri": "https://localhost:8080/"
        },
        "id": "3RnBgSObGL8K",
        "outputId": "a8896ff0-2965-44ff-9ee1-483fe05d787f"
      },
      "source": [
        "list_aa"
      ],
      "execution_count": 43,
      "outputs": [
        {
          "output_type": "execute_result",
          "data": {
            "text/plain": [
              "['chiken', 'water', 'vegetable', 'plate']"
            ]
          },
          "metadata": {
            "tags": []
          },
          "execution_count": 43
        }
      ]
    },
    {
      "cell_type": "code",
      "metadata": {
        "colab": {
          "base_uri": "https://localhost:8080/"
        },
        "id": "If8rwriTHS4c",
        "outputId": "52b1c5c1-0637-4607-b138-8308bdc66caa"
      },
      "source": [
        "#ต้องการเฉพาะข้อมูลที่มีค่าเป็น water ถึง  vegetable\n",
        "list_aa[1:3]"
      ],
      "execution_count": 44,
      "outputs": [
        {
          "output_type": "execute_result",
          "data": {
            "text/plain": [
              "['water', 'vegetable']"
            ]
          },
          "metadata": {
            "tags": []
          },
          "execution_count": 44
        }
      ]
    },
    {
      "cell_type": "markdown",
      "metadata": {
        "id": "3DN3VQP3Im3R"
      },
      "source": [
        ""
      ]
    },
    {
      "cell_type": "markdown",
      "metadata": {
        "id": "gH559K1IIm9H"
      },
      "source": [
        "Quiz1:ตัดส่วนของ list เหล่านี้มาจาก list_aa\n",
        "1. 'iken'\n",
        "2. 'get'\n",
        "3. 'tab'"
      ]
    },
    {
      "cell_type": "code",
      "metadata": {
        "colab": {
          "base_uri": "https://localhost:8080/"
        },
        "id": "UTRXS4khHdYK",
        "outputId": "ff8bdbd7-888c-40bf-df6e-c47461602799"
      },
      "source": [
        "print('list_aa = ',list_aa)\n",
        "print('1:',list_aa[0][2:6])\n",
        "print('2:',list_aa[2][2:5])\n",
        "print('3:',list_aa[2][4:7])"
      ],
      "execution_count": 52,
      "outputs": [
        {
          "output_type": "stream",
          "text": [
            "list_aa =  ['chiken', 'water', 'vegetable', 'plate']\n",
            "1: iken\n",
            "2: get\n",
            "3: tab\n"
          ],
          "name": "stdout"
        }
      ]
    },
    {
      "cell_type": "code",
      "metadata": {
        "id": "T4wvUe40Jn6Q"
      },
      "source": [
        ""
      ],
      "execution_count": null,
      "outputs": []
    }
  ]
}