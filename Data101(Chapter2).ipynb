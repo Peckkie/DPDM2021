{
  "nbformat": 4,
  "nbformat_minor": 0,
  "metadata": {
    "colab": {
      "name": "Data101(Chapter2).ipynb",
      "provenance": [],
      "collapsed_sections": [],
      "toc_visible": true,
      "authorship_tag": "ABX9TyNflf1cT0sAuggbntDOcvEE",
      "include_colab_link": true
    },
    "kernelspec": {
      "name": "python3",
      "display_name": "Python 3"
    },
    "language_info": {
      "name": "python"
    },
    "accelerator": "GPU"
  },
  "cells": [
    {
      "cell_type": "markdown",
      "metadata": {
        "id": "view-in-github",
        "colab_type": "text"
      },
      "source": [
        "<a href=\"https://colab.research.google.com/github/Peckkie/DPDM2021/blob/main/Data101(Chapter2).ipynb\" target=\"_parent\"><img src=\"https://colab.research.google.com/assets/colab-badge.svg\" alt=\"Open In Colab\"/></a>"
      ]
    },
    {
      "cell_type": "markdown",
      "metadata": {
        "id": "pw3StxF2AMae"
      },
      "source": [
        "pandas คือ packege ที่มีคนพัฒนาขึ้นมาเพื่อใช้จัดการข้อมูลที่มีลักษณะเป็นตารางซึ่งใน pandas เรียกว่า dataframe"
      ]
    },
    {
      "cell_type": "code",
      "metadata": {
        "id": "cKdx7Q1q-sWi"
      },
      "source": [
        "import pandas #import pandas ->  คีร์เวิดที่จะบอกว่าเราจะใช้ packege อะไร  โหลด packege ที่ชื่อว่า pandas มาใช้\n",
        "import pandas as pd #โหลด packege ที่ชื่อว่า pandas เเล้วตั้งชื่อว่า  pd"
      ],
      "execution_count": null,
      "outputs": []
    },
    {
      "cell_type": "markdown",
      "metadata": {
        "id": "uo7hy3F9BKxg"
      },
      "source": [
        "ไฟล์ .CSV (csv -> comma separated values)"
      ]
    },
    {
      "cell_type": "code",
      "metadata": {
        "id": "-_UcEs73_LrC"
      },
      "source": [
        "# data_df = pd.read_csv('/content/data.csv') #เปิดไฟล์ csv ตาม localation (path/เส้นทาองของไฟล์) ของ ไฟล์\n",
        "# data_df"
      ],
      "execution_count": null,
      "outputs": []
    },
    {
      "cell_type": "markdown",
      "metadata": {
        "id": "yuvJ4hQZ6T6R"
      },
      "source": [
        "# Basic Python"
      ]
    },
    {
      "cell_type": "markdown",
      "metadata": {
        "id": "AQ5xfdMG66hh"
      },
      "source": [
        "### การตั้งชื่อตัวแปร Variable\n",
        "ข้อกำหนดในการตั้งชื่อตัวแปร\n",
        "1. ชื่อห้ามมีเว้นวรรค\n",
        "2. (พยายาม)ใช้ภาษาอังกฤษ\n",
        "3. ตัวเล็กกับตัวใหญ่ แตกต่างกัน (case sensitive)\n",
        "4. ห้ามใช้ตัวเลขเป็นตัวหน้า"
      ]
    },
    {
      "cell_type": "code",
      "metadata": {
        "id": "km5DDyW6_LuT",
        "colab": {
          "base_uri": "https://localhost:8080/"
        },
        "outputId": "13a09cf0-e837-49a5-dd98-3c0d7bd3ddca"
      },
      "source": [
        "variable_a = 12 #variable_a ชื่อตัวแปร: เป็นกล่องหนึ่งกล่องที่เอาไว้เก็บข้อมูล\n",
        "variable_b = 3.14 \n",
        "variable_c = 'A'\n",
        "variable_d = 'MSc Stat KKU' # ' (quote) or \" (double quote)\n",
        "print(variable_a) #คำสั่ง print(ชื่อตัวเเปร): เเสดงค่าของตัวเเปร\n",
        "print(variable_b)\n",
        "print(variable_c)\n",
        "print(variable_d)"
      ],
      "execution_count": null,
      "outputs": [
        {
          "output_type": "stream",
          "text": [
            "12\n",
            "3.14\n",
            "A\n",
            "MSc Stat KKU\n"
          ],
          "name": "stdout"
        }
      ]
    },
    {
      "cell_type": "code",
      "metadata": {
        "id": "t0t0Cp40_LyQ"
      },
      "source": [
        "cat = 2 #ถ้าไม่โชว์อะไรเเสดงว่า output มันไปเก็บที่ memory"
      ],
      "execution_count": null,
      "outputs": []
    },
    {
      "cell_type": "code",
      "metadata": {
        "id": "t0_zazdl_L3n",
        "colab": {
          "base_uri": "https://localhost:8080/"
        },
        "outputId": "6bab49f2-5247-4078-ce54-51e74c078bfa"
      },
      "source": [
        "cat #show output"
      ],
      "execution_count": null,
      "outputs": [
        {
          "output_type": "execute_result",
          "data": {
            "text/plain": [
              "2"
            ]
          },
          "metadata": {
            "tags": []
          },
          "execution_count": 6
        }
      ]
    },
    {
      "cell_type": "code",
      "metadata": {
        "colab": {
          "base_uri": "https://localhost:8080/"
        },
        "id": "90Wm9i_g86SH",
        "outputId": "5dbcc59e-9e22-44c0-9140-858cf463cde0"
      },
      "source": [
        "variable_a + variable_b # บวกกันเเล้วเเสดงค่าเลย ไม่ต้องเอาไปเก็บที่ตัวเเปร"
      ],
      "execution_count": null,
      "outputs": [
        {
          "output_type": "execute_result",
          "data": {
            "text/plain": [
              "15.14"
            ]
          },
          "metadata": {
            "tags": []
          },
          "execution_count": 7
        }
      ]
    },
    {
      "cell_type": "code",
      "metadata": {
        "colab": {
          "base_uri": "https://localhost:8080/"
        },
        "id": "FcHlwHfW9rat",
        "outputId": "623ade4e-cf26-451a-d735-4d547ad1af57"
      },
      "source": [
        "variable_x = variable_a + variable_b # บวกกันเเล้วเอาผลลัพธ์ไปเก็บที่ตัวเเปร variable_x\n",
        "print(variable_x) #เเล้วค่าของตัวเเปร variable_x"
      ],
      "execution_count": null,
      "outputs": [
        {
          "output_type": "stream",
          "text": [
            "15.14\n"
          ],
          "name": "stdout"
        }
      ]
    },
    {
      "cell_type": "code",
      "metadata": {
        "colab": {
          "base_uri": "https://localhost:8080/"
        },
        "id": "jsFTwI4c97q6",
        "outputId": "2ef82fb6-1423-401f-f248-6c7818ce0720"
      },
      "source": [
        "variable_z = variable_a  #ตัวแปร variable_z มีค่าเท่ากับ variable_a\n",
        "print(variable_z)"
      ],
      "execution_count": null,
      "outputs": [
        {
          "output_type": "stream",
          "text": [
            "12\n"
          ],
          "name": "stdout"
        }
      ]
    },
    {
      "cell_type": "code",
      "metadata": {
        "colab": {
          "base_uri": "https://localhost:8080/"
        },
        "id": "6kHWtLDN-vpU",
        "outputId": "afb793c4-fed6-4f15-df1f-e3be0dadbbd0"
      },
      "source": [
        "variable_a = variable_a + 3 #เปลี่ยนเเปลงค่าของตัวแปร variable_a ด้วยการ +3 เข้าไป\n",
        "print(variable_a)"
      ],
      "execution_count": null,
      "outputs": [
        {
          "output_type": "stream",
          "text": [
            "15\n"
          ],
          "name": "stdout"
        }
      ]
    },
    {
      "cell_type": "code",
      "metadata": {
        "colab": {
          "base_uri": "https://localhost:8080/"
        },
        "id": "aZnnrOCv-8Cz",
        "outputId": "4b880fcf-38ce-42aa-9f0a-81b26b6216c2"
      },
      "source": [
        "variable_e = '1'\n",
        "variable_a + variable_e\n",
        "#TypeError: unsupported operand type(s) for +: 'int' and 'str' : จะขึ้น error ที่บอกว่า ค่าของตัวเเปรเรามีค่าเป็น  int str มันบวกกันไม่ได้"
      ],
      "execution_count": null,
      "outputs": [
        {
          "output_type": "execute_result",
          "data": {
            "text/plain": [
              "16"
            ]
          },
          "metadata": {
            "tags": []
          },
          "execution_count": 15
        }
      ]
    },
    {
      "cell_type": "code",
      "metadata": {
        "colab": {
          "base_uri": "https://localhost:8080/",
          "height": 34
        },
        "id": "7RIQ2-c__u2N",
        "outputId": "257cf798-2419-4891-c8ce-4ebe2f29de3b"
      },
      "source": [
        "variable_c + variable_d # ถ้าตัวเเปรเป็นประเภทเดียวกันบวกกันได้"
      ],
      "execution_count": null,
      "outputs": [
        {
          "output_type": "execute_result",
          "data": {
            "application/vnd.google.colaboratory.intrinsic+json": {
              "type": "string"
            },
            "text/plain": [
              "'AMSc Stat KKU'"
            ]
          },
          "metadata": {
            "tags": []
          },
          "execution_count": 14
        }
      ]
    },
    {
      "cell_type": "markdown",
      "metadata": {
        "id": "bfpV7X88AcuR"
      },
      "source": [
        "## Casting: int() float() str()"
      ]
    },
    {
      "cell_type": "code",
      "metadata": {
        "colab": {
          "base_uri": "https://localhost:8080/",
          "height": 34
        },
        "id": "2cE0H9_8ANUD",
        "outputId": "ce89374a-becc-4c0a-feae-3a8ec08233e2"
      },
      "source": [
        "variable_e + str(variable_a)#เเปลงให้ข้อมูลเป็นประเภทเดียวกัน"
      ],
      "execution_count": null,
      "outputs": [
        {
          "output_type": "execute_result",
          "data": {
            "application/vnd.google.colaboratory.intrinsic+json": {
              "type": "string"
            },
            "text/plain": [
              "'115'"
            ]
          },
          "metadata": {
            "tags": []
          },
          "execution_count": 17
        }
      ]
    },
    {
      "cell_type": "code",
      "metadata": {
        "colab": {
          "base_uri": "https://localhost:8080/"
        },
        "id": "koLdg8KSBOE-",
        "outputId": "6a5d792a-a515-4951-e99c-27f7894fac08"
      },
      "source": [
        "variable_a + int(variable_e)"
      ],
      "execution_count": null,
      "outputs": [
        {
          "output_type": "execute_result",
          "data": {
            "text/plain": [
              "16"
            ]
          },
          "metadata": {
            "tags": []
          },
          "execution_count": 18
        }
      ]
    },
    {
      "cell_type": "code",
      "metadata": {
        "colab": {
          "base_uri": "https://localhost:8080/"
        },
        "id": "cs_3VNeXBOtz",
        "outputId": "ffcda360-bad3-4b41-ef7c-361dd732e467"
      },
      "source": [
        "print(variable_e) #ไม่บอกประเภทขัวเเปร"
      ],
      "execution_count": null,
      "outputs": [
        {
          "output_type": "stream",
          "text": [
            "1\n"
          ],
          "name": "stdout"
        }
      ]
    },
    {
      "cell_type": "code",
      "metadata": {
        "colab": {
          "base_uri": "https://localhost:8080/"
        },
        "id": "AaaVDce0BSrJ",
        "outputId": "ea025bb9-6e7e-4ef4-ac00-b07e37556bda"
      },
      "source": [
        "type(variable_e)#เเสดงประเภทของตัวเเปร"
      ],
      "execution_count": null,
      "outputs": [
        {
          "output_type": "execute_result",
          "data": {
            "text/plain": [
              "str"
            ]
          },
          "metadata": {
            "tags": []
          },
          "execution_count": 20
        }
      ]
    },
    {
      "cell_type": "markdown",
      "metadata": {
        "id": "AmDMOHlNB4qV"
      },
      "source": [
        "## โครงสร้างข้อมุล Data structure"
      ]
    },
    {
      "cell_type": "markdown",
      "metadata": {
        "id": "B5cEhS07CS-w"
      },
      "source": [
        "### List"
      ]
    },
    {
      "cell_type": "code",
      "metadata": {
        "colab": {
          "base_uri": "https://localhost:8080/"
        },
        "id": "tfu0d9caBu0u",
        "outputId": "e1034611-3989-4dc9-82dd-7c040d147ec2"
      },
      "source": [
        "list_a = [1,2,3,0,9,'aaz',variable_b] # [ ] (square brackets)\n",
        "list_a "
      ],
      "execution_count": null,
      "outputs": [
        {
          "output_type": "execute_result",
          "data": {
            "text/plain": [
              "[1, 2, 3, 0, 9, 'aaz', 3.14]"
            ]
          },
          "metadata": {
            "tags": []
          },
          "execution_count": 21
        }
      ]
    },
    {
      "cell_type": "markdown",
      "metadata": {
        "id": "TSas_sDrDY4g"
      },
      "source": [
        "Indexing"
      ]
    },
    {
      "cell_type": "code",
      "metadata": {
        "colab": {
          "base_uri": "https://localhost:8080/"
        },
        "id": "-WdpPSTHCjVM",
        "outputId": "8b90b17b-7b97-44c0-9cf4-c36fb8e53350"
      },
      "source": [
        "#ลำดับจะมีความสำคัญ\n",
        "list_a[4] #ตัวที่ 5 ของ list_a ลำดับเท่ากับ ตัวที่ n -1"
      ],
      "execution_count": null,
      "outputs": [
        {
          "output_type": "execute_result",
          "data": {
            "text/plain": [
              "9"
            ]
          },
          "metadata": {
            "tags": []
          },
          "execution_count": 23
        }
      ]
    },
    {
      "cell_type": "code",
      "metadata": {
        "colab": {
          "base_uri": "https://localhost:8080/"
        },
        "id": "EVJ4UicQCwv7",
        "outputId": "a83ecaac-7dad-4ca1-9b82-2bcb3daa250e"
      },
      "source": [
        "list_a[0]"
      ],
      "execution_count": null,
      "outputs": [
        {
          "output_type": "execute_result",
          "data": {
            "text/plain": [
              "1"
            ]
          },
          "metadata": {
            "tags": []
          },
          "execution_count": 24
        }
      ]
    },
    {
      "cell_type": "markdown",
      "metadata": {
        "id": "8_bz5DGnDSt7"
      },
      "source": [
        "negative index ชี้จากข้างหลัง"
      ]
    },
    {
      "cell_type": "code",
      "metadata": {
        "colab": {
          "base_uri": "https://localhost:8080/"
        },
        "id": "A2Xtk_xXC6OQ",
        "outputId": "d101edbb-bcb2-4ddb-908b-d984dfdb45e9"
      },
      "source": [
        "list_a[-2] #นับจากลำดับสุดท้าย มา 2 อันดับ"
      ],
      "execution_count": null,
      "outputs": [
        {
          "output_type": "execute_result",
          "data": {
            "text/plain": [
              "3.14"
            ]
          },
          "metadata": {
            "tags": []
          },
          "execution_count": 25
        }
      ]
    },
    {
      "cell_type": "code",
      "metadata": {
        "colab": {
          "base_uri": "https://localhost:8080/"
        },
        "id": "QuM7u6g7DIXx",
        "outputId": "a5826cee-9489-4359-8c68-b214b25553ad"
      },
      "source": [
        "list_b = ['pizza', list_a]\n",
        "list_b"
      ],
      "execution_count": null,
      "outputs": [
        {
          "output_type": "execute_result",
          "data": {
            "text/plain": [
              "['pizza', [1, 2, 3, 0, 9, 'aaz', 3.14]]"
            ]
          },
          "metadata": {
            "tags": []
          },
          "execution_count": 27
        }
      ]
    },
    {
      "cell_type": "code",
      "metadata": {
        "colab": {
          "base_uri": "https://localhost:8080/"
        },
        "id": "_2nBdhFEDrLI",
        "outputId": "23df4d9a-d888-4fa4-d5b6-afa3108c689a"
      },
      "source": [
        "list_b[1][3] #เเสดงค่า 0.9"
      ],
      "execution_count": null,
      "outputs": [
        {
          "output_type": "execute_result",
          "data": {
            "text/plain": [
              "0"
            ]
          },
          "metadata": {
            "tags": []
          },
          "execution_count": 28
        }
      ]
    },
    {
      "cell_type": "markdown",
      "metadata": {
        "id": "AUr9daN-EFQf"
      },
      "source": [
        "string คือ list ของ ตัวแปร"
      ]
    },
    {
      "cell_type": "code",
      "metadata": {
        "colab": {
          "base_uri": "https://localhost:8080/",
          "height": 34
        },
        "id": "Cg6E5fc-Dw7F",
        "outputId": "b65ad497-1779-425f-a84b-11e1cb936ad7"
      },
      "source": [
        "x = 'shabu'\n",
        "x[3]"
      ],
      "execution_count": null,
      "outputs": [
        {
          "output_type": "execute_result",
          "data": {
            "application/vnd.google.colaboratory.intrinsic+json": {
              "type": "string"
            },
            "text/plain": [
              "'b'"
            ]
          },
          "metadata": {
            "tags": []
          },
          "execution_count": 30
        }
      ]
    },
    {
      "cell_type": "code",
      "metadata": {
        "colab": {
          "base_uri": "https://localhost:8080/"
        },
        "id": "BWKRBiRqEUKZ",
        "outputId": "7b48507f-f7a3-45ab-d009-3d98f1cbfcd8"
      },
      "source": [
        "print(list_a)\n",
        "print(list_b)"
      ],
      "execution_count": null,
      "outputs": [
        {
          "output_type": "stream",
          "text": [
            "[1, 2, 3, 0, 9, 'aaz', 3.14]\n",
            "['pizza', [1, 2, 3, 0, 9, 'aaz', 3.14]]\n"
          ],
          "name": "stdout"
        }
      ]
    },
    {
      "cell_type": "code",
      "metadata": {
        "colab": {
          "base_uri": "https://localhost:8080/"
        },
        "id": "7uIZ2U3XEzYr",
        "outputId": "1c220328-3135-40b3-d37d-ea6f38883ddc"
      },
      "source": [
        "list_a + list_b"
      ],
      "execution_count": null,
      "outputs": [
        {
          "output_type": "execute_result",
          "data": {
            "text/plain": [
              "[1, 2, 3, 0, 9, 'aaz', 3.14, 'pizza', [1, 2, 3, 0, 9, 'aaz', 3.14]]"
            ]
          },
          "metadata": {
            "tags": []
          },
          "execution_count": 32
        }
      ]
    },
    {
      "cell_type": "markdown",
      "metadata": {
        "id": "iRuB3XL6FIOS"
      },
      "source": [
        "### การสร้าง list\n",
        "1. สร้าง list ว่าง\n",
        "2. เพิ่มสมาชิกลงไปใน list"
      ]
    },
    {
      "cell_type": "code",
      "metadata": {
        "colab": {
          "base_uri": "https://localhost:8080/"
        },
        "id": "fNyHaglQE170",
        "outputId": "a69c2bf3-f668-4656-a5ca-412e4607dab7"
      },
      "source": [
        "# (1.) การสร้าง list ว่าง\n",
        "list_aa = []\n",
        "list_aa"
      ],
      "execution_count": 1,
      "outputs": [
        {
          "output_type": "execute_result",
          "data": {
            "text/plain": [
              "[]"
            ]
          },
          "metadata": {
            "tags": []
          },
          "execution_count": 1
        }
      ]
    },
    {
      "cell_type": "code",
      "metadata": {
        "colab": {
          "base_uri": "https://localhost:8080/"
        },
        "id": "PieMHqSqFdsq",
        "outputId": "55c70a3f-9d2d-45bf-fd40-de2ba2e927a0"
      },
      "source": [
        "list_bb = list()\n",
        "list_bb"
      ],
      "execution_count": 2,
      "outputs": [
        {
          "output_type": "execute_result",
          "data": {
            "text/plain": [
              "[]"
            ]
          },
          "metadata": {
            "tags": []
          },
          "execution_count": 2
        }
      ]
    },
    {
      "cell_type": "code",
      "metadata": {
        "colab": {
          "base_uri": "https://localhost:8080/"
        },
        "id": "DBMtWEgSFap0",
        "outputId": "fd6aa641-9da5-4258-e9dd-d78b1e3a7e43"
      },
      "source": [
        "# (2.) การเพิ่มสมาชิกลงไปใน list '' .append \"\n",
        "#.append : ค่อยๆเติมค่า เข้าไปในตัวแปร list\n",
        "list_aa.append('chiken')\n",
        "list_aa.append('water')\n",
        "list_aa.append('vegetable')\n",
        "list_aa.append('plate')\n",
        "list_aa"
      ],
      "execution_count": 3,
      "outputs": [
        {
          "output_type": "execute_result",
          "data": {
            "text/plain": [
              "['chiken', 'water', 'vegetable', 'plate']"
            ]
          },
          "metadata": {
            "tags": []
          },
          "execution_count": 3
        }
      ]
    },
    {
      "cell_type": "code",
      "metadata": {
        "colab": {
          "base_uri": "https://localhost:8080/",
          "height": 34
        },
        "id": "0_n7GrntGEmC",
        "outputId": "2b7f21ff-9eeb-439d-9e9e-6c38aba8442e"
      },
      "source": [
        "list_aa[-1]"
      ],
      "execution_count": 4,
      "outputs": [
        {
          "output_type": "execute_result",
          "data": {
            "application/vnd.google.colaboratory.intrinsic+json": {
              "type": "string"
            },
            "text/plain": [
              "'plate'"
            ]
          },
          "metadata": {
            "tags": []
          },
          "execution_count": 4
        }
      ]
    },
    {
      "cell_type": "markdown",
      "metadata": {
        "id": "htGxzulmG781"
      },
      "source": [
        "### Advance list slicing/เฉือน,หั่น"
      ]
    },
    {
      "cell_type": "markdown",
      "metadata": {
        "id": "6sg2Cl7fHwY1"
      },
      "source": [
        ": (colon)\n",
        "เราจะตัด list โดยเอาตั้งเเต่ [ตัวก่อนตัวหลัง]\n",
        "\n",
        "ถ้าเป็นสัญลักษณ์ทางคณิตศาสตร์ [ตัวหน้า:ตัวหลัง] -> [ตัวหน้า:ตัวหลัง)"
      ]
    },
    {
      "cell_type": "code",
      "metadata": {
        "colab": {
          "base_uri": "https://localhost:8080/"
        },
        "id": "3RnBgSObGL8K",
        "outputId": "6cce7654-fb5b-480a-a0ed-116cfd2511be"
      },
      "source": [
        "list_aa"
      ],
      "execution_count": 5,
      "outputs": [
        {
          "output_type": "execute_result",
          "data": {
            "text/plain": [
              "['chiken', 'water', 'vegetable', 'plate']"
            ]
          },
          "metadata": {
            "tags": []
          },
          "execution_count": 5
        }
      ]
    },
    {
      "cell_type": "code",
      "metadata": {
        "colab": {
          "base_uri": "https://localhost:8080/"
        },
        "id": "If8rwriTHS4c",
        "outputId": "dfcb7813-cda2-430d-f79c-d5d6f89aa9b9"
      },
      "source": [
        "#ต้องการเฉพาะข้อมูลที่มีค่าเป็น water ถึง  vegetable\n",
        "list_aa[1:3]"
      ],
      "execution_count": 6,
      "outputs": [
        {
          "output_type": "execute_result",
          "data": {
            "text/plain": [
              "['water', 'vegetable']"
            ]
          },
          "metadata": {
            "tags": []
          },
          "execution_count": 6
        }
      ]
    },
    {
      "cell_type": "markdown",
      "metadata": {
        "id": "3DN3VQP3Im3R"
      },
      "source": [
        ""
      ]
    },
    {
      "cell_type": "markdown",
      "metadata": {
        "id": "gH559K1IIm9H"
      },
      "source": [
        "### **Quiz1:\n",
        "ตัดส่วนของ list เหล่านี้มาจาก list_aa\n",
        "1. 'iken'\n",
        "2. 'get'\n",
        "3. 'tab'"
      ]
    },
    {
      "cell_type": "code",
      "metadata": {
        "colab": {
          "base_uri": "https://localhost:8080/"
        },
        "id": "UTRXS4khHdYK",
        "outputId": "4973002c-9e95-4b02-a2af-5eb635711f77"
      },
      "source": [
        "print('list_aa = ',list_aa)\n",
        "print('1:',list_aa[0][2:6])\n",
        "print('2:',list_aa[2][2:5])\n",
        "print('3:',list_aa[2][4:7])"
      ],
      "execution_count": 7,
      "outputs": [
        {
          "output_type": "stream",
          "text": [
            "list_aa =  ['chiken', 'water', 'vegetable', 'plate']\n",
            "1: iken\n",
            "2: get\n",
            "3: tab\n"
          ],
          "name": "stdout"
        }
      ]
    },
    {
      "cell_type": "code",
      "metadata": {
        "id": "jafpF3lYPKXZ",
        "colab": {
          "base_uri": "https://localhost:8080/"
        },
        "outputId": "8cf614d9-f3a7-4e26-9790-0187db2d5c09"
      },
      "source": [
        "list_aa[2][::-1] # กลับลำดับโดยเอาตัวหลังมาขึ้นก่อน"
      ],
      "execution_count": 9,
      "outputs": [
        {
          "output_type": "stream",
          "text": [
            "1: elbategev\n"
          ],
          "name": "stdout"
        }
      ]
    },
    {
      "cell_type": "code",
      "metadata": {
        "colab": {
          "base_uri": "https://localhost:8080/",
          "height": 34
        },
        "id": "DwSwgq2aTTnF",
        "outputId": "25bd4589-8c35-4c90-eaad-5892178d7f1f"
      },
      "source": [
        "list_aa[2][::2]"
      ],
      "execution_count": 11,
      "outputs": [
        {
          "output_type": "execute_result",
          "data": {
            "application/vnd.google.colaboratory.intrinsic+json": {
              "type": "string"
            },
            "text/plain": [
              "'vgtbe'"
            ]
          },
          "metadata": {
            "tags": []
          },
          "execution_count": 11
        }
      ]
    },
    {
      "cell_type": "markdown",
      "metadata": {
        "id": "l1QMoupvSO74"
      },
      "source": [
        "### Format string  \n",
        "```\n",
        "f'string{variable}'\n",
        "```\n",
        "\n",
        "Format string :: สามารถให้เราใช้ตัวแปรที่มีค่าอยู่เเล้วมาเเทรกตัวเเปรที่เราฟริคไว้เเล้ว"
      ]
    },
    {
      "cell_type": "code",
      "metadata": {
        "colab": {
          "base_uri": "https://localhost:8080/",
          "height": 34
        },
        "id": "auNUn4ZDTuKS",
        "outputId": "1a056125-8536-4fdb-881e-b802bd34b108"
      },
      "source": [
        "f' I like to eat {list_aa[2]} ' # curly brackets "
      ],
      "execution_count": 13,
      "outputs": [
        {
          "output_type": "execute_result",
          "data": {
            "application/vnd.google.colaboratory.intrinsic+json": {
              "type": "string"
            },
            "text/plain": [
              "' I like to eat vegetable '"
            ]
          },
          "metadata": {
            "tags": []
          },
          "execution_count": 13
        }
      ]
    },
    {
      "cell_type": "code",
      "metadata": {
        "colab": {
          "base_uri": "https://localhost:8080/",
          "height": 34
        },
        "id": "BZuV3u55T-j5",
        "outputId": "7dec1af1-a125-4b08-8904-ff5e45e2d5d1"
      },
      "source": [
        "f'9x10 = {9*10} '"
      ],
      "execution_count": 14,
      "outputs": [
        {
          "output_type": "execute_result",
          "data": {
            "application/vnd.google.colaboratory.intrinsic+json": {
              "type": "string"
            },
            "text/plain": [
              "'9x10 = 90 '"
            ]
          },
          "metadata": {
            "tags": []
          },
          "execution_count": 14
        }
      ]
    },
    {
      "cell_type": "markdown",
      "metadata": {
        "id": "OUw94uYrUXpl"
      },
      "source": [
        "## Loop\n",
        ":: การให้ทำงานที่มันซ้ำๆกัน หรือ ทำงานที่คล้ายๆ หลายๆ รอ\n",
        "\n",
        "- stetment:\n",
        "\n",
        "```\n",
        "for ตัวแปรที่เราจะรับค่าจากลิสต์ in ลิสต์ที่ตเช้องการจะวนลูป :\n",
        "    do samethong\n",
        "    do another thong\n",
        "\n",
        "this is uotside the loob :: ไม่อยู่ในลูป for \n",
        "```"
      ]
    },
    {
      "cell_type": "markdown",
      "metadata": {
        "id": "cd5fwogCW-hB"
      },
      "source": [
        "#### ทำงาน คล้าย ๆ กัน"
      ]
    },
    {
      "cell_type": "code",
      "metadata": {
        "colab": {
          "base_uri": "https://localhost:8080/"
        },
        "id": "7Z6nZMw0WbDe",
        "outputId": "9be848b4-afb5-4bc2-e90b-28131a90b2d3"
      },
      "source": [
        "list_aa"
      ],
      "execution_count": 19,
      "outputs": [
        {
          "output_type": "execute_result",
          "data": {
            "text/plain": [
              "['chiken', 'water', 'vegetable', 'plate']"
            ]
          },
          "metadata": {
            "tags": []
          },
          "execution_count": 19
        }
      ]
    },
    {
      "cell_type": "code",
      "metadata": {
        "colab": {
          "base_uri": "https://localhost:8080/"
        },
        "id": "H1ebAf5YUUuQ",
        "outputId": "847d7668-2123-4460-9d9b-71295f9cd413"
      },
      "source": [
        "#ทำงาน คล้าย ๆ กัน\n",
        "for i in list_aa: # i เเต่ละลำดับจะมีค่าเท่าลำดับของตัวเเปร  list_aa\n",
        "    print(f'now i is: {i}')\n",
        "    print(f' I like to eat {i} ')"
      ],
      "execution_count": 21,
      "outputs": [
        {
          "output_type": "stream",
          "text": [
            "now i is: chiken\n",
            " I like to eat chiken \n",
            "now i is: water\n",
            " I like to eat water \n",
            "now i is: vegetable\n",
            " I like to eat vegetable \n",
            "now i is: plate\n",
            " I like to eat plate \n"
          ],
          "name": "stdout"
        }
      ]
    },
    {
      "cell_type": "markdown",
      "metadata": {
        "id": "2Y-tNeWeXCK-"
      },
      "source": [
        "#### ทำงาน ซ้ำ ๆ กัน"
      ]
    },
    {
      "cell_type": "code",
      "metadata": {
        "colab": {
          "base_uri": "https://localhost:8080/"
        },
        "id": "_fSNE4mKWH-q",
        "outputId": "d4445915-04f0-4d43-f7c2-5d57739c6457"
      },
      "source": [
        "#ทำงาน ซ้ำ ๆ กัน\n",
        "for i in list_aa: # i เปลี่ยนไปเรื่อยๆ เเต่ไม่ได้ใช้ค่าในลำดับ ใช้เเค่ลำดับ\n",
        "    print(f'Ha') "
      ],
      "execution_count": 22,
      "outputs": [
        {
          "output_type": "stream",
          "text": [
            "Ha\n",
            "Ha\n",
            "Ha\n",
            "Ha\n"
          ],
          "name": "stdout"
        }
      ]
    },
    {
      "cell_type": "code",
      "metadata": {
        "colab": {
          "base_uri": "https://localhost:8080/"
        },
        "id": "rNhWjnd4XL2f",
        "outputId": "a9ab397e-d285-4dcc-8983-0a1b4f66b5ff"
      },
      "source": [
        "for x in [1,3,5,7,9]:\n",
        "    print(f'this x ={x} x/2= {x/2}')\n"
      ],
      "execution_count": 24,
      "outputs": [
        {
          "output_type": "stream",
          "text": [
            "this x =1 x/2= 0.5\n",
            "this x =3 x/2= 1.5\n",
            "this x =5 x/2= 2.5\n",
            "this x =7 x/2= 3.5\n",
            "this x =9 x/2= 4.5\n"
          ],
          "name": "stdout"
        }
      ]
    },
    {
      "cell_type": "markdown",
      "metadata": {
        "id": "tGOE_1AIYYwz"
      },
      "source": [
        "#### range \n",
        ":: เป็น list ที่ยังไม่รันเข้าไปใน memory\n",
        "เป็นคำสังที่ช่วยในการสร้าง list ของตัวเลข"
      ]
    },
    {
      "cell_type": "code",
      "metadata": {
        "colab": {
          "base_uri": "https://localhost:8080/"
        },
        "id": "Zw49IWHtX9Vr",
        "outputId": "a910269a-f903-4c3b-dc7b-035631ad4056"
      },
      "source": [
        "#range :: เป็น list ที่ยังไม่รันเข้าไปใน memory\n",
        "list(range(10)) #คำสังที่ช่วยในการสร้าง list ของตัวเลข"
      ],
      "execution_count": 25,
      "outputs": [
        {
          "output_type": "execute_result",
          "data": {
            "text/plain": [
              "[0, 1, 2, 3, 4, 5, 6, 7, 8, 9]"
            ]
          },
          "metadata": {
            "tags": []
          },
          "execution_count": 25
        }
      ]
    },
    {
      "cell_type": "code",
      "metadata": {
        "colab": {
          "base_uri": "https://localhost:8080/"
        },
        "id": "CBGEHNrPYNZW",
        "outputId": "620deac0-9ead-4e8c-a3e6-e30ba3efb942"
      },
      "source": [
        "for i in range(100):\n",
        "    print(f'Ha{i}',end='') #end= :: ไม่ต้องเว้นวรรค"
      ],
      "execution_count": 26,
      "outputs": [
        {
          "output_type": "stream",
          "text": [
            "Ha0Ha1Ha2Ha3Ha4Ha5Ha6Ha7Ha8Ha9Ha10Ha11Ha12Ha13Ha14Ha15Ha16Ha17Ha18Ha19Ha20Ha21Ha22Ha23Ha24Ha25Ha26Ha27Ha28Ha29Ha30Ha31Ha32Ha33Ha34Ha35Ha36Ha37Ha38Ha39Ha40Ha41Ha42Ha43Ha44Ha45Ha46Ha47Ha48Ha49Ha50Ha51Ha52Ha53Ha54Ha55Ha56Ha57Ha58Ha59Ha60Ha61Ha62Ha63Ha64Ha65Ha66Ha67Ha68Ha69Ha70Ha71Ha72Ha73Ha74Ha75Ha76Ha77Ha78Ha79Ha80Ha81Ha82Ha83Ha84Ha85Ha86Ha87Ha88Ha89Ha90Ha91Ha92Ha93Ha94Ha95Ha96Ha97Ha98Ha99"
          ],
          "name": "stdout"
        }
      ]
    },
    {
      "cell_type": "code",
      "metadata": {
        "colab": {
          "base_uri": "https://localhost:8080/"
        },
        "id": "dib4LQCZYuHI",
        "outputId": "d61021b3-e189-4add-de08-030f09d7e2d3"
      },
      "source": [
        "list(range(5,10)) #เเสดงค่าของ range คล้ายๆ list slicing"
      ],
      "execution_count": 27,
      "outputs": [
        {
          "output_type": "execute_result",
          "data": {
            "text/plain": [
              "[5, 6, 7, 8, 9]"
            ]
          },
          "metadata": {
            "tags": []
          },
          "execution_count": 27
        }
      ]
    },
    {
      "cell_type": "code",
      "metadata": {
        "colab": {
          "base_uri": "https://localhost:8080/"
        },
        "id": "8pa6D52cZPdH",
        "outputId": "89cc67cd-faa0-4d47-f2fb-bbbebdc9ef6d"
      },
      "source": [
        "list(range(5,100,5)) #range(ค่าเริ่มต้น,ค่าสุดท้าย,เพิ่มที่ละ 5)"
      ],
      "execution_count": 28,
      "outputs": [
        {
          "output_type": "execute_result",
          "data": {
            "text/plain": [
              "[5, 10, 15, 20, 25, 30, 35, 40, 45, 50, 55, 60, 65, 70, 75, 80, 85, 90, 95]"
            ]
          },
          "metadata": {
            "tags": []
          },
          "execution_count": 28
        }
      ]
    },
    {
      "cell_type": "markdown",
      "metadata": {
        "id": "BHyAedBIZ3QQ"
      },
      "source": [
        "#### Nested loop\n",
        ":: ลูปซ้อนลูป"
      ]
    },
    {
      "cell_type": "code",
      "metadata": {
        "colab": {
          "base_uri": "https://localhost:8080/"
        },
        "id": "v9ifri1LZVJD",
        "outputId": "65cdeea6-e32a-4374-a755-937acaed2171"
      },
      "source": [
        "for i in range(3):\n",
        "    # print(f'i = {i}')\n",
        "    for j in range(2):\n",
        "        print(f'i = {i}',f'j = {j}', f'i+j = {i+j}')"
      ],
      "execution_count": 32,
      "outputs": [
        {
          "output_type": "stream",
          "text": [
            "i = 0 j = 0 i+j = 0\n",
            "i = 0 j = 1 i+j = 1\n",
            "i = 1 j = 0 i+j = 1\n",
            "i = 1 j = 1 i+j = 2\n",
            "i = 2 j = 0 i+j = 2\n",
            "i = 2 j = 1 i+j = 3\n"
          ],
          "name": "stdout"
        }
      ]
    },
    {
      "cell_type": "markdown",
      "metadata": {
        "id": "rLJh95ghbGRp"
      },
      "source": [
        "### **Quiz2:\n",
        "- 1)\n",
        "สร้าง list\n",
        "[[1], [1, 1], [1, 1, 1], ..., [1, 1, 1, 1, 1, 1, 1, 1, 1, 1]] โดยใช้ for loop"
      ]
    },
    {
      "cell_type": "code",
      "metadata": {
        "colab": {
          "base_uri": "https://localhost:8080/"
        },
        "id": "jPV0wde7aG1x",
        "outputId": "82746e5b-0767-46af-893b-8a65205e4769"
      },
      "source": [
        "aaa =[]\n",
        "for i in range(10):\n",
        "    aa =[]\n",
        "    for j in range(i+1):\n",
        "        a =1\n",
        "        aa.append(a)\n",
        "    aaa.append(aa)\n",
        "print(aaa)"
      ],
      "execution_count": 39,
      "outputs": [
        {
          "output_type": "stream",
          "text": [
            "[[1], [1, 1], [1, 1, 1], [1, 1, 1, 1], [1, 1, 1, 1, 1], [1, 1, 1, 1, 1, 1], [1, 1, 1, 1, 1, 1, 1], [1, 1, 1, 1, 1, 1, 1, 1], [1, 1, 1, 1, 1, 1, 1, 1, 1], [1, 1, 1, 1, 1, 1, 1, 1, 1, 1]]\n"
          ],
          "name": "stdout"
        }
      ]
    },
    {
      "cell_type": "code",
      "metadata": {
        "id": "aoAZe_BMdyDM",
        "outputId": "bbd4abe2-5c3d-41df-e3d4-8b9320d00cd9",
        "colab": {
          "base_uri": "https://localhost:8080/"
        }
      },
      "source": [
        "#คำตอบ\n",
        "list_ans = []\n",
        "for i in range(1,11):\n",
        "    temp = []\n",
        "    for j in range(i):\n",
        "        temp.append(1)\n",
        "    list_ans.append(temp)\n",
        "print(list_ans)"
      ],
      "execution_count": 42,
      "outputs": [
        {
          "output_type": "stream",
          "text": [
            "[[1], [1, 1], [1, 1, 1], [1, 1, 1, 1], [1, 1, 1, 1, 1], [1, 1, 1, 1, 1, 1], [1, 1, 1, 1, 1, 1, 1], [1, 1, 1, 1, 1, 1, 1, 1], [1, 1, 1, 1, 1, 1, 1, 1, 1], [1, 1, 1, 1, 1, 1, 1, 1, 1, 1]]\n"
          ],
          "name": "stdout"
        }
      ]
    },
    {
      "cell_type": "markdown",
      "metadata": {
        "id": "l3xLD_Yzg2FM"
      },
      "source": [
        "### **Quiz3:\n",
        "สร้าง list\n",
        "[[1], [1, 2], [1, 2, 3], ..., [1, 2, 3, 4, 5, 6, 7, 8, 9, 10]] โดยใช้ for loop"
      ]
    },
    {
      "cell_type": "code",
      "metadata": {
        "id": "_qVkYu3tfclZ",
        "outputId": "a5fd5b5c-8298-4497-83ed-45b102d43c72",
        "colab": {
          "base_uri": "https://localhost:8080/"
        }
      },
      "source": [
        "list_ans = []\n",
        "for i in range(1,11):\n",
        "    temp = []\n",
        "    for j in range(i):\n",
        "        temp.append(j+1)\n",
        "    list_ans.append(temp)\n",
        "print(list_ans)"
      ],
      "execution_count": 45,
      "outputs": [
        {
          "output_type": "stream",
          "text": [
            "[[1], [1, 2], [1, 2, 3], [1, 2, 3, 4], [1, 2, 3, 4, 5], [1, 2, 3, 4, 5, 6], [1, 2, 3, 4, 5, 6, 7], [1, 2, 3, 4, 5, 6, 7, 8], [1, 2, 3, 4, 5, 6, 7, 8, 9], [1, 2, 3, 4, 5, 6, 7, 8, 9, 10]]\n"
          ],
          "name": "stdout"
        }
      ]
    },
    {
      "cell_type": "code",
      "metadata": {
        "id": "ZG5XRty7hQg6"
      },
      "source": [
        ""
      ],
      "execution_count": null,
      "outputs": []
    }
  ]
}